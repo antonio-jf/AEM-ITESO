{
 "cells": [
  {
   "cell_type": "markdown",
   "metadata": {},
   "source": [
    "# 2. Modelos de distribución multivariados\n",
    "## 2.1. Funciones de distribución y densidad\n",
    "\n",
    "<p align=\"right\">\n",
    "Autor: Emmanuel Alcalá\n",
    "<br>\n",
    "<a href=\"https://scholar.google.com.mx/citations?hl=en&user=3URusCgAAAAJ&view_op=list_works&sortby=pubdate\">Google Scholar</a>\n",
    "</p>\n",
    "\n",
    "<!-- <p align=\"left\">\n",
    "<br>\n",
    "<a href=\"https://jealcalat.github.io/Analisis_multivariado/\">Regresar a la página del curso</a>\n",
    "</p> -->\n",
    "\n",
    "---\n"
   ]
  },
  {
   "attachments": {},
   "cell_type": "markdown",
   "metadata": {},
   "source": [
    "### Variables aleatorias, espacios muestrales y realizaciones\n",
    "\n",
    "Suponer que $X$ representa una cantidad desconocida de interés, como la temperatura de una máquina. Si los valores de $X$ son desconocidos o cambian, decimos que $X$ es una variable aleatoria, o **VA**. El conjunto de todos los valores *posibles* se denota como $\\mathcal{X}$, llamado espacio muestral o espacio de estados. Un evento es un *sub*conjunto de valores del espacio muestral. Por ejemplo, si $\\mathcal{X}$ es el lado de un dado al ser lanzado, $\\mathcal{X} = \\{ 1, 2, 3, 4, 5, 6 \\}$, el evento \"cae 1\" se denota $X = 1$, y \"ver un número impar\" se denota $X \\in \\{ 1, 3, 4\\}$, el evento \"cae entre 4 y 6\" como $4 \\leq X \\leq 6$.\n",
    "\n",
    "Vamos a enlazar todos los conceptos:\n",
    "\n",
    "**Variable Aleatoria $X$**\n",
    "\n",
    "Pensemos en $X$ como la temperatura de un horno. Aquí, $X$ no es un valor de temperatura específico. En cambio, es una \"regla\" que nos dice cómo interpretar las mediciones de temperatura que podríamos obtener del horno. Técnicamente, una variable aleatoria es una función que asigna un número real a cada resultado en el espacio muestral. En este caso específico, la función es una función de identidad, lo que significa que $X$ asigna el mismo valor a cada resultado en el espacio muestral. Lo anterior podríamos describirlo como $X: \\mathcal{X} \\rightarrow \\mathbb{R}$, o como $X(\\omega) = \\omega$ para todo $\\omega \\in \\mathcal{X}$, en donde $\\omega$ es un resultado en el espacio muestral. \n",
    "\n",
    "Una variable aleatoria más compleja puede ser el índice de masa corporal. El Índice de Masa Corporal (BMI, por sus siglas en inglés) es una medida comúnmente utilizada para evaluar la proporción de peso a estatura de un individuo. El BMI se calcula mediante la fórmula:\n",
    "\n",
    "$$\n",
    "\\text{BMI} = \\frac{{\\text{peso en kg}}}{{(\\text{altura en m})^2}}\n",
    "$$\n",
    "\n",
    "En el contexto de la teoría de la probabilidad, podemos considerar el BMI como una Variable Aleatoria $X$ que es una función del peso y la altura de un individuo.\n",
    "\n",
    "La Variable Aleatoria $X$ asignaría a cada par $(w, h)$ en el espacio muestral un valor del BMI calculado mediante la fórmula mencionada:\n",
    "\n",
    "$$\n",
    "X(w, h) = \\frac{w}{h^2}\n",
    "$$\n",
    "\n",
    "**Espacio Muestral $\\mathcal{X}$**\n",
    "\n",
    "Para el ejemplo del horno, el espacio muestral $\\mathcal{X}$ podría ser todos los valores que la temperatura del horno podría tomar en una escala específica, digamos, de 100 a 250 grados Celsius: $X={100,101,102,…,250}$.\n",
    "\n",
    "Para el ejemplo del BMI, el espacio muestral $\\mathcal{X}$ podría ser el conjunto de todas las posibles combinaciones de peso y altura para un grupo de individuos. Por ejemplo:\n",
    "\n",
    "$$\n",
    "\\mathcal{X} = \\{ (w, h) | 40 \\leq w \\leq 200, 1.2 \\leq h \\leq 2.5 \\}\n",
    "$$\n",
    "\n",
    "**Realización $x$**\n",
    "\n",
    "Si tomas una lectura real del termómetro en un momento específico y muestra, digamos, 180 grados Celsius, esa medida es una \"realización\" $x$ de la Variable Aleatoria $X$.\n",
    "\n",
    "Para el BMI, una realización $x$ de $X$ sería el BMI específico calculado para una combinación particular de peso y altura. Por ejemplo, si alguien tiene un peso de 70 kg y una altura de 1.75 m, la realización sería $x = X(70, 1.75) = 22.86$.\n",
    "\n",
    "**Eventos**\n",
    "\n",
    "Un \"evento\" es un subconjunto específico de posibles temperaturas que podríamos encontrar interesantes. Por ejemplo:\n",
    "\n",
    "1. El evento \"El horno está por debajo de 150 grados\" se denotaría como $X<150$.\n",
    "2. El evento \"El horno está a una temperatura ideal para hornear pan, entre 175 y 200 grados\" podría denotarse como $175\\leq X \\leq 200$.\n",
    "3. El evento \"tener sobrepeso\", que se podría definir como $X(w, h) \\geq 25$.\n",
    "\n",
    "Nota: generalmente, no se hace distinción entre una variable aleatoria y su realización. Por ejemplo, $X$ y $x$ se usan indistintamente para denotar la realización de una variable aleatoria. Así, aunque técnicamente deberíamos denotar la probabilidad de que el horno esté por debajo de 150 grados como $P(X<150)$, en la práctica, a menudo escribimos $P(x<150)$."
   ]
  },
  {
   "attachments": {},
   "cell_type": "markdown",
   "metadata": {},
   "source": [
    "## 2.1.1. Variables aleatorias y sus distribuciones\n",
    "\n",
    "### VA discretas\n",
    "\n",
    "Si $\\mathcal{X}$ es finito o contable infinito (cada miembro de $\\mathcal{X}$ puede asociarse con un elemento de $\\mathbb{N}$), entonces $X$ es una variable aleatoria *discreta*. En este caso, denotamos la probabilidad de un evento que $X$ toma como $\\text{Pr}(X=x)$. Definimos la **función de masa de probabilidad** ($\\text{\\sf pmf}$ en inglés) como la función que computa la probabilidad de cada valor de la VA\n",
    "\n",
    "$$\n",
    "  p(x) \\overset{\\Delta}{=} \\text{Pr}(X = x)\n",
    "$$\n",
    "\n",
    "$p(x)$ satisface $0\\leq p(x) \\leq 1$ y $\\sum_{x\\in \\mathcal{X}} p(x) = 1$. \n",
    "\n",
    "Algunas propiedades de $\\Pr$ son:\n",
    "\n",
    "1. Si $\\emptyset$ es un conjunto nulo, entonces $\\Pr(\\emptyset)=0$.\n",
    "2. Si $A \\subset B$, entonces $\\Pr(A)\\leq \\Pr(B)$.\n",
    "3. Si $A^c$ denota el complemento de $A$, entonces $\\Pr(A^c)=1-\\Pr(A)$.\n",
    "4. Si $A \\cap B = \\emptyset$ denota la intersección nula de $A$ y $B$, entonces $\\Pr(A \\cup B)=\\Pr(A) + \\Pr(B)$, $\\Pr$ es aditiva para eventos disjuntos.\n",
    "5. De otra manera, para eventos arbitrarios $A, B$, $\\Pr(A \\cup B)=\\Pr(A) + \\Pr(B)-\\Pr(A\\cap B)$. \n",
    "6. Dos eventos $A$ y $B$ son independientes si $\\Pr(A \\cup B)=\\Pr(A)\\Pr(B)$. \n",
    "   Por ejemplo, lanzar una moneda dos veces. Cada lanzamiento es independiente del otro. Si queremos saber la probabilidad de que en ambos lanzamientos salga caras, esa probabilidad sería $\\Pr(H_1\\cap H_2)=(1/2)(1/2)$."
   ]
  },
  {
   "cell_type": "markdown",
   "metadata": {},
   "source": [
    "Podemos imaginarnos la distribución de probabilidad de muchas variables aleatorias como el llenado de un arreglo multidimensional. Por ejemplo, en la siguiente imagen (adaptado de MML-6.2)\n",
    "\n",
    "<p align=\"center\">\n",
    "  <img src=\"./img/joint_dist_tikz.svg\" width='40%' />\n",
    "</p>\n",
    "\n",
    "muestra dos variables aleatorias bivariadas, $X$ (que puede tomar valores $x_j, j = 1, 2, \\dots, M$) y $Y$ (que puede tomar valores $i=1, 2, \\dots, L$). \n",
    "\n",
    "- $c_j$: conteo marginal en $x_j$\n",
    "- $r_i$: conteo marginal en $y_i$\n",
    "- $n_{ij}$: casos en la celda $x_j, y_i$\n",
    "\n",
    "\n",
    "La probabilidad (*conjunta*) de que $X=x, Y=y$ se define como\n",
    "\n",
    "$$\n",
    "  p(x, y) \\overset{\\Delta}{=} \\text{Pr}(X = x, Y = y)\n",
    "$$\n",
    "\n",
    "$p(x, y)$ se lee \"la probabilidad de $x$ y $y$\", en ocasiones escrito usando notación de teoría de conjuntos como $p(x \\cap y)$. Cada entrada (cada celda) en la tabla se calcula contando la cantidad de casos que $(x_j,y_i)$ suceden conjuntamente\n",
    "\n",
    "$$\n",
    "\\text{Pr}(X = x_j, Y = y_i) = \\frac{n_{ij}}{N} \\tag{1}\n",
    "$$\n",
    "\n",
    "En la tabla, si contamos todos los casos de la fila $i$ tenemos la cantidad total de veces que $y_i$ sucede, y lo llamamos $r_i$. Si contamos la columna $j$ tenemos la cantidad total de veces que $x_j$ sucede, y que llamamos $c_j$.\n",
    "\n",
    "La *probabilidad marginal* de $x$, es decir, la probabilidad que $X=x$ sin importar el valor de $Y$ se escribe como $p(x)$ y se calcula como sigue\n",
    "\n",
    "$$\n",
    "  p(X = x_j) = p(x_j) = \\frac{c_j}{N} \\tag{2}\n",
    "$$\n",
    "\n",
    "El número de casos en la columna $j$ es la suma de casos en cada celda *en esa columna*, por lo que $c_j = \\sum_i n_{ij}$ (dejando fija $i$). Por lo tanto, \n",
    "\n",
    "$$\n",
    "  p(x_j) = \\sum_{i=1}^Lp(x_j, y_i) \\tag{3}\n",
    "$$\n",
    "\n",
    "A la ecuación (3) se le conoce como la *regla de la suma*. Notar que se fija la columna $j$ y se itera sobre las filas $i=1, 2, 3$, por lo que por cada columna $j$ tenemos una probabilidad $p(x_j)$, que llamamos *la distribución marginal* de $x$.\n",
    "\n",
    "Si consideramos los casos en los que $X=x_j$, la *fracción* de casos en los que $Y=y_i$ se escribe como $p(Y=y_i | X=x_j)$, probabilidad que es conocida como *probabilidad condicional* de $Y=y_i$ *dado* que $X=x_j$. Se obtiene encontrando la fracción de puntos en una columna $j$ que caen en una celda $(i,j)$ dada\n",
    "\n",
    "$$\n",
    "  p(y_i | x_j) = \\frac{n_{ij}}{c_j} \\tag{4}\n",
    "$$\n",
    "\n",
    "Notar que $c_j$ es la cantidad total de valores para los cuales $X=x_j$, y $n_{ij}$ es una celda particular. Con las ecuaciones (1), (2) y (4) podemos derivar la siguiente relación:\n",
    "\n",
    "$$\n",
    "  \\begin{align*}\n",
    "    p(x_j, y_i) &=  \\frac{n_{ij}}{N} =  \\frac{n_{ij}}{c_j} \\frac{c_j}{N}\\\\\n",
    "                &= p(y_i | x_j)p(x_j) \\tag{5}\n",
    "  \\end{align*}\n",
    "$$\n",
    "\n",
    "La ecuación (5) es conocida como *regla del producto*.\n",
    "\n",
    "Eliminando la notación excesiva, podemos sintetizar las dos reglas como sigue\n",
    "\n",
    "$$\n",
    "  \\begin{align*}\n",
    "    \\text{ \\bf{regla de la suma}}\\quad\\quad   &p(x) = \\sum_{y}p(x,y) \\\\\n",
    "    \\text{ \\bf{regla del producto}}\\quad\\quad &p(x, y) = p(y|x)p(x) \n",
    "  \\end{align*}\n",
    "$$\n",
    "\n",
    "<!-- <p align=\"center\">\n",
    "  <img src=\"img/regla_sum_prod2.png\" width='50%' />\n",
    "</p> -->\n",
    "\n",
    "Considerando la simetría $p(x,y) = p(y,x)$ y que $p(y,x) = p(x|y)p(y)$, encontramos la siguiente relación\n",
    "\n",
    "$$\n",
    " \\begin{align*}\n",
    "  p(y|x)p(x) &=  p(x|y)p(y)\\\\\n",
    "  p(y|x)     &=  \\frac{ p(x|y)p(y)}{p(x)}\n",
    " \\end{align*} \\tag{6}\n",
    "$$\n",
    "\n",
    "Con \n",
    "\n",
    "\\begin{align*}\n",
    "1.  & f(x, y) \\geq 0\\\\\n",
    "2.  & \\sum_{x,y}f(x, y) = 1\n",
    "\\end{align*}\n",
    "\n",
    "La ecuación (6) es llamada *Teorema de Bayes*, y tiene una importancia en ML y estadística que no puede ser exagerada. \n",
    "\n",
    "---"
   ]
  },
  {
   "attachments": {},
   "cell_type": "markdown",
   "metadata": {},
   "source": [
    "## Función de distribución para VA discretas\n",
    "\n",
    "Las funciones de masa de probabilidad (PMF), que ya revisamos, y de distribución de probabilidad (CDF, por sus siglas en inglés, *cumulative distribution function*) son las herramientas básicas para describir una VA discreta. La PMF de una VA $X$ es la función $p(x)$ que asigna una probabilidad a cada valor $x$ de $X$. La CDF de una VA $X$ es la función $F(x)$ que asigna la probabilidad de que $X$ sea menor o igual a $x$.\n",
    "\n",
    "Hay que distinguir entre la función de distribución de una VA y la función de distribución conjunta de dos VA. La función de distribución de una VA $X$ es\n",
    "\n",
    "$$\n",
    "  F(x) = \\Pr(X \\leq x) = \\sum_{x_i \\leq x}f(x_i)\n",
    "$$\n",
    "\n",
    "Para cualesquiera variables $X_1, X_2$, la función de distribución conjunta es\n",
    "\n",
    "$$\n",
    "  F(x_1, x_2) = \\Pr(X_1 \\leq x_1, X_2 \\leq x_2)=\\sum_{X_1 \\leq x_1}\\sum_{X_2 \\leq x_2}f(x_1,x_2)\n",
    "$$"
   ]
  },
  {
   "cell_type": "code",
   "execution_count": 1,
   "metadata": {},
   "outputs": [
    {
     "data": {
      "text/html": [
       "<table>\n",
       "<thead>\n",
       "<tr><th style=\"text-align: right;\">  Y/X</th><th style=\"text-align: right;\">   0</th><th style=\"text-align: right;\">   1</th><th style=\"text-align: right;\">   2</th></tr>\n",
       "</thead>\n",
       "<tbody>\n",
       "<tr><td style=\"text-align: right;\">    0</td><td style=\"text-align: right;\">   0</td><td style=\"text-align: right;\"> 275</td><td style=\"text-align: right;\"> 416</td></tr>\n",
       "<tr><td style=\"text-align: right;\">    1</td><td style=\"text-align: right;\"> 446</td><td style=\"text-align: right;\">2570</td><td style=\"text-align: right;\">1338</td></tr>\n",
       "<tr><td style=\"text-align: right;\">    2</td><td style=\"text-align: right;\">1251</td><td style=\"text-align: right;\">2523</td><td style=\"text-align: right;\"> 396</td></tr>\n",
       "<tr><td style=\"text-align: right;\">    3</td><td style=\"text-align: right;\"> 462</td><td style=\"text-align: right;\"> 323</td><td style=\"text-align: right;\">   0</td></tr>\n",
       "</tbody>\n",
       "</table>"
      ],
      "text/plain": [
       "<IPython.core.display.HTML object>"
      ]
     },
     "metadata": {},
     "output_type": "display_data"
    }
   ],
   "source": [
    "import pandas as pd\n",
    "import numpy as np\n",
    "from IPython.display import display, HTML\n",
    "from tabulate import tabulate\n",
    "import matplotlib.pyplot as plt\n",
    "from scipy.stats import norm\n",
    "\n",
    "# Crear distribución conjunta {X,Y}\n",
    "data = {'Y': np.tile(np.arange(0, 4), 3), \n",
    "        'X': np.repeat(np.arange(0, 3), 4)}\n",
    "\n",
    "data_for_sampling = pd.DataFrame(data)\n",
    "data_for_sampling['wgts'] = [0, 3, 9, 3, 2, 18, 18, 2, 3, 9, 3, 0]\n",
    "\n",
    "# Tomar una muestra aleatoria de la distribución conjunta X,Y, usando wgts como pesos\n",
    "np.random.seed(452)\n",
    "sampled_data = data_for_sampling.sample(n=10000, replace=True, weights='wgts')\n",
    "\n",
    "# Crear una tabla de frecuencia\n",
    "freq_table = pd.crosstab(sampled_data['Y'], sampled_data['X'], rownames=['Y/X'])\n",
    "\n",
    "# Mostrar la tabla en formato HTML\n",
    "display(HTML(tabulate(freq_table, headers='keys', tablefmt='html')))\n",
    "# X en las columnas, Y en las filas"
   ]
  },
  {
   "attachments": {},
   "cell_type": "markdown",
   "metadata": {},
   "source": [
    "## Ejercicios a mano\n",
    "\n",
    "1. La segunda tabla muestra la tabla de frecuencias de la muestra total, ¿cuál es la probabilidad $p(y=0, x=1)$?\n",
    "2. ¿Cuál es la probabilidad $p(x=1 \\mid y=0)$?\n",
    "3. Encontrar $F(X\\leq 1,Y\\leq 2)$"
   ]
  },
  {
   "attachments": {},
   "cell_type": "markdown",
   "metadata": {},
   "source": [
    "<!-- Para el ejercicio 1:\n",
    "\n",
    "Las medias son $\\bar x=0.8, \\bar y = 1.4$, \n",
    "$$\n",
    "  \\mathbf{x}_0 = \\{0.2,-0.8,0.2,0.2,0.2\\}, \\mathbf{y}_0 = \\{0.6,-0.4,-0.4,1.6,-1.4\\}\n",
    "$$\n",
    "el producto punto\n",
    "\n",
    "$$\n",
    "\\mathbf{x}_0^\\top \\mathbf{y}_0 = \n",
    "  \\begin{bmatrix}\n",
    "  0.2 & -0.8 & 0.2 & 0.2 & 0.2\n",
    "  \\end{bmatrix}\n",
    "  \\begin{bmatrix}\n",
    "  0.6\\\\ -0.4\\\\ -0.4\\\\ 1.6\\\\ -1.4\n",
    "  \\end{bmatrix} = 0.2*0.6 + -0.8*-0.4 + 0.2*-0.4 + 0.2*1.6 + 0.2*-1.4 = 0.4\n",
    "$$\n",
    "\n",
    "Dividido entre $1/(n-1)$ es $\\frac{1}{5-1}0.4=0.1$ -->"
   ]
  },
  {
   "cell_type": "markdown",
   "metadata": {},
   "source": [
    "Para el ejercicio 2"
   ]
  },
  {
   "cell_type": "code",
   "execution_count": 8,
   "metadata": {
    "tags": [
     "hide_code"
    ]
   },
   "outputs": [
    {
     "data": {
      "text/html": [
       "<style type=\"text/css\">\n",
       "#T_13acf_row0_col1 {\n",
       "  background-color: red;\n",
       "  color: black;\n",
       "}\n",
       "</style>\n",
       "<table id=\"T_13acf\">\n",
       "  <thead>\n",
       "    <tr>\n",
       "      <th class=\"index_name level0\" >X</th>\n",
       "      <th id=\"T_13acf_level0_col0\" class=\"col_heading level0 col0\" >0</th>\n",
       "      <th id=\"T_13acf_level0_col1\" class=\"col_heading level0 col1\" >1</th>\n",
       "      <th id=\"T_13acf_level0_col2\" class=\"col_heading level0 col2\" >2</th>\n",
       "    </tr>\n",
       "    <tr>\n",
       "      <th class=\"index_name level0\" >Y/X</th>\n",
       "      <th class=\"blank col0\" >&nbsp;</th>\n",
       "      <th class=\"blank col1\" >&nbsp;</th>\n",
       "      <th class=\"blank col2\" >&nbsp;</th>\n",
       "    </tr>\n",
       "  </thead>\n",
       "  <tbody>\n",
       "    <tr>\n",
       "      <th id=\"T_13acf_level0_row0\" class=\"row_heading level0 row0\" >0</th>\n",
       "      <td id=\"T_13acf_row0_col0\" class=\"data row0 col0\" >0.000000</td>\n",
       "      <td id=\"T_13acf_row0_col1\" class=\"data row0 col1\" >0.027500</td>\n",
       "      <td id=\"T_13acf_row0_col2\" class=\"data row0 col2\" >0.041600</td>\n",
       "    </tr>\n",
       "    <tr>\n",
       "      <th id=\"T_13acf_level0_row1\" class=\"row_heading level0 row1\" >1</th>\n",
       "      <td id=\"T_13acf_row1_col0\" class=\"data row1 col0\" >0.044600</td>\n",
       "      <td id=\"T_13acf_row1_col1\" class=\"data row1 col1\" >0.257000</td>\n",
       "      <td id=\"T_13acf_row1_col2\" class=\"data row1 col2\" >0.133800</td>\n",
       "    </tr>\n",
       "    <tr>\n",
       "      <th id=\"T_13acf_level0_row2\" class=\"row_heading level0 row2\" >2</th>\n",
       "      <td id=\"T_13acf_row2_col0\" class=\"data row2 col0\" >0.125100</td>\n",
       "      <td id=\"T_13acf_row2_col1\" class=\"data row2 col1\" >0.252300</td>\n",
       "      <td id=\"T_13acf_row2_col2\" class=\"data row2 col2\" >0.039600</td>\n",
       "    </tr>\n",
       "    <tr>\n",
       "      <th id=\"T_13acf_level0_row3\" class=\"row_heading level0 row3\" >3</th>\n",
       "      <td id=\"T_13acf_row3_col0\" class=\"data row3 col0\" >0.046200</td>\n",
       "      <td id=\"T_13acf_row3_col1\" class=\"data row3 col1\" >0.032300</td>\n",
       "      <td id=\"T_13acf_row3_col2\" class=\"data row3 col2\" >0.000000</td>\n",
       "    </tr>\n",
       "  </tbody>\n",
       "</table>\n"
      ],
      "text/plain": [
       "<pandas.io.formats.style.Styler at 0x7f6dde23f490>"
      ]
     },
     "metadata": {},
     "output_type": "display_data"
    }
   ],
   "source": [
    "# Obtener la distribución conjunta de cada celda\n",
    "xt_prob = freq_table / freq_table.sum().sum()\n",
    "\n",
    "def highlight_cells(x, row=0, col=1):\n",
    "    df = pd.DataFrame('', index=x.index, columns=x.columns)\n",
    "    df.loc[row, col] = 'background-color: red; color: black'\n",
    "    return df\n",
    "\n",
    "styled_table = xt_prob.style.apply(highlight_cells, axis=None)\n",
    "display(styled_table)\n"
   ]
  },
  {
   "cell_type": "markdown",
   "metadata": {},
   "source": [
    "La celda en rojo corresponde a la probabilidad\n",
    "\n",
    "$$\n",
    "  p(y=0, x=1) = \\frac{325}{10000}\n",
    "$$\n",
    "\n",
    "Para el ejercicio 3\n",
    "\n",
    "Ahora, para calcular la probabilidad condicional $p(x=1|y=0)$ debemos obtener la probabilidad marginal de $y$, o $p(y=0)$."
   ]
  },
  {
   "cell_type": "code",
   "execution_count": 10,
   "metadata": {},
   "outputs": [
    {
     "data": {
      "text/html": [
       "<style type=\"text/css\">\n",
       "#T_ea422_row0_col3, #T_ea422_row1_col3, #T_ea422_row2_col3, #T_ea422_row3_col3 {\n",
       "  background-color: #d4d1d1;\n",
       "  color: black;\n",
       "}\n",
       "</style>\n",
       "<table id=\"T_ea422\">\n",
       "  <thead>\n",
       "    <tr>\n",
       "      <th class=\"index_name level0\" >X</th>\n",
       "      <th id=\"T_ea422_level0_col0\" class=\"col_heading level0 col0\" >0</th>\n",
       "      <th id=\"T_ea422_level0_col1\" class=\"col_heading level0 col1\" >1</th>\n",
       "      <th id=\"T_ea422_level0_col2\" class=\"col_heading level0 col2\" >2</th>\n",
       "      <th id=\"T_ea422_level0_col3\" class=\"col_heading level0 col3\" >p(y)</th>\n",
       "    </tr>\n",
       "    <tr>\n",
       "      <th class=\"index_name level0\" >Y/X</th>\n",
       "      <th class=\"blank col0\" >&nbsp;</th>\n",
       "      <th class=\"blank col1\" >&nbsp;</th>\n",
       "      <th class=\"blank col2\" >&nbsp;</th>\n",
       "      <th class=\"blank col3\" >&nbsp;</th>\n",
       "    </tr>\n",
       "  </thead>\n",
       "  <tbody>\n",
       "    <tr>\n",
       "      <th id=\"T_ea422_level0_row0\" class=\"row_heading level0 row0\" >0</th>\n",
       "      <td id=\"T_ea422_row0_col0\" class=\"data row0 col0\" >0</td>\n",
       "      <td id=\"T_ea422_row0_col1\" class=\"data row0 col1\" >275</td>\n",
       "      <td id=\"T_ea422_row0_col2\" class=\"data row0 col2\" >416</td>\n",
       "      <td id=\"T_ea422_row0_col3\" class=\"data row0 col3\" >691/10000=0.0691</td>\n",
       "    </tr>\n",
       "    <tr>\n",
       "      <th id=\"T_ea422_level0_row1\" class=\"row_heading level0 row1\" >1</th>\n",
       "      <td id=\"T_ea422_row1_col0\" class=\"data row1 col0\" >446</td>\n",
       "      <td id=\"T_ea422_row1_col1\" class=\"data row1 col1\" >2570</td>\n",
       "      <td id=\"T_ea422_row1_col2\" class=\"data row1 col2\" >1338</td>\n",
       "      <td id=\"T_ea422_row1_col3\" class=\"data row1 col3\" >4354/10000=0.4354</td>\n",
       "    </tr>\n",
       "    <tr>\n",
       "      <th id=\"T_ea422_level0_row2\" class=\"row_heading level0 row2\" >2</th>\n",
       "      <td id=\"T_ea422_row2_col0\" class=\"data row2 col0\" >1251</td>\n",
       "      <td id=\"T_ea422_row2_col1\" class=\"data row2 col1\" >2523</td>\n",
       "      <td id=\"T_ea422_row2_col2\" class=\"data row2 col2\" >396</td>\n",
       "      <td id=\"T_ea422_row2_col3\" class=\"data row2 col3\" >4170/10000=0.4170</td>\n",
       "    </tr>\n",
       "    <tr>\n",
       "      <th id=\"T_ea422_level0_row3\" class=\"row_heading level0 row3\" >3</th>\n",
       "      <td id=\"T_ea422_row3_col0\" class=\"data row3 col0\" >462</td>\n",
       "      <td id=\"T_ea422_row3_col1\" class=\"data row3 col1\" >323</td>\n",
       "      <td id=\"T_ea422_row3_col2\" class=\"data row3 col2\" >0</td>\n",
       "      <td id=\"T_ea422_row3_col3\" class=\"data row3 col3\" >785/10000=0.0785</td>\n",
       "    </tr>\n",
       "  </tbody>\n",
       "</table>\n"
      ],
      "text/plain": [
       "<pandas.io.formats.style.Styler at 0x7f6dde23f910>"
      ]
     },
     "metadata": {},
     "output_type": "display_data"
    }
   ],
   "source": [
    "# Calculate row sums\n",
    "row_sums = freq_table.sum(axis=1)\n",
    "\n",
    "# Calculate p(y)\n",
    "xt_py = freq_table.copy()\n",
    "xt_py['p(y)'] = [f\"{row_sum}/{freq_table.sum().sum()}={row_sum/freq_table.sum().sum():.4f}\" for row_sum in row_sums]\n",
    "\n",
    "# Style the table\n",
    "def highlight_column(x):\n",
    "    df = pd.DataFrame('', index=x.index, columns=x.columns)\n",
    "    df['p(y)'] = 'background-color: #d4d1d1; color: black'\n",
    "    return df\n",
    "\n",
    "styled_table = xt_py.style.apply(highlight_column, axis=None)\n",
    "display(styled_table)\n"
   ]
  },
  {
   "cell_type": "markdown",
   "metadata": {},
   "source": [
    " Luego, la probabilidad condicional será la probabilidad conjunta $p(y=0, x=1)$ dividida por la probabilidad marginal $p(y=0)$\n",
    "\n",
    "$$\n",
    "  p(x=1|y=0) = \\frac{p(y=0,x=1)}{p(y=0)} = \\frac{325/10000}{725/10000} = \\frac{13}{29}\n",
    "$$\n",
    "\n",
    "En general, la distribución condicional $p(x | y=0)$ se puede obtener como sigue"
   ]
  },
  {
   "cell_type": "code",
   "execution_count": null,
   "metadata": {},
   "outputs": [
    {
     "data": {
      "text/html": [
       "<table class=\" lightable-classic-2 table\" style='font-family: \"Arial Narrow\", \"Source Sans Pro\", sans-serif; width: auto !important; margin-left: auto; margin-right: auto; margin-left: auto; margin-right: auto;'>\n",
       " <thead>\n",
       "  <tr>\n",
       "   <th style=\"text-align:right;\"> X </th>\n",
       "   <th style=\"text-align:right;\"> n </th>\n",
       "   <th style=\"text-align:right;\"> p(x|y=0) </th>\n",
       "  </tr>\n",
       " </thead>\n",
       "<tbody>\n",
       "  <tr>\n",
       "   <td style=\"text-align:right;\"> 1 </td>\n",
       "   <td style=\"text-align:right;\"> 325 </td>\n",
       "   <td style=\"text-align:right;\"> 0.4482759 </td>\n",
       "  </tr>\n",
       "  <tr>\n",
       "   <td style=\"text-align:right;\"> 2 </td>\n",
       "   <td style=\"text-align:right;\"> 400 </td>\n",
       "   <td style=\"text-align:right;\"> 0.5517241 </td>\n",
       "  </tr>\n",
       "</tbody>\n",
       "</table>"
      ]
     },
     "metadata": {},
     "output_type": "display_data"
    }
   ],
   "source": [
    "sampled_data |>\n",
    "  # filtrar la fila\n",
    "  filter(Y == 0) |>\n",
    "  # contar los casos de X condicionales a y=0; crea columna n\n",
    "  count(X) |>\n",
    "  # obtener la funcion de masa\n",
    "  mutate('p(x|y=0)' = n/sum(n)) |>\n",
    "  kbl(escape = FALSE, booktabs = TRUE) |>\n",
    "  kable_classic_2(full_width = F) |>\n",
    "  kable_styling() |>\n",
    "  as.character() |>\n",
    "  display_html()"
   ]
  },
  {
   "attachments": {},
   "cell_type": "markdown",
   "metadata": {},
   "source": [
    "Para el ejercicio 4.\n",
    "\n",
    "$F(X\\leq 1,Y\\leq 2) = p(x=0, y=0)+p(x=0, y=1)+p(x=0, y=2)+p(x=1, y=0)+p(x=1, y=1)+p(x=1, y=2)=0 + 0.0493+0.1273+0.0433+0.0325+0.2544+0.2524=0.7592$"
   ]
  },
  {
   "cell_type": "code",
   "execution_count": null,
   "metadata": {},
   "outputs": [
    {
     "data": {
      "text/html": [
       "<table class=\" lightable-classic-2 table\" style='font-family: \"Arial Narrow\", \"Source Sans Pro\", sans-serif; width: auto !important; margin-left: auto; margin-right: auto; margin-left: auto; margin-right: auto;'>\n",
       " <thead>\n",
       "  <tr>\n",
       "   <th style=\"text-align:left;\">   </th>\n",
       "   <th style=\"text-align:right;\"> 0 </th>\n",
       "   <th style=\"text-align:right;\"> 1 </th>\n",
       "   <th style=\"text-align:right;\"> 2 </th>\n",
       "  </tr>\n",
       " </thead>\n",
       "<tbody>\n",
       "  <tr>\n",
       "   <td style=\"text-align:left;\"> 0 </td>\n",
       "   <td style=\"text-align:right;\"> 0.0000 </td>\n",
       "   <td style=\"text-align:right;\"> 0.0325 </td>\n",
       "   <td style=\"text-align:right;\"> 0.0400 </td>\n",
       "  </tr>\n",
       "  <tr>\n",
       "   <td style=\"text-align:left;\"> 1 </td>\n",
       "   <td style=\"text-align:right;\"> 0.0439 </td>\n",
       "   <td style=\"text-align:right;\"> 0.2544 </td>\n",
       "   <td style=\"text-align:right;\"> 0.1351 </td>\n",
       "  </tr>\n",
       "  <tr>\n",
       "   <td style=\"text-align:left;\"> 2 </td>\n",
       "   <td style=\"text-align:right;\"> 0.1273 </td>\n",
       "   <td style=\"text-align:right;\"> 0.2524 </td>\n",
       "   <td style=\"text-align:right;\"> 0.0418 </td>\n",
       "  </tr>\n",
       "  <tr>\n",
       "   <td style=\"text-align:left;\"> 3 </td>\n",
       "   <td style=\"text-align:right;\"> 0.0433 </td>\n",
       "   <td style=\"text-align:right;\"> 0.0293 </td>\n",
       "   <td style=\"text-align:right;\"> 0.0000 </td>\n",
       "  </tr>\n",
       "</tbody>\n",
       "</table>"
      ]
     },
     "metadata": {},
     "output_type": "display_data"
    }
   ],
   "source": [
    "xt <- table(sampled_data[, c(1, 2)]) |>\n",
    "  as.data.frame.matrix()\n",
    "# obtener la distribución conjunta de cada celda usando la eq 1\n",
    "xt_prob <- (xt / sum(xt))\n",
    "# imprimir la tabla\n",
    "xt_prob |>\n",
    "  kbl(escape = FALSE, booktabs = TRUE) |>\n",
    "  kable_classic_2(full_width = F) |>\n",
    "  kable_styling() |>\n",
    "  as.character() |>\n",
    "  display_html()"
   ]
  },
  {
   "cell_type": "markdown",
   "metadata": {},
   "source": [
    "La distribución condicional de $x|y=y$ puede verse totalmente diferente que la distribución marginal $p(x)$. En la siguiente imagen, tomada de Bishop (PRML-1.1), se ilustra la distribución de dos variables $X$ y $Y$. $X$ puede tomar 9 valores posibles, y $Y$ 2. La distribución marginal de $X$, la distribución independientemente de qué valores tome $Y$, tiene una forma más achatada (más amplia, con mayor varianza) que la distribución condicional a $Y=1$.\n",
    "\n",
    "<p align=\"center\">\n",
    "  <img src=\"img/marginal_conditional.png\" width='60%' />\n",
    "</p>\n"
   ]
  },
  {
   "cell_type": "markdown",
   "metadata": {},
   "source": [
    "#### VA continuas\n",
    "\n",
    "Si $X\\in \\mathbb{R}$ es una función real, se denomina *variable aleatoria continua*, y es más natural especificar que $X$ se encuentre en un intervalo, e.g,, $a \\leq X \\leq b$, dado que en este caso no se puede crear un conjunto *contable* de valores posibles que $X$ puede tomar, pero podemos crear un conjunto finito de *intervalos* en la linea real, y asociar los eventos de $X$ que están en esos intervalos.\n",
    "\n",
    "##### Distribución acumulada (cdf)\n",
    "\n",
    "Sea $A = (X \\leq a)$, $B = (X \\leq b)$ y $C = (a < X \\leq b)$ en donde $a < b$. Tenemos que $B$ es la unión de $A$ y $C$, es decir, $B$ toma todos los valores que toman $A$ y $C$. Dado que $A$ y $C$ son mutuamente excluyentes, la probabilidad de $B$ es\n",
    "\n",
    "$$\\text{Pr}(B) = \\text{Pr}(A) + \\text{Pr}(C) \\tag{7} $$\n",
    "\n",
    "Y la probabilidad de estar en el intervalo $C$ como\n",
    "\n",
    "$$\n",
    "  \\text{Pr}(C) = \\text{Pr}(B) - \\text{Pr}(A) \\tag{8}\n",
    "$$\n",
    "\n",
    "Definimos la distribución de probabilidad acumulada como \n",
    "\n",
    "$$\n",
    "   P(x) \\overset{\\Delta}{=} \\text{Pr}(X \\leq x)\n",
    "$$\n",
    "\n",
    "Con esto, podemos calcular la probabilidad de estar en un intervalo como\n",
    "\n",
    "$$\n",
    "  \\text{Pr}(a < X \\leq b) = P(b) - P(a) \\tag{9}\n",
    "$$"
   ]
  },
  {
   "cell_type": "markdown",
   "metadata": {},
   "source": [
    "La cdf gráficamente tiene esta forma, cuyo eje Y se lee \"probabilidad de que $X$ tome valores igual o menor a $x$\".\n",
    "Notar que esto es una suma acumulada (o integral) que termina en 1."
   ]
  },
  {
   "cell_type": "code",
   "execution_count": 6,
   "metadata": {},
   "outputs": [
    {
     "data": {
      "image/png": "[encoded data removed]",
      "text/plain": [
       "<Figure size 500x300 with 1 Axes>"
      ]
     },
     "metadata": {},
     "output_type": "display_data"
    }
   ],
   "source": [
    "# Setting up plot dimensions\n",
    "fig, axes = plt.subplots(1, 1, figsize=(5, 3))\n",
    "\n",
    "# PDF Gaussiana (Normal)\n",
    "x = np.linspace(-3, 3, 101)\n",
    "y = norm.pdf(x, 0, 1)\n",
    "\n",
    "# CDF Gaussiana\n",
    "y_cdf = norm.cdf(x, 0, 1)\n",
    "axes.plot(x, y_cdf, color='blue', linewidth=2)\n",
    "axes.set_title('cdf gaussiana')\n",
    "axes.set_xlabel('X')\n",
    "axes.set_ylabel(r\"$Pr(X \\leq x)$\");"
   ]
  },
  {
   "attachments": {},
   "cell_type": "markdown",
   "metadata": {},
   "source": [
    "##### Función de densidad\n",
    "\n",
    "Podemos definir la función de densidad de probabilidad, o *pdf*, como la derivada de la cdf\n",
    "\n",
    "$$\n",
    "  p(x) \\overset{\\Delta}{=} \\frac{d}{dx}P(x)\n",
    "$$\n",
    "\n",
    "Alternativamente, en vez de $p(x)$ y $P(x)$ se suele usar, para VA continuas, $f(x)$ y $F(x)$ respectivamente.\n",
    "\n",
    "Y viceversa: la cdf como la integral de la pdf. Dada la pdf, podemos calcular la probabilidad de una variable continua en un intervalo finito como sigue\n",
    "\n",
    "$$\n",
    "  \\text{Pr}(a <X\\leq b) = \\int_a^b p(x)dx = P(b) - P(a) \\tag{10}\n",
    "$$\n",
    "\n",
    "La función de densidad de probabilidad debe satisfacer\n",
    "\n",
    "$$\n",
    "\\begin{align*}\n",
    "1)\\ &f(x) \\geq 0,\\ \\text{para toda } x,\\ -\\infty < x < \\infty\\\\\n",
    "2)\\ &\\int_{-\\infty}^\\infty f(x)\\text{d}x = 1\n",
    "\\end{align*}\n",
    "$$\n",
    "\n",
    "---\n",
    "\n",
    "**Ejemplo con distribución normal**\n",
    "\n",
    "La pdf de una normal está dada por\n",
    "\n",
    "$$\n",
    "  \\mathcal{N}(x\\mid \\mu, \\sigma^2)=  p(x) = \\frac{1}{\\sigma \\sqrt{2\\pi}} e\\left\\{\\frac{-(x-\\mu)^2}{2\\sigma^2}\\right\\} \\tag{10}\n",
    "$$\n",
    "\n",
    "que es gobernada (es decir, su forma y sus valores quedan completamente especificados) por $\\mu$, la media o el valor central, y $\\sigma^2$, llamada la varianza (cuya raíz cuadrada es la desviación estándar $\\sigma$, y está en las unidades de $x$ y $\\mu$).El recíproco de la varianza es llamado *precisión*, $\\tau=1/\\sigma^2$. \n",
    "\n",
    "En la ecuación (10), el término $\\frac{1}{\\sigma \\sqrt{2\\pi}}$ es una constante de *normalización*, que asegura que $p(x)$ sume 1, por lo que\n",
    "\n",
    "$$\n",
    "  \\int_{-\\infty}^\\infty p(x)\\text{d}x=1\n",
    "$$\n",
    "\n",
    "Las siguientes expresiones se cumplen en (10). El valor esperado de $x$ es\n",
    "\n",
    "$$\n",
    "  \\mathbf{E}[x]=\\int_{-\\infty}^\\infty p(x)x\\text{d}x=\\mu\n",
    "$$\n",
    "\n",
    "Y el valor esperado de $x^2$\n",
    "\n",
    "$$\n",
    "  \\mathbf{E}[x^2] =  \\int_{-\\infty}^\\infty p(x)x\\text{d}x^2=\\mu^2 + \\sigma^2\n",
    "$$\n",
    "\n",
    "La varianza está dada por $\\text{var}[x]=\\mathbf{E}[x^2] - \\mathbf{E}[x]^2$, por lo que $\\text{var}[x]=\\sigma^2$.\n",
    "\n",
    "En R se puede confirmar usando `rnorm(n, mean=4, sd=2)`, que regresa una variable aleatoria normalmente distribuida con media de 0 y desviación estándar de 1"
   ]
  },
  {
   "cell_type": "code",
   "execution_count": null,
   "metadata": {},
   "outputs": [
    {
     "data": {
      "text/html": [
       "4.00522921391134"
      ],
      "text/latex": [
       "4.00522921391134"
      ],
      "text/markdown": [
       "4.00522921391134"
      ],
      "text/plain": [
       "[1] 4.005229"
      ]
     },
     "metadata": {},
     "output_type": "display_data"
    },
    {
     "data": {
      "text/html": [
       "8.99872506891619"
      ],
      "text/latex": [
       "8.99872506891619"
      ],
      "text/markdown": [
       "8.99872506891619"
      ],
      "text/plain": [
       "[1] 8.998725"
      ]
     },
     "metadata": {},
     "output_type": "display_data"
    },
    {
     "data": {
      "text/html": [
       "8.99881505706676"
      ],
      "text/latex": [
       "8.99881505706676"
      ],
      "text/markdown": [
       "8.99881505706676"
      ],
      "text/plain": [
       "[1] 8.998815"
      ]
     },
     "metadata": {},
     "output_type": "display_data"
    }
   ],
   "source": [
    "x <- rnorm(100000, 4, 3)\n",
    "mean(x) # media próxima a 4\n",
    "# la varianza de la ecuacion var(x) = E[x^2] - mu^2\n",
    "mean(x^2) - mean(x)^2\n",
    "# la varianza usando la función base de R\n",
    "var(x) # notar que no ingresamos la varianza en rnorm, sino sd"
   ]
  },
  {
   "cell_type": "markdown",
   "metadata": {},
   "source": [
    "En la siguiente figura a la izquierda se representa una variable aleatoria normal con media 0 y desviación estándar de 1, conocida como distribución normal estándar, y representada como $\\mathcal{N}(\\mu=0, \\sigma = 1)$ o simplemente $\\mathcal{N}(0, 1)$. Para la densidad de probabilidad normal, en R usamos `dnorm(x, mean, sd)`, que nos retorna la densidad en `x`.\n",
    "\n",
    "A la derecha se representa el área equivalente en la cdf, usando `pnorm`."
   ]
  },
  {
   "cell_type": "code",
   "execution_count": 12,
   "metadata": {},
   "outputs": [
    {
     "data": {
      "image/png": "[encoded data removed]",
      "text/plain": [
       "<Figure size 1300x400 with 2 Axes>"
      ]
     },
     "metadata": {},
     "output_type": "display_data"
    }
   ],
   "source": [
    "# Setting up plot dimensions\n",
    "fig, axes = plt.subplots(1, 2, figsize=(13, 4))\n",
    "\n",
    "# PDF Gaussiana (Normal)\n",
    "x = np.linspace(-3, 3, 101)\n",
    "y = norm.pdf(x, 0, 1)\n",
    "\n",
    "axes[0].plot(x, y, color='blue', linewidth=2)\n",
    "axes[0].set_title('pdf gaussiana (normal)')\n",
    "axes[0].set_ylabel('p(x)')\n",
    "\n",
    "from_x, to_x = -1.5, 1.5\n",
    "sx = np.concatenate([[from_x], np.arange(from_x, to_x, 0.01), [to_x]])\n",
    "sy = np.concatenate([[0], norm.pdf(np.arange(from_x, to_x, 0.01)), [0]])\n",
    "\n",
    "axes[0].fill(sx, sy, color='#B3B3FF')\n",
    "axes[0].text(-1, norm.pdf(0, 0) / 2, r\"$\\int_{-1,5}^{1.5} p(x) dx$\", fontsize=12)\n",
    "axes[0].text(-1, norm.pdf(0, 0) / 3, \"= P(1.5) - P(-1.5)\", fontsize=12)\n",
    "\n",
    "# CDF Gaussiana\n",
    "y_cdf = norm.cdf(x, 0, 1)\n",
    "axes[1].plot(x, y_cdf, color='blue', linewidth=2)\n",
    "axes[1].set_title('cdf gaussiana')\n",
    "axes[1].set_xlabel('X')\n",
    "axes[1].set_ylabel(r\"$Pr(X \\leq x)$\")\n",
    "\n",
    "sy_cdf = np.concatenate([[0], norm.cdf(np.arange(from_x, to_x, 0.01)), [0]])\n",
    "axes[1].fill_between(sx, sy_cdf, color='#B3B3FF')\n",
    "\n",
    "plt.show()\n"
   ]
  },
  {
   "cell_type": "markdown",
   "metadata": {},
   "source": [
    "En `R`, la función de densidad acumulada ($\\text{\\sf cdf}$) para la distribución normal se obtiene con `pnorm(x, mean, sd)` en donde `x` es un vector de *cuantiles*, que es el, o los, valores en $x$ para el cual(es) deseamos obtener su probabilidad (básicamente, un cuantil es la función inversa de $P(x)$).\n",
    "\n",
    "Para obtener el área sombreada en la anterior figura, usamos `pnorm(b) - pnorm(a)`"
   ]
  },
  {
   "cell_type": "code",
   "execution_count": null,
   "metadata": {},
   "outputs": [
    {
     "data": {
      "text/html": [
       "0.866385597462284"
      ],
      "text/latex": [
       "0.866385597462284"
      ],
      "text/markdown": [
       "0.866385597462284"
      ],
      "text/plain": [
       "[1] 0.8663856"
      ]
     },
     "metadata": {},
     "output_type": "display_data"
    }
   ],
   "source": [
    "pnorm(1.5, mean = 0, sd = 1) - pnorm(-1.5, 0, 1)\n",
    "# mean = 0, sd = 1 están por defecto, pero los ponemos para mayor claridad"
   ]
  },
  {
   "attachments": {},
   "cell_type": "markdown",
   "metadata": {},
   "source": [
    "El área que cubre `pnorm(1.5)` va desde $-\\infty$ a 1.5, y el área de `pnorm(-1.5)` va de $-\\infty$ a -1.5. Matemáticamente, lo anterior se expresaría como\n",
    "\n",
    "$$\n",
    "  P(-1.5 < X < 1.5) = \\int_{-1.5}^{1.5}\\frac{1}{\\sigma \\sqrt{2\\pi}} e\\left\\{\\frac{-(x-\\mu)^2}{2\\sigma^2}\\right\\}\\text{d}x\n",
    "$$"
   ]
  },
  {
   "attachments": {},
   "cell_type": "markdown",
   "metadata": {},
   "source": [
    "En contraste con las **VA** discretas, la probabilidad de que una variable continua $X\\in \\mathbb{R}$ tome un valor particular, $p(X = x)$, es 0. Es como integrar la función de densidad de la siguiente manera:\n",
    "\n",
    "$$\n",
    "  Pr(a \\leq X \\leq a) = \\int_a^b f(x)dx = P(a) - P(a)\n",
    "$$\n",
    "\n",
    "Por esta razón, con $\\text{\\sf pdf}$ solo calculamos probabilidades en intervalos.\n",
    "\n",
    "---\n",
    "\n",
    "Para VA continuas, las reglas de suma y producto son\n",
    "\n",
    "$$\n",
    "  \\begin{align*}\n",
    "    \\text{ \\bf{regla de la suma}}  \\quad\\quad   &f(x) = \\int_y f(x,y)\\text{d}y \\\\\n",
    "    \\text{ \\bf{regla del producto}}\\quad\\quad &f(x, y) = f(y|x)f(x) \n",
    "  \\end{align*}\n",
    "$$\n",
    "\n",
    "En donde $f(x)$ es la función de probabilidad marginal, y se integra *con respecto a* $y$. Lo mismo si queremos encontrar la marginal de $y$ tenemos que integrar $f(x,y)$ *con respecto a* $x$.\n",
    "\n",
    "## Función acumulada de probabilidad conjunta\n",
    "\n",
    "Sean $X_1, X_2$ variables aleatorias continuas con función de distribución conjunta $F(x_1, x_2)$. La función de distribución bivariante $F(x_1, x_2)$ es\n",
    "\n",
    "$$\n",
    "  F(x_1, x_2) = P(X_1 \\leq x_1, X_2 \\leq x_2),\\quad -\\infty < x_1 < \\infty, -\\infty < x_2<\\infty\n",
    "$$\n",
    "\n",
    "Si existe una función no negativa $f(x_1, x_2)$, se obtiene\n",
    "\n",
    "\\begin{align*}\n",
    "  F(x_1, x_2) = \\int_{-\\infty}^{x_2} \\int_{-\\infty}^{x_1} f(t_1, t_2)\\text{d}t_1\\text{d}t_2\n",
    "\\end{align*}\n",
    "\n",
    "Para toda $-\\infty < x_1<\\infty, -\\infty < x_2<\\infty$. En donde $t_1, t_2$ son solo variables de integración.\n",
    "\n",
    "Satisfacen\n",
    "\n",
    "\\begin{align*}\n",
    "  1. &f(x_1, x_2)\\geq 0\\quad \\text{para toda }x_1, x_2\\\\\n",
    "  2. &\\int_{-\\infty}^\\infty f(x_1, x_2) \\text{d}x_1\\text{d}x_2= 1\n",
    "\\end{align*}"
   ]
  },
  {
   "attachments": {},
   "cell_type": "markdown",
   "metadata": {},
   "source": [
    "**Ejemplos**\n",
    "\n",
    "1. Dada $f(y) = cy^2,\\ 0 \\leq y \\leq 2$ y $f(y)=0$ en cualquier otra parte, encuentre el valor de $c$ para el cuál $f(y)$ es una función de densidad válida.\n",
    "\n",
    ">*Solución*\n",
    "\n",
    ">Para obtener $c$, requerimos un valor tal que se cumpla\n",
    "\n",
    ">$$\n",
    ">  F(y) = \\int_{-\\infty}^\\infty f(y)\\text{d}y = 1\n",
    ">$$\n",
    ">\n",
    ">Lo que nos da\n",
    ">$$\n",
    ">  F(y) = \\int_0^2 cy^2\\text{d}y=\\frac{cy^3}{3} \\Bigg|_0^2=\\frac{8}{3}c\n",
    ">$$\n",
    ">\n",
    ">Sustituyendo $\\frac{8}{3}c=1$ nos da que $c=3/8$.\n",
    "\n",
    "2. Encontrar $P(1\\leq Y \\leq 2)$ para la función del ejemplo 1, también encontrar $P(1< Y < 2)$\n",
    "\n",
    ">*Solución*\n",
    "\n",
    ">Dado que ya encontramos el valor de  que satisface $F(y) = \\int_{-\\infty}^\\infty f(y)\\text{d}y = 1$, la sustituimos.\n",
    ">\n",
    ">$$\n",
    ">  P(1\\leq Y \\leq 2) = \\int_1^2 f(y)\\text{d}y= \\frac{3}{8}\\int_1^2 y^2\\text{d}y=7/8\n",
    ">$$\n",
    "\n",
    "3. Como una medida de inteligencia, a unos ratones se les toma el tiempo que tardan para pasar por un laberinto para llegar a una recompensa (alimento). El tiempo en segundos necesario para cualquier ratón es una variable aleatoria $Y$ con función de densidad dada por\n",
    "\n",
    "$$\n",
    "  f(y) = \\begin{cases}\n",
    "    \\frac{b}{y^2},\\ &y\\geq b\\\\\n",
    "    0,\\ &\\text{en cualquier otro punto}\n",
    "  \\end{cases}\n",
    "$$\n",
    "\n",
    "En donde $b$ es el tiempo mínimo posible para recorrer el laberinto. Demostrar que $f(y)$ tiene las propiedades de una función de densidad.\n",
    "\n",
    ">*Solución*\n",
    "\n",
    ">Dado que $b$ es un tiempo, no puede ser negativo. Además, $f(y)$ tiene el término cuadrático $y^2$, que tampoco puede ser negativo, por lo que $f(y) \\geq 0$.\n",
    ">\n",
    ">El mínimo valor que puede tener $y$ es $b$. Por lo tanto\n",
    ">\n",
    ">\\begin{align*}\n",
    ">F(y) &= \\int_{b}^\\infty \\frac{b}{y^2}\\text{d}y= 1\\\\  \n",
    ">     &= \\frac{by^{-2+1}}{-2+1}\\Bigg|_b^\\infty=-\\frac{b}{y}\\Bigg|_b^\\infty=0-\\left(-\\frac{b}{b}\\right)=1\n",
    ">\\end{align*}\n",
    "\n",
    "4. En el ejemplo 1 determinamos que $f(y)=(3/8)y^2$ para $0\\leq y \\leq 2, f(y)=0$ en cualquier otra parte. Si la variable $Y$ tiene esta función de densidad, encontrar $\\mu=\\mathbf{E}[Y], \\sigma^2=\\text{var}[Y]$, recordando que $\\text{var}[x]=\\mathbf{E}[x^2]-(\\mathbf{E}[x])^2$.\n",
    "\n",
    ">*Solución*\n",
    "\n",
    ">\\begin{align*}\n",
    ">\\mathbf{E}[Y] &= \\int_{-\\infty}^\\infty yf(y)\\text{d}y= \\int_{-\\infty}^\\infty y\\frac{3y^2}{8}\\text{d}y = \\frac{3}{8}\\cdot\\frac{1}{4}y^4 \\Bigg|_0^2=1.5\\\\\n",
    ">\\text{para } &\\mathbf{E}[Y^2]\\quad \\text{se obtiene}\\\\\n",
    ">\\mathbf{E}[Y^2] &= \\int_{-\\infty}^\\infty y^2f(y)\\text{d}y= \\int_{-\\infty}^\\infty y^2\\frac{3y^2}{8}\\text{d}y = \\frac{3}{8}\\cdot\\frac{1}{5}y^5 \\Bigg|_0^2=2.4\\\\\n",
    ">\\text{por }&\\text{lo que}\\\\ \n",
    ">\\text{var}[x]&=\\mathbf{E}[x^2]-(\\mathbf{E}[x])^2 = 2.4 - 1.5^2 = 0.15\n",
    ">\\end{align*}\n",
    "\n",
    "5. Una partícula radiactiva se localiza en un cuadrado con lados de longitud 1. Denotar como $Y_1, Y_2$ las coordenadas de la ubicación de la partícula. Un modelo razonable para el histograma de frecuencia relativa para $Y_1, Y_2$ es la función bivariante de densidad\n",
    "\n",
    "$$\n",
    "  f(y_1, y_2) = \\begin{cases}\n",
    "  1,\\quad & 0 \\leq y_1 \\leq 1, 0 \\leq y_2 \\leq 1\\\\\n",
    "  0, \\quad & \\text{en cualquier otro punto}\n",
    "  \\end{cases}\n",
    "$$\n",
    "\n",
    "Econtrar $F(y_1=0.2, y_2=0.4)$, que es lo mismo que encontrar la probabilidad $P(y_1<0.2, y_2<0.4)$.\n",
    "\n",
    ">*Solución*\n",
    "\n",
    ">\\begin{align}\n",
    ">F(y_1=0.2, y_2=0.4)%\n",
    ">      &= \\int_{-\\infty}^{0.4} \\int_{-\\infty}^{0.2} f(y_1, y_2)\\text{d}y_1\\text{d}y_2 \\\\\n",
    ">      &= \\int_{-\\infty}^{0.4} \\int_{-\\infty}^{0.2} (1)\\text{d}y_1\\text{d}y_2 \\\\\n",
    ">      &= \\int_{-\\infty}^{0.4} \\left(\\int_{-\\infty}^{0.2} \\text{d}y_1\\right)\\text{d}y_2\\\\\n",
    ">      &= \\int_{-\\infty}^{0.4} \\Bigg( y_1\\Big|_0^{0.2} \\Bigg)\\text{d}y_2\\\\\n",
    ">      &= \\int_{-\\infty}^{0.4} 0.2 \\text{d}y_2 = 0.2y_2\\Big|_0^{0.4} = 0.08\n",
    ">\\end{align}"
   ]
  },
  {
   "attachments": {},
   "cell_type": "markdown",
   "metadata": {},
   "source": [
    "6. Sea\n",
    "\n",
    "---\n",
    "\n",
    "$$\n",
    "  f(y_1, y_2) = \\begin{cases}\n",
    "    2y_1\\quad 0 \\leq y_1 \\leq, 0 \\leq y_2 \\leq\\\\\n",
    "    0,\\quad \\text{en otro punto}\n",
    "  \\end{cases}\n",
    "$$\n",
    "\n",
    "a) Obtener las funciones de densidad marginal $f(y_1)$ y $f(y_2)$.\n",
    "b) Obtener la función condicional $f(y_1 | y_2)$\n",
    "c) Demostrar si las variables $Y_1, Y_2$ son independientes.\n",
    "\n",
    ">*Solución*\n",
    "\n",
    ">a) La marginal de $f(y_1)$ se obtiene aplicando la regla\n",
    ">$$\n",
    ">  f(x) = \\int_{-\\infty}^\\infty f(x, y)\\text{d}y\n",
    ">$$\n",
    "> Notar que para obtener la marginal de la variable $x$ se integra la función conjunta con respecto a $y$. Esto significa que trataremos a $x$ como *constante*.\n",
    "> En este caso, como tenemos $y_1, y_2$ en vez de $x, y$, la marginal sería\n",
    ">$$\n",
    ">  f(y_1)= \\int_{-\\infty}^\\infty f(y_1, y_2)\\text{d}y_2=\\int_{0}^12y_1\\text{d}y_2\n",
    ">$$\n",
    ">Y trataremos a $y_1$ como constante, y usamos la regla $\\int \\text{d}x=x$\n",
    ">$$\n",
    ">  f(y_1)=\\int_{0}^12y_1\\text{d}y_2=2y_1\\int_{0}^1\\text{d}y_2=2y_1\\left(y_2\\Big|_0^1\\right)=2y_1\n",
    ">$$\n",
    "> Para $f(y_2)$ seguimos un razonamiento similar.\n",
    ">$$\n",
    ">  f(y_2)= \\int_{-\\infty}^\\infty f(y_1, y_2)\\text{d}y_1=\\int_{0}^12y_1\\text{d}y_1\n",
    ">$$\n",
    ">Pero ahora integramos con respecto a $y_1$. Aplicamos la regla $\\int x^n \\text{d}x=\\frac{x^{n+1}}{n+1}$\n",
    ">$$\n",
    ">  f(y_2)=\\int_{0}^12y_1\\text{d}y_1=2\\frac{y_1^2}{2}\\Big|_0^1=y_1^2\\Big|_0^1=1\n",
    ">$$\n",
    ">La marginal de $y_2$ es una constante.\n",
    ">b) La función condicional se puede obtener con la siguiente regla\n",
    ">$$\n",
    ">  f(x|y) = \\frac{f(x, y)}{f(x)}\n",
    ">$$\n",
    ">Por lo que para obtener $f(y_1|y_2)$ necesitamos la densidad conjunta (que ya tenemos), y la marginal de $f(y_2)$, que ya tenemos también.\n",
    ">$$\n",
    ">  f(y_1|y_2) = \\frac{f(y_1, y_2)}{f(y_2)} = \\frac{2y_1}{1}=2y_1\n",
    ">$$\n",
    ">La condicional sigue siendo la conjunta porque la marginal es una constante.\n",
    ">c) La demostración de que las variables son independientes es trivial siguiendo la regla: $x,y$ son independientes *si y solo si* $f(x,y)=f(x)f(y)$"
   ]
  },
  {
   "attachments": {},
   "cell_type": "markdown",
   "metadata": {},
   "source": [
    "\n",
    "7) Sea la función de densidad conjunta\n",
    "\n",
    "---\n",
    "\n",
    "$$\n",
    "  f(y_1, y_2) = \\begin{cases}\n",
    "    e^{-(y_1 + y_2)}\\quad y_1>0, y_2>0\\\\\n",
    "    0,\\quad \\text{en otro punto}\n",
    "  \\end{cases}\n",
    "$$\n",
    "\n",
    "a) Encontrar $f(y_1)$ y $f(y_2)$.\n",
    "\n",
    "b) ¿Cuál es la probabilidad $P(1 < Y_1 < 2.5)$ y $P(1 < Y_2 < 2.5)$?\n",
    "\n",
    "c) Para cualquier $Y_2>0$, ¿cuál es la función $f(y_1|y_2)$?\n",
    "\n",
    ">*Solución*\n",
    "\n",
    ">a) Primero notar que tanto $y_1$ como $y_2$ están en el intervalo $(0, \\infty)$, por lo que esos son sus límites de integración. Formalmente, lo correcto sería encontrar el límite de la integral \n",
    ">\n",
    ">$$\n",
    ">  f(y_1)=\\lim_{t\\rightarrow \\infty}\\int_{-\\infty}^{\\infty}f(y_1,y_2)\\text{d}y_2\n",
    ">$$\n",
    ">Sin embargo, *informalmente* sabemos que $e^{-\\infty}=0$. Aplicamos la regla de los exponentes $a^na^m=a^{n+m}$ a $e^{-(y_1+y_2)}=e^{-y_1}e^{-y_2}$\n",
    ">\n",
    ">$$\n",
    ">  f(y_1)=\\int_{-\\infty}^{\\infty}f(y_1,y_2)\\text{d}y_2=\\int_0^{\\infty}e^{-y_1}e^{-y_2}\\text{d}y_2=e^{-y_1}\\int_0^{\\infty}e^{-y_2}\\text{d}y_2\n",
    ">$$\n",
    ">Para integrar lo anterior, consideramos la siguiente regla $\\int e^{-u}du=-e^{-u}$\n",
    ">$$\n",
    ">  f(y_1) = e^{-y_1}\\int_0^{\\infty}e^{-y_2}\\text{d}y_2=e^{-y_1}\\left(-e^{-y_2}\\Big|_0^\\infty\\right)=e^{-y_1}\\left(-(e^\\infty-e^0)\\right)=\\cdots=e^{-y_1}\n",
    ">$$\n",
    "> El mismo razonamiento para $f(y_2)$ nos da un resultado similar\n",
    "$$\n",
    "  f(y_2)=\\int_{-0}^{\\infty}e^{-(y_1+y_2)}\\text{d}y_1=\\cdots=e^{-y_2}\n",
    "$$\n",
    "\n",
    ">b) Para obtener esta probabilidad (acumulada) necesitamos la regla\n",
    "\n",
    ">$$\n",
    ">  P(a < X < b)=\\int_a^b f(x)\\text{d}x\n",
    ">$$\n",
    ">En donde $f(x)$ en nuestro caso corresponde a las marginales $f(y_1)=e^{-y_1}, f(y_2)=e^{-y_2}$\n",
    ">$$\n",
    ">  P(1<Y_1<2.5)=\\int_1^{2.5}e^{-y_1}\\text{d}y_1=-e^{-y_1}\\Big|_1^{2-5}=-\\left(e^{-2.5}-e^{-1}\\right)=\\cdots=0.285\n",
    ">$$\n",
    ">Un razonamiento similar aplica para la segunda parte del ejercicio.\n",
    "\n",
    ">c) Usamos la regla del producto ya revisada: $f(x|y)=f(x,y)/f(y)$. La conjunta es $f(y_1,y_2)=e^{-(y_1+y_2)}=e^{-y_1}e^{-y_2}$ y la marginal $f(y_2)=e^{-y_2}$\n",
    ">\n",
    ">$$\n",
    ">  f(y_1|y_2)=\\frac{e^{-y_1}e^{-y_2}}{e^{-y_2}}=e^{-y_1},\\quad \\text{para todo } y_2>0\n",
    ">$$\n",
    ">Un razonamiento similar aplica a $f(y_2|y_2)$."
   ]
  },
  {
   "attachments": {},
   "cell_type": "markdown",
   "metadata": {},
   "source": [
    "8. Ejemplo de una normal\n",
    "\n",
    "La temperatura promedio de una máquina es de 37°C, con una desviación estándar medida de 1.5. Suponiendo que la distribución de la temperatura puede ser aproximada por una normal, ¿qué tan probable es encontrar una temperatura de 35 o menos?\n",
    "\n",
    ">*Solución*\n",
    "\n",
    ">Queremos hallar la probabilidad $P(X<35)$ sabiendo que $X\\sim \\mathcal{N}(\\mu=37, \\sigma=1.5)$. Es decir\n",
    ">\n",
    ">$$\n",
    ">  P(X<35)=\\int_{0}^{35}\\frac{1}{1.5 \\sqrt{2\\pi}} e\\left\\{\\frac{-(x-37)^2}{2(1.5)^2}\\right\\}\\text{d}x\n",
    ">$$"
   ]
  },
  {
   "cell_type": "code",
   "execution_count": 17,
   "metadata": {},
   "outputs": [
    {
     "data": {
      "image/png": "[encoded data removed]",
      "text/plain": [
       "<Figure size 1300x400 with 2 Axes>"
      ]
     },
     "metadata": {},
     "output_type": "display_data"
    }
   ],
   "source": [
    "# Setting up plot dimensions\n",
    "fig, axes = plt.subplots(1, 2, figsize=(13, 4))\n",
    "\n",
    "# PDF\n",
    "x = np.linspace(30, 45, 101)\n",
    "y = norm.pdf(x, 37, 1.5)\n",
    "\n",
    "axes[0].plot(x, y, color='blue', linewidth=2)\n",
    "axes[0].set_title('pdf')\n",
    "axes[0].set_ylabel('p(x)')\n",
    "\n",
    "from_x, to_x = 30, 35\n",
    "sx = np.concatenate([[from_x], np.arange(from_x, to_x, 0.01), [to_x]])\n",
    "sy = np.concatenate([[0], norm.pdf(np.arange(from_x, to_x, 0.01), 37, 1.5), [0]])\n",
    "\n",
    "axes[0].fill(sx, sy, color='#B3B3FF')\n",
    "axes[0].text(35 + 1, norm.pdf(35, 37, 1.5), 'x=35', fontsize=12)\n",
    "\n",
    "# CDF\n",
    "y_cdf = norm.cdf(x, 37, 1.5)\n",
    "axes[1].plot(x, y_cdf, color='blue', linewidth=2)\n",
    "axes[1].set_title('cdf')\n",
    "axes[1].set_xlabel('X')\n",
    "axes[1].set_ylabel(r\"$Pr(X \\leq x)$\")\n",
    "\n",
    "sy_cdf = np.concatenate([[0], norm.cdf(np.arange(from_x, to_x, 0.01), 37, 1.5), [0]])\n",
    "axes[1].fill_between(sx, sy_cdf, color='#B3B3FF')\n",
    "\n",
    "axes[1].text(35 + 1, norm.cdf(35, 37, 1.5), 'x=35', fontsize=12)\n",
    "\n",
    "plt.show()\n"
   ]
  },
  {
   "attachments": {},
   "cell_type": "markdown",
   "metadata": {},
   "source": [
    "El área se obtiene en Python con el siguiente código, que usa la cdf normal, `pnorm`. El primer argumento es el *cuantil* `q`, el valor en el eje *x* del cual queremos saber el área bajo la curva."
   ]
  },
  {
   "cell_type": "code",
   "execution_count": 18,
   "metadata": {},
   "outputs": [
    {
     "data": {
      "text/plain": [
       "0.09121121972586788"
      ]
     },
     "execution_count": 18,
     "metadata": {},
     "output_type": "execute_result"
    }
   ],
   "source": [
    "norm.cdf(35, 37, 1.5)\n",
    "# ¿cuál sería la probabilidad de tener 37 o menos?"
   ]
  },
  {
   "attachments": {},
   "cell_type": "markdown",
   "metadata": {},
   "source": [
    "Equivalentemente, en Python se puede integrar la pdf con integración numérica"
   ]
  },
  {
   "cell_type": "code",
   "execution_count": 19,
   "metadata": {},
   "outputs": [
    {
     "name": "stdout",
     "output_type": "stream",
     "text": [
      "Result of the integration: 0.09121121972586801\n",
      "Estimated error: 6.708159657636305e-10\n"
     ]
    }
   ],
   "source": [
    "from scipy.integrate import quad\n",
    "\n",
    "# Define the function to integrate\n",
    "def f(x, mean, sd):\n",
    "    return norm.pdf(x, mean, sd)\n",
    "\n",
    "# Perform numerical integration\n",
    "result, error = quad(f, 0, 35, args=(37, 1.5))\n",
    "\n",
    "print(f\"Result of the integration: {result}\")\n",
    "print(f\"Estimated error: {error}\")\n"
   ]
  }
 ],
 "metadata": {
  "kernelspec": {
   "display_name": "base",
   "language": "python",
   "name": "python3"
  },
  "language_info": {
   "codemirror_mode": {
    "name": "ipython",
    "version": 3
   },
   "file_extension": ".py",
   "mimetype": "text/x-python",
   "name": "python",
   "nbconvert_exporter": "python",
   "pygments_lexer": "ipython3",
   "version": "3.10.9"
  },
  "orig_nbformat": 4
 },
 "nbformat": 4,
 "nbformat_minor": 2
}
