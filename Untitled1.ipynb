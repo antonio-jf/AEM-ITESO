{
 "cells": [
  {
   "cell_type": "code",
   "execution_count": 2,
   "id": "d329dab9",
   "metadata": {},
   "outputs": [],
   "source": [
    "from sympy import *"
   ]
  },
  {
   "cell_type": "code",
   "execution_count": 5,
   "id": "d91d9a18",
   "metadata": {},
   "outputs": [],
   "source": [
    "x, y, a, c = symbols('x y a c')"
   ]
  },
  {
   "cell_type": "code",
   "execution_count": 8,
   "id": "7f23cace",
   "metadata": {},
   "outputs": [
    {
     "data": {
      "text/latex": [
       "$\\displaystyle x^{2}$"
      ],
      "text/plain": [
       "x**2"
      ]
     },
     "execution_count": 8,
     "metadata": {},
     "output_type": "execute_result"
    }
   ],
   "source": [
    "fx = x**2\n",
    "fx"
   ]
  },
  {
   "cell_type": "code",
   "execution_count": 9,
   "id": "db491955",
   "metadata": {},
   "outputs": [
    {
     "data": {
      "text/latex": [
       "$\\displaystyle \\frac{8}{3}$"
      ],
      "text/plain": [
       "8/3"
      ]
     },
     "execution_count": 9,
     "metadata": {},
     "output_type": "execute_result"
    }
   ],
   "source": [
    "f_int = integrate(fx, (x, 0, 2))\n",
    "f_int"
   ]
  },
  {
   "cell_type": "code",
   "execution_count": 10,
   "id": "02c776d0",
   "metadata": {},
   "outputs": [
    {
     "data": {
      "text/latex": [
       "$\\displaystyle 2 x$"
      ],
      "text/plain": [
       "2*x"
      ]
     },
     "execution_count": 10,
     "metadata": {},
     "output_type": "execute_result"
    }
   ],
   "source": [
    "dx = diff(fx, x)\n",
    "dx"
   ]
  },
  {
   "cell_type": "code",
   "execution_count": 11,
   "id": "6edf2858",
   "metadata": {},
   "outputs": [
    {
     "data": {
      "text/latex": [
       "$\\displaystyle x e^{x}$"
      ],
      "text/plain": [
       "x*exp(x)"
      ]
     },
     "execution_count": 11,
     "metadata": {},
     "output_type": "execute_result"
    }
   ],
   "source": [
    "fx = x * exp(x)\n",
    "fx"
   ]
  },
  {
   "cell_type": "code",
   "execution_count": 12,
   "id": "7d032bef",
   "metadata": {},
   "outputs": [
    {
     "data": {
      "text/latex": [
       "$\\displaystyle 1$"
      ],
      "text/plain": [
       "1"
      ]
     },
     "execution_count": 12,
     "metadata": {},
     "output_type": "execute_result"
    }
   ],
   "source": [
    "fx_int = integrate(fx, (x, 0, 1))\n",
    "fx_int"
   ]
  },
  {
   "cell_type": "markdown",
   "id": "17bd272f",
   "metadata": {},
   "source": [
    "$$\n",
    "\\mathcal{N}(x\\mid \\mu, \\sigma^2)=  p(x) = \\frac{1}{\\sigma \\sqrt{2\\pi}} e\\left\\{\\frac{-(x-\\mu)^2}{2\\sigma^2}\\right\\} \\tag{10}\n",
    "$$"
   ]
  },
  {
   "cell_type": "code",
   "execution_count": 13,
   "id": "337b066e",
   "metadata": {},
   "outputs": [
    {
     "data": {
      "text/latex": [
       "$\\displaystyle \\frac{\\sqrt{2} e^{- \\frac{x^{2}}{2}}}{2 \\sqrt{\\pi}}$"
      ],
      "text/plain": [
       "sqrt(2)*exp(-x**2/2)/(2*sqrt(pi))"
      ]
     },
     "execution_count": 13,
     "metadata": {},
     "output_type": "execute_result"
    }
   ],
   "source": [
    "f_normal = (1/sqrt(2*pi)) * exp(-((x)**2)/2)\n",
    "f_normal"
   ]
  },
  {
   "cell_type": "code",
   "execution_count": 21,
   "id": "2924e885",
   "metadata": {},
   "outputs": [
    {
     "data": {
      "text/latex": [
       "$\\displaystyle \\operatorname{erf}{\\left(\\frac{\\sqrt{2}}{2} \\right)}$"
      ],
      "text/plain": [
       "erf(sqrt(2)/2)"
      ]
     },
     "execution_count": 21,
     "metadata": {},
     "output_type": "execute_result"
    }
   ],
   "source": [
    "fint = integrate(f_normal, (x, -1, 1))\n",
    "fint"
   ]
  },
  {
   "cell_type": "code",
   "execution_count": 22,
   "id": "2b8cd435",
   "metadata": {},
   "outputs": [
    {
     "data": {
      "text/latex": [
       "$\\displaystyle 0.5 x^{2}$"
      ],
      "text/plain": [
       "0.5*x**2"
      ]
     },
     "execution_count": 22,
     "metadata": {},
     "output_type": "execute_result"
    }
   ],
   "source": [
    "fx = (1/2)*x**2\n",
    "fx"
   ]
  },
  {
   "cell_type": "code",
   "execution_count": 24,
   "id": "d23441a7",
   "metadata": {},
   "outputs": [
    {
     "data": {
      "text/latex": [
       "$\\displaystyle 1.33333333333333$"
      ],
      "text/plain": [
       "1.33333333333333"
      ]
     },
     "execution_count": 24,
     "metadata": {},
     "output_type": "execute_result"
    }
   ],
   "source": [
    "integrate(fx, (x, 0, 2))"
   ]
  },
  {
   "cell_type": "code",
   "execution_count": 23,
   "id": "d4622857",
   "metadata": {},
   "outputs": [
    {
     "data": {
      "text/latex": [
       "$\\displaystyle 0.375 y^{2}$"
      ],
      "text/plain": [
       "0.375*y**2"
      ]
     },
     "execution_count": 23,
     "metadata": {},
     "output_type": "execute_result"
    }
   ],
   "source": [
    "fy = (3/8)*y**2\n",
    "fy"
   ]
  },
  {
   "cell_type": "code",
   "execution_count": null,
   "id": "628d68b2",
   "metadata": {},
   "outputs": [],
   "source": []
  },
  {
   "cell_type": "code",
   "execution_count": 36,
   "id": "3f114d89",
   "metadata": {},
   "outputs": [
    {
     "data": {
      "text/latex": [
       "$\\displaystyle 1.125$"
      ],
      "text/plain": [
       "1.12500000000000"
      ]
     },
     "execution_count": 36,
     "metadata": {},
     "output_type": "execute_result"
    }
   ],
   "source": [
    "integrate(fy, (y, 0, 2))"
   ]
  },
  {
   "cell_type": "code",
   "execution_count": 27,
   "id": "354f67bc",
   "metadata": {},
   "outputs": [],
   "source": [
    "import matplotlib.pyplot as plt\n",
    "import numpy as np"
   ]
  },
  {
   "cell_type": "code",
   "execution_count": 31,
   "id": "4ac44faf",
   "metadata": {},
   "outputs": [],
   "source": [
    "x = np.linspace(0, 2, 100)\n",
    "def fx(c, x):\n",
    "    return c * x**2"
   ]
  },
  {
   "cell_type": "code",
   "execution_count": 35,
   "id": "7c636775",
   "metadata": {},
   "outputs": [
    {
     "data": {
      "text/plain": [
       "<matplotlib.legend.Legend at 0x7fb0ff302740>"
      ]
     },
     "execution_count": 35,
     "metadata": {},
     "output_type": "execute_result"
    },
    {
     "data": {
      "image/png": "[encoded data removed]",
      "text/plain": [
       "<Figure size 640x480 with 1 Axes>"
      ]
     },
     "metadata": {},
     "output_type": "display_data"
    }
   ],
   "source": [
    "y1 = fx(c=3/8, x = x)\n",
    "y2 = fx(c=1/2, x=x)\n",
    "y3 = fx(c=5/8, x = x)\n",
    "plt.plot(x, y1, label = \"c=3/8\")\n",
    "plt.plot(x, y2, label = \"c=1/2\")\n",
    "plt.plot(x, y3, label = \"c=5/8\")\n",
    "plt.legend()"
   ]
  },
  {
   "cell_type": "markdown",
   "id": "a7191efd",
   "metadata": {},
   "source": [
    "Encontrar $P(1\\leq Y \\leq 2)$ dada la función de densidad $f(y)=\\frac{3}{8}y^2$.\n",
    "\n",
    "$$\n",
    "P(1\\leq Y \\leq 2) = \\int_1^2 f(y)dy\n",
    "$$"
   ]
  },
  {
   "cell_type": "code",
   "execution_count": 3,
   "id": "43f5d6c2",
   "metadata": {},
   "outputs": [
    {
     "data": {
      "text/latex": [
       "$\\displaystyle 0.875$"
      ],
      "text/plain": [
       "0.875000000000000"
      ]
     },
     "execution_count": 3,
     "metadata": {},
     "output_type": "execute_result"
    }
   ],
   "source": [
    "from sympy import *\n",
    "y = symbols('y')\n",
    "fy = 3/8 * y**2\n",
    "integrate(fy, (y, 1, 2)) # n-tupla: con respecto a y, entre 1 y 2"
   ]
  },
  {
   "cell_type": "code",
   "execution_count": 4,
   "id": "931cea09",
   "metadata": {},
   "outputs": [
    {
     "data": {
      "text/plain": [
       "0.875"
      ]
     },
     "execution_count": 4,
     "metadata": {},
     "output_type": "execute_result"
    }
   ],
   "source": [
    "7/8"
   ]
  },
  {
   "cell_type": "code",
   "execution_count": 5,
   "id": "7d072a5f",
   "metadata": {},
   "outputs": [
    {
     "data": {
      "text/plain": [
       "(0.875, 9.71445146547012e-15)"
      ]
     },
     "execution_count": 5,
     "metadata": {},
     "output_type": "execute_result"
    }
   ],
   "source": [
    "from scipy.integrate import quad\n",
    "\n",
    "def fy(y):\n",
    "    return 3/8 * y**2\n",
    "\n",
    "quad(fy, a=1, b=2)"
   ]
  },
  {
   "cell_type": "markdown",
   "id": "6aafeee5",
   "metadata": {},
   "source": [
    "La normal está dada por\n",
    "\n",
    "$$\n",
    "f(x) = \\frac{1}{\\sigma \\sqrt{2\\pi}}\\exp\\{-\\frac{(x-\\mu)^2}{2\\sigma^2}\\}\n",
    "$$\n",
    "\n",
    "La temperatura promedio de una máquina es de 37 ºC, con una desviación estándar de 1.5 ºC. Suponiendo que la distribución de la temperatura pueder aproximada por una distribución normal, ¿qué tan probable es encontrar una temperatura de 35 ºC o menos?"
   ]
  },
  {
   "cell_type": "code",
   "execution_count": 28,
   "id": "fa36687e",
   "metadata": {},
   "outputs": [
    {
     "data": {
      "text/plain": [
       "0.022750131948179098"
      ]
     },
     "execution_count": 28,
     "metadata": {},
     "output_type": "execute_result"
    }
   ],
   "source": [
    "import numpy as np\n",
    "\n",
    "mu = 37\n",
    "std = 1.5\n",
    "\n",
    "def normal(x, mu, sigma):\n",
    "    return (1/(sigma * np.sqrt(2 * np.pi))) * np.exp(-(x - mu)**2/(2 * sigma**2))\n",
    "\n",
    "# quad(lambda x: normal(x, mu, std), -np.inf, 35)\n",
    "\n",
    "result, _ = quad(normal, -np.inf, 40, args=(mu, std))\n",
    "1 - result"
   ]
  },
  {
   "cell_type": "code",
   "execution_count": 30,
   "id": "941f1530",
   "metadata": {},
   "outputs": [
    {
     "data": {
      "text/plain": [
       "0.02275013194817921"
      ]
     },
     "execution_count": 30,
     "metadata": {},
     "output_type": "execute_result"
    }
   ],
   "source": [
    "from scipy.stats import norm\n",
    "\n",
    "result, _ = quad(norm.pdf, -np.inf, 40, args=(mu, std))\n",
    "1 - result"
   ]
  },
  {
   "cell_type": "code",
   "execution_count": 32,
   "id": "150cb896",
   "metadata": {},
   "outputs": [
    {
     "data": {
      "text/plain": [
       "0.02275013194817921"
      ]
     },
     "execution_count": 32,
     "metadata": {},
     "output_type": "execute_result"
    }
   ],
   "source": [
    "1 - norm.cdf(40, mu, std)"
   ]
  },
  {
   "cell_type": "markdown",
   "id": "02c573d7",
   "metadata": {},
   "source": [
    "Cuál será la probabilidad de que $35 \\leq X \\leq 39$"
   ]
  },
  {
   "cell_type": "code",
   "execution_count": 33,
   "id": "8ce7dfc5",
   "metadata": {},
   "outputs": [
    {
     "data": {
      "text/plain": [
       "0.8175775605482642"
      ]
     },
     "execution_count": 33,
     "metadata": {},
     "output_type": "execute_result"
    }
   ],
   "source": [
    "norm.cdf(39, mu, std) - norm.cdf(35, mu, std)"
   ]
  },
  {
   "cell_type": "code",
   "execution_count": 34,
   "id": "90ff597f",
   "metadata": {},
   "outputs": [
    {
     "data": {
      "text/plain": [
       "(0.8175775605482645, 9.076934321375512e-15)"
      ]
     },
     "execution_count": 34,
     "metadata": {},
     "output_type": "execute_result"
    }
   ],
   "source": [
    "quad(normal, 35, 39, args=(mu, std))"
   ]
  },
  {
   "cell_type": "code",
   "execution_count": 66,
   "id": "3fd06f44",
   "metadata": {},
   "outputs": [
    {
     "data": {
      "text/plain": [
       "array([[0.92188858, 1.84377716],\n",
       "       [1.84377716, 3.68755432]])"
      ]
     },
     "execution_count": 66,
     "metadata": {},
     "output_type": "execute_result"
    }
   ],
   "source": [
    "x = np.random.normal(0, 1, 100)\n",
    "y = x * 2 + 1.5 \n",
    "np.cov(x,y).T"
   ]
  },
  {
   "cell_type": "code",
   "execution_count": 58,
   "id": "3f49efc3",
   "metadata": {},
   "outputs": [
    {
     "data": {
      "text/plain": [
       "array([[1.        , 0.10590357],\n",
       "       [0.10590357, 1.        ]])"
      ]
     },
     "execution_count": 58,
     "metadata": {},
     "output_type": "execute_result"
    }
   ],
   "source": [
    "np.corrcoef(x,y).T"
   ]
  },
  {
   "cell_type": "code",
   "execution_count": 57,
   "id": "d959d01d",
   "metadata": {},
   "outputs": [
    {
     "data": {
      "text/plain": [
       "<matplotlib.collections.PathCollection at 0x7f492f3b75b0>"
      ]
     },
     "execution_count": 57,
     "metadata": {},
     "output_type": "execute_result"
    },
    {
     "data": {
      "image/png": "[encoded data removed]",
      "text/plain": [
       "<Figure size 640x480 with 1 Axes>"
      ]
     },
     "metadata": {},
     "output_type": "display_data"
    }
   ],
   "source": [
    "import matplotlib.pyplot as plt\n",
    "plt.scatter(x, y)"
   ]
  },
  {
   "cell_type": "code",
   "execution_count": 93,
   "id": "49ca53ff",
   "metadata": {},
   "outputs": [
    {
     "data": {
      "text/plain": [
       "array([[-0.24334571,  0.38247894,  0.41029769, -0.87095901,  0.49664547,\n",
       "         1.32224152, -0.17938163, -1.09365854,  0.13929423, -0.86475004,\n",
       "         0.09670136, -1.28910244,  0.4916218 , -0.34051816,  1.72566838,\n",
       "         1.12389515, -2.15680071,  0.67599807, -0.89966158,  0.41772719,\n",
       "        -0.18818421, -0.33083658,  0.53183244, -0.5976025 , -0.14518803,\n",
       "         1.05025415, -1.01085766,  0.06958421, -0.55896417,  0.45805909,\n",
       "        -0.47438222, -0.18236798, -0.63144085, -2.61439755,  1.69130853,\n",
       "        -0.33719861, -1.12926865,  0.22848751,  1.54831581,  0.40196253,\n",
       "        -1.24782459, -0.33078094, -0.24380417,  0.26338092,  0.24729608,\n",
       "         1.75538781, -1.26178735, -0.25219604, -0.79960398,  0.01692273,\n",
       "         0.77889994,  1.70148678, -0.05779988, -0.26566054, -0.33402499,\n",
       "         1.95757023,  1.35431459,  1.48643554, -0.32651264, -1.05831028,\n",
       "        -0.46873702, -0.81950781, -0.33265926,  0.30954475, -1.34534736,\n",
       "        -0.87117462,  0.69251951, -0.39561774, -0.09297452,  0.30662   ,\n",
       "        -0.51207204,  0.5674244 , -1.24507355, -1.45518185,  1.34579118,\n",
       "         0.37940377, -0.32247735, -1.06792549, -2.16361765,  2.10479616,\n",
       "         1.81766435,  0.63532045, -0.80414074,  1.06976174,  1.06806792,\n",
       "         0.66811495, -0.32784096,  0.08412311,  1.73985781,  0.81408077,\n",
       "        -1.03614801,  0.15051283,  0.17639374, -0.08464535, -0.50813698,\n",
       "        -0.26517004,  1.20339212, -0.02708685, -0.57310494, -0.92164588],\n",
       "       [-0.48669143,  0.76495788,  0.82059537, -1.74191801,  0.99329094,\n",
       "         2.64448303, -0.35876326, -2.18731709,  0.27858846, -1.72950008,\n",
       "         0.19340272, -2.57820487,  0.9832436 , -0.68103632,  3.45133677,\n",
       "         2.24779029, -4.31360142,  1.35199614, -1.79932316,  0.83545437,\n",
       "        -0.37636843, -0.66167317,  1.06366487, -1.195205  , -0.29037607,\n",
       "         2.10050829, -2.02171533,  0.13916841, -1.11792834,  0.91611818,\n",
       "        -0.94876443, -0.36473597, -1.26288169, -5.22879509,  3.38261707,\n",
       "        -0.67439721, -2.25853731,  0.45697503,  3.09663162,  0.80392507,\n",
       "        -2.49564919, -0.66156187, -0.48760834,  0.52676184,  0.49459216,\n",
       "         3.51077561, -2.5235747 , -0.50439209, -1.59920796,  0.03384546,\n",
       "         1.55779989,  3.40297356, -0.11559977, -0.53132108, -0.66804998,\n",
       "         3.91514045,  2.70862919,  2.97287108, -0.65302528, -2.11662055,\n",
       "        -0.93747403, -1.63901561, -0.66531851,  0.6190895 , -2.69069472,\n",
       "        -1.74234923,  1.38503902, -0.79123548, -0.18594904,  0.61324   ,\n",
       "        -1.02414408,  1.1348488 , -2.4901471 , -2.9103637 ,  2.69158236,\n",
       "         0.75880755, -0.64495469, -2.13585098, -4.32723529,  4.20959233,\n",
       "         3.6353287 ,  1.2706409 , -1.60828147,  2.13952348,  2.13613584,\n",
       "         1.33622989, -0.65568193,  0.16824622,  3.47971562,  1.62816153,\n",
       "        -2.07229601,  0.30102567,  0.35278747, -0.16929071, -1.01627396,\n",
       "        -0.53034008,  2.40678425, -0.0541737 , -1.14620989, -1.84329176]])"
      ]
     },
     "execution_count": 93,
     "metadata": {},
     "output_type": "execute_result"
    }
   ],
   "source": [
    "X = np.asarray([x,y]).T\n",
    "MU = np.mean(X, axis=0)\n",
    "SIGMA_inv = np.linalg.inv(np.cov(x,y))\n",
    "(X - MU).T"
   ]
  },
  {
   "cell_type": "code",
   "execution_count": 98,
   "id": "950cbde6",
   "metadata": {},
   "outputs": [
    {
     "data": {
      "text/plain": [
       "array([[159.75106138, 319.50212275],\n",
       "       [  7.36030542,  14.72061084]])"
      ]
     },
     "execution_count": 98,
     "metadata": {},
     "output_type": "execute_result"
    }
   ],
   "source": [
    "np.dot(np.dot((X - MU), SIGMA_inv).T, X - MU)"
   ]
  },
  {
   "cell_type": "code",
   "execution_count": 100,
   "id": "612cc080",
   "metadata": {},
   "outputs": [
    {
     "data": {
      "text/plain": [
       "166085964.84244022"
      ]
     },
     "execution_count": 100,
     "metadata": {},
     "output_type": "execute_result"
    }
   ],
   "source": [
    "from scipy.spatial.distance import mahalanobis\n",
    "sigma = np.cov(x, y)\n",
    "p1 = [1, 0]\n",
    "mahalanobis(p1, MU, SIGMA_inv)"
   ]
  },
  {
   "cell_type": "code",
   "execution_count": null,
   "id": "581aa26f",
   "metadata": {},
   "outputs": [],
   "source": [
    "teoria de decision estadistica"
   ]
  }
 ],
 "metadata": {
  "kernelspec": {
   "display_name": "Python 3 (ipykernel)",
   "language": "python",
   "name": "python3"
  },
  "language_info": {
   "codemirror_mode": {
    "name": "ipython",
    "version": 3
   },
   "file_extension": ".py",
   "mimetype": "text/x-python",
   "name": "python",
   "nbconvert_exporter": "python",
   "pygments_lexer": "ipython3",
   "version": "3.10.9"
  }
 },
 "nbformat": 4,
 "nbformat_minor": 5
}
