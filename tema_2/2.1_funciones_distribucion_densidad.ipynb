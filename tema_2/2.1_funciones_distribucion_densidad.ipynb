{
 "cells": [
  {
   "attachments": {},
   "cell_type": "markdown",
   "metadata": {},
   "source": [
    "# 2. Modelos de distribución multivariados\n",
    "\n",
    "## 2.1. Funciones de distribución y densidad\n",
    "\n",
    "<p align=\"right\">\n",
    "Autor: Emmanuel Alcalá\n",
    "<br>\n",
    "<a href=\"https://scholar.google.com.mx/citations?hl=en&user=3URusCgAAAAJ&view_op=list_works&sortby=pubdate\">Google Scholar</a>\n",
    "</p>\n",
    "\n",
    "<!-- <p align=\"left\">\n",
    "<br>\n",
    "<a href=\"https://jealcalat.github.io/Analisis_multivariado/\">Regresar a la página del curso</a>\n",
    "</p> -->\n",
    "\n",
    "---\n"
   ]
  },
  {
   "attachments": {},
   "cell_type": "markdown",
   "metadata": {},
   "source": [
    "### Variables aleatorias, espacios muestrales y realizaciones\n",
    "\n",
    "Suponer que $X$ representa una cantidad desconocida de interés, como la temperatura de una máquina. Si los valores de $X$ son desconocidos o cambian, decimos que $X$ es una variable aleatoria, o **VA**. El conjunto de todos los valores _posibles_ se denota como $\\mathcal{X}$, llamado espacio muestral o espacio de estados. Un evento es un *sub*conjunto de valores del espacio muestral. Por ejemplo, si $\\mathcal{X}$ es el lado de un dado al ser lanzado, $\\mathcal{X} = \\{ 1, 2, 3, 4, 5, 6 \\}$, el evento \"cae 1\" se denota $X = 1$, y \"ver un número impar\" se denota $X \\in \\{ 1, 3, 4\\}$, el evento \"cae entre 4 y 6\" como $4 \\leq X \\leq 6$.\n",
    "\n",
    "Vamos a enlazar todos los conceptos:\n",
    "\n",
    "**Variable Aleatoria $X$**\n",
    "\n",
    "Pensemos en $X$ como la temperatura de un horno. Aquí, $X$ no es un valor de temperatura específico. En cambio, es una \"regla\" que nos dice cómo interpretar las mediciones de temperatura que podríamos obtener del horno. Técnicamente, una variable aleatoria es una función que asigna un número real a cada resultado en el espacio muestral. En este caso específico, la función es una función de identidad, lo que significa que $X$ asigna el mismo valor a cada resultado en el espacio muestral. Lo anterior podríamos describirlo como $X: \\mathcal{X} \\rightarrow \\mathbb{R}$, o como $X(\\omega) = \\omega$ para todo $\\omega \\in \\mathcal{X}$, en donde $\\omega$ es un resultado en el espacio muestral.\n",
    "\n",
    "Una variable aleatoria más compleja puede ser el índice de masa corporal. El Índice de Masa Corporal (BMI, por sus siglas en inglés) es una medida comúnmente utilizada para evaluar la proporción de peso a estatura de un individuo. El BMI se calcula mediante la fórmula:\n",
    "\n",
    "$$\n",
    "\\text{BMI} = \\frac{{\\text{peso en kg}}}{{(\\text{altura en m})^2}}\n",
    "$$\n",
    "\n",
    "En el contexto de la teoría de la probabilidad, podemos considerar el BMI como una Variable Aleatoria $X$ que es una función del peso y la altura de un individuo.\n",
    "\n",
    "La Variable Aleatoria $X$ asignaría a cada par $(w, h)$ en el espacio muestral un valor del BMI calculado mediante la fórmula mencionada:\n",
    "\n",
    "$$\n",
    "X(w, h) = \\frac{w}{h^2}\n",
    "$$\n",
    "\n",
    "**Espacio Muestral $\\mathcal{X}$**\n",
    "\n",
    "Para el ejemplo del horno, el espacio muestral $\\mathcal{X}$ podría ser todos los valores que la temperatura del horno podría tomar en una escala específica, digamos, de 100 a 250 grados Celsius: $X={100,101,102,…,250}$.\n",
    "\n",
    "Para el ejemplo del BMI, el espacio muestral $\\mathcal{X}$ podría ser el conjunto de todas las posibles combinaciones de peso y altura para un grupo de individuos. Por ejemplo:\n",
    "\n",
    "$$\n",
    "\\mathcal{X} = \\{ (w, h) | 40 \\leq w \\leq 200, 1.2 \\leq h \\leq 2.5 \\}\n",
    "$$\n",
    "\n",
    "**Realización $x$**\n",
    "\n",
    "Si tomas una lectura real del termómetro en un momento específico y muestra, digamos, 180 grados Celsius, esa medida es una \"realización\" $x$ de la Variable Aleatoria $X$.\n",
    "\n",
    "Para el BMI, una realización $x$ de $X$ sería el BMI específico calculado para una combinación particular de peso y altura. Por ejemplo, si alguien tiene un peso de 70 kg y una altura de 1.75 m, la realización sería $x = X(70, 1.75) = 22.86$.\n",
    "\n",
    "**Eventos**\n",
    "\n",
    "Un \"evento\" es un subconjunto específico de posibles temperaturas que podríamos encontrar interesantes. Por ejemplo:\n",
    "\n",
    "1. El evento \"El horno está por debajo de 150 grados\" se denotaría como $X<150$.\n",
    "2. El evento \"El horno está a una temperatura ideal para hornear pan, entre 175 y 200 grados\" podría denotarse como $175\\leq X \\leq 200$.\n",
    "3. El evento \"tener sobrepeso\", que se podría definir como $X(w, h) \\geq 25$.\n",
    "\n",
    "Nota: generalmente, no se hace distinción entre una variable aleatoria y su realización. Por ejemplo, $X$ y $x$ se usan indistintamente para denotar la realización de una variable aleatoria. Así, aunque técnicamente deberíamos denotar la probabilidad de que el horno esté por debajo de 150 grados como $P(X<150)$, en la práctica, a menudo escribimos $P(x<150)$.\n"
   ]
  },
  {
   "attachments": {},
   "cell_type": "markdown",
   "metadata": {},
   "source": [
    "### Definición de probabilidad\n",
    "\n",
    "**¿Qué es una probabilidad?**\n",
    "\n",
    "**Definición:** La probabilidad es una medida que describe la posibilidad de que ocurra un evento en relación con la totalidad de posibles eventos. Se expresa numéricamente entre 0 y 1, donde 0 indica imposibilidad y 1 indica certeza.\n",
    "\n",
    "**Matemáticamente:** Sea $ S $ un espacio muestral, es decir, el conjunto de todos los posibles resultados de un experimento, y $ A $ un evento específico que pertenece a $ S $. La probabilidad $ P(A) $ de que ocurra $ A $ se define como:\n",
    "\n",
    "$$ P(A) = \\frac{\\text{número de casos favorables para } A}{\\text{número total de casos en } S} $$\n",
    "\n",
    "Algunas propiedades de las $P()$ son:\n",
    "\n",
    "1. Si $\\emptyset$ es un conjunto nulo, entonces $\\Pr(\\emptyset)=0$.\n",
    "2. Si $A \\subset B$, entonces $\\Pr(A)\\leq \\Pr(B)$.\n",
    "3. Si $A^c$ denota el complemento de $A$, entonces $\\Pr(A^c)=1-\\Pr(A)$.\n",
    "4. Si $A \\cap B = \\emptyset$ denota la intersección nula de $A$ y $B$, entonces $\\Pr(A \\cup B)=\\Pr(A) + \\Pr(B)$, $\\Pr$ es aditiva para eventos disjuntos.\n",
    "5. De otra manera, para eventos arbitrarios $A, B$, $\\Pr(A \\cup B)=\\Pr(A) + \\Pr(B)-\\Pr(A\\cap B)$.\n",
    "6. Dos eventos $A$ y $B$ son independientes si $\\Pr(A \\cup B)=\\Pr(A)\\Pr(B)$.\n",
    "   Por ejemplo, lanzar una moneda dos veces. Cada lanzamiento es independiente del otro. Si queremos saber la probabilidad de que en ambos lanzamientos salga caras, esa probabilidad sería $\\Pr(H_1\\cap H_2)=(1/2)(1/2)$.\n"
   ]
  },
  {
   "attachments": {},
   "cell_type": "markdown",
   "metadata": {},
   "source": [
    "### Probabilidades empíricas\n",
    "\n",
    "Podemos ilustrar varios conceptos de probabilidad utilizando un arreglo en dos dimensiones. Por ejemplo, en la siguiente imagen (adaptado de MML-6.2)\n"
   ]
  },
  {
   "cell_type": "code",
   "execution_count": 17,
   "metadata": {},
   "outputs": [
    {
     "data": {
      "text/html": [
       "<div style=\"text-align: center;\"><img src=\"img/joint_dist_tikz.png\" width=\"30%\"/></div>"
      ],
      "text/plain": [
       "<IPython.core.display.HTML object>"
      ]
     },
     "metadata": {},
     "output_type": "display_data"
    }
   ],
   "source": [
    "from IPython.display import display, HTML\n",
    "image_path =  \"img/joint_dist_tikz.png\" \n",
    "display(HTML('<div style=\"text-align: center;\"><img src=\"{}\" width=\"30%\"/></div>'.format(image_path)))"
   ]
  },
  {
   "attachments": {},
   "cell_type": "markdown",
   "metadata": {},
   "source": [
    "muestra dos variables aleatorias bivariadas, $X$ (que puede tomar valores $x_j, j = 1, 2, \\dots, M$) y $Y$ (que puede tomar valores $i=1, 2, \\dots, L$).\n",
    "\n",
    "- $c_j$: conteo marginal en $x_j$\n",
    "- $r_i$: conteo marginal en $y_i$\n",
    "- $n_{ij}$: casos en la celda $x_j, y_i$\n",
    "\n",
    "La probabilidad (_conjunta_) de que $X=x, Y=y$ se define como\n",
    "\n",
    "$$\n",
    "  p(x, y) \\overset{\\Delta}{=} \\text{Pr}(X = x, Y = y)\n",
    "$$\n",
    "\n",
    "$p(x, y)$ se lee \"la probabilidad de $x$ y $y$\", en ocasiones escrito usando notación de teoría de conjuntos como $p(x \\cap y)$. Cada entrada (cada celda) en la tabla se calcula contando la cantidad de casos que $(x_j,y_i)$ suceden conjuntamente\n",
    "\n",
    "$$\n",
    "\\text{Pr}(X = x_j, Y = y_i) = \\frac{n_{ij}}{N} \\tag{1}\n",
    "$$\n",
    "\n",
    "En la tabla, si contamos todos los casos de la fila $i$ tenemos la cantidad total de veces que $y_i$ sucede, y lo llamamos $r_i$. Si contamos la columna $j$ tenemos la cantidad total de veces que $x_j$ sucede, y que llamamos $c_j$.\n",
    "\n",
    "La _probabilidad marginal_ de $x$, es decir, la probabilidad que $X=x$ sin importar el valor de $Y$ se escribe como $p(x)$ y se calcula como sigue\n",
    "\n",
    "$$\n",
    "  p(X = x_j) = p(x_j) = \\frac{c_j}{N} \\tag{2}\n",
    "$$\n",
    "\n",
    "El número de casos en la columna $j$ es la suma de casos en cada celda _en esa columna_, por lo que $c_j = \\sum_i n_{ij}$ (dejando fija $i$). Por lo tanto,\n",
    "\n",
    "$$\n",
    "  p(x_j) = \\sum_{i=1}^Lp(x_j, y_i) \\tag{3}\n",
    "$$\n",
    "\n",
    "A la ecuación (3) se le conoce como la _regla de la suma_. Notar que se fija la columna $j$ y se itera sobre las filas $i=1, 2, 3$, por lo que por cada columna $j$ tenemos una probabilidad $p(x_j)$, que llamamos _la distribución marginal_ de $x$.\n",
    "\n",
    "Si consideramos los casos en los que $X=x_j$, la _fracción_ de casos en los que $Y=y_i$ se escribe como $p(Y=y_i | X=x_j)$, probabilidad que es conocida como _probabilidad condicional_ de $Y=y_i$ _dado_ que $X=x_j$. Se obtiene encontrando la fracción de puntos en una columna $j$ que caen en una celda $(i,j)$ dada\n",
    "\n",
    "$$\n",
    "  p(y_i | x_j) = \\frac{n_{ij}}{c_j} \\tag{4}\n",
    "$$\n",
    "\n",
    "Notar que $c_j$ es la cantidad total de valores para los cuales $X=x_j$, y $n_{ij}$ es una celda particular. Con las ecuaciones (1), (2) y (4) podemos derivar la siguiente relación:\n",
    "\n",
    "\\begin{align*}\n",
    "p(x_j, y_i) &= \\frac{n_{ij}}{N} = \\frac{n_{ij}}{c_j} \\frac{c_j}{N}\\\\\n",
    "&= p(y_i | x_j)p(x_j) \\tag{5}\n",
    "\\end{align*}\n",
    "\n",
    "La ecuación (5) es conocida como _regla del producto_.\n",
    "\n",
    "Eliminando la notación excesiva, podemos sintetizar las dos reglas como sigue\n",
    "\n",
    "\n",
    "\\begin{align*}\n",
    "\\text{ \\textbf{regla de la suma}}\\quad\\quad &p(x) = \\sum_{y}p(x,y) \\\\\n",
    "\\text{ \\textbf{regla del producto}}\\quad\\quad &p(x, y) = p(y|x)p(x)\n",
    "\\end{align*}\n",
    "\n",
    "Considerando la simetría $p(x,y) = p(y,x)$ y que $p(y,x) = p(x|y)p(y)$, encontramos la siguiente relación\n",
    "\n",
    "\\begin{align*}\n",
    "p(y|x)p(x) &= p(x|y)p(y)\\\\\n",
    "p(y|x) &= \\frac{ p(x|y)p(y)}{p(x)}\\tag{6}\n",
    "\\end{align*} \n",
    "\n",
    "Con\n",
    "\n",
    "\\begin{align*}\n",
    "1.  & f(x, y) \\geq 0\\\\\n",
    "2.  & \\sum_{x,y}f(x, y) = 1\n",
    "\\end{align*}\n",
    "\n",
    "La ecuación (6) es llamada _Teorema de Bayes_, y tiene una importancia en ML y estadística que no puede ser exagerada."
   ]
  },
  {
   "cell_type": "code",
   "execution_count": 18,
   "metadata": {},
   "outputs": [
    {
     "data": {
      "text/html": [
       "<table>\n",
       "<thead>\n",
       "<tr><th style=\"text-align: right;\">  Y/X</th><th style=\"text-align: right;\">   0</th><th style=\"text-align: right;\">   1</th><th style=\"text-align: right;\">   2</th></tr>\n",
       "</thead>\n",
       "<tbody>\n",
       "<tr><td style=\"text-align: right;\">    0</td><td style=\"text-align: right;\">   0</td><td style=\"text-align: right;\"> 275</td><td style=\"text-align: right;\"> 416</td></tr>\n",
       "<tr><td style=\"text-align: right;\">    1</td><td style=\"text-align: right;\"> 446</td><td style=\"text-align: right;\">2570</td><td style=\"text-align: right;\">1338</td></tr>\n",
       "<tr><td style=\"text-align: right;\">    2</td><td style=\"text-align: right;\">1251</td><td style=\"text-align: right;\">2523</td><td style=\"text-align: right;\"> 396</td></tr>\n",
       "<tr><td style=\"text-align: right;\">    3</td><td style=\"text-align: right;\"> 462</td><td style=\"text-align: right;\"> 323</td><td style=\"text-align: right;\">   0</td></tr>\n",
       "</tbody>\n",
       "</table>"
      ],
      "text/plain": [
       "<IPython.core.display.HTML object>"
      ]
     },
     "metadata": {},
     "output_type": "display_data"
    }
   ],
   "source": [
    "import pandas as pd\n",
    "import numpy as np\n",
    "from IPython.display import display, HTML\n",
    "from tabulate import tabulate\n",
    "import matplotlib.pyplot as plt\n",
    "from scipy.stats import *\n",
    "\n",
    "# Crear distribución conjunta {X,Y}\n",
    "data = {'Y': np.tile(np.arange(0, 4), 3), \n",
    "        'X': np.repeat(np.arange(0, 3), 4)}\n",
    "\n",
    "data_for_sampling = pd.DataFrame(data)\n",
    "data_for_sampling['wgts'] = [0, 3, 9, 3, 2, 18, 18, 2, 3, 9, 3, 0]\n",
    "\n",
    "# Tomar una muestra aleatoria de la distribución conjunta X,Y, usando wgts como pesos\n",
    "np.random.seed(452)\n",
    "sampled_data = data_for_sampling.sample(n=10000, replace=True, weights='wgts')\n",
    "\n",
    "# Crear una tabla de frecuencia\n",
    "freq_table = pd.crosstab(sampled_data['Y'], sampled_data['X'], rownames=['Y/X'])\n",
    "\n",
    "# Mostrar la tabla en formato HTML\n",
    "display(HTML(tabulate(freq_table, headers='keys', tablefmt='html')))\n",
    "# X en las columnas, Y en las filas"
   ]
  },
  {
   "cell_type": "code",
   "execution_count": 19,
   "metadata": {},
   "outputs": [
    {
     "data": {
      "text/plain": [
       "Y/X\n",
       "0     691\n",
       "1    4354\n",
       "2    4170\n",
       "3     785\n",
       "dtype: int64"
      ]
     },
     "execution_count": 19,
     "metadata": {},
     "output_type": "execute_result"
    }
   ],
   "source": [
    "freq_table.sum(axis=1)"
   ]
  },
  {
   "attachments": {},
   "cell_type": "markdown",
   "metadata": {},
   "source": [
    "## Ejercicios a mano\n",
    "\n",
    "1. La segunda tabla muestra la tabla de frecuencias de la muestra total, ¿cuál es la probabilidad $p(y=0, x=1)$?\n",
    "2. ¿Cuál es la probabilidad $p(x=1 \\mid y=0)$?\n",
    "3. Encontrar $F(X\\leq 1,Y\\leq 2)$\n"
   ]
  },
  {
   "attachments": {},
   "cell_type": "markdown",
   "metadata": {},
   "source": [
    "Para el ejercicio 2\n"
   ]
  },
  {
   "cell_type": "code",
   "execution_count": 20,
   "metadata": {
    "tags": []
   },
   "outputs": [
    {
     "data": {
      "text/html": [
       "<style type=\"text/css\">\n",
       "#T_66cb8_row0_col1 {\n",
       "  background-color: red;\n",
       "  color: black;\n",
       "}\n",
       "</style>\n",
       "<table id=\"T_66cb8\">\n",
       "  <thead>\n",
       "    <tr>\n",
       "      <th class=\"index_name level0\" >X</th>\n",
       "      <th id=\"T_66cb8_level0_col0\" class=\"col_heading level0 col0\" >0</th>\n",
       "      <th id=\"T_66cb8_level0_col1\" class=\"col_heading level0 col1\" >1</th>\n",
       "      <th id=\"T_66cb8_level0_col2\" class=\"col_heading level0 col2\" >2</th>\n",
       "    </tr>\n",
       "    <tr>\n",
       "      <th class=\"index_name level0\" >Y/X</th>\n",
       "      <th class=\"blank col0\" >&nbsp;</th>\n",
       "      <th class=\"blank col1\" >&nbsp;</th>\n",
       "      <th class=\"blank col2\" >&nbsp;</th>\n",
       "    </tr>\n",
       "  </thead>\n",
       "  <tbody>\n",
       "    <tr>\n",
       "      <th id=\"T_66cb8_level0_row0\" class=\"row_heading level0 row0\" >0</th>\n",
       "      <td id=\"T_66cb8_row0_col0\" class=\"data row0 col0\" >0.000000</td>\n",
       "      <td id=\"T_66cb8_row0_col1\" class=\"data row0 col1\" >0.027500</td>\n",
       "      <td id=\"T_66cb8_row0_col2\" class=\"data row0 col2\" >0.041600</td>\n",
       "    </tr>\n",
       "    <tr>\n",
       "      <th id=\"T_66cb8_level0_row1\" class=\"row_heading level0 row1\" >1</th>\n",
       "      <td id=\"T_66cb8_row1_col0\" class=\"data row1 col0\" >0.044600</td>\n",
       "      <td id=\"T_66cb8_row1_col1\" class=\"data row1 col1\" >0.257000</td>\n",
       "      <td id=\"T_66cb8_row1_col2\" class=\"data row1 col2\" >0.133800</td>\n",
       "    </tr>\n",
       "    <tr>\n",
       "      <th id=\"T_66cb8_level0_row2\" class=\"row_heading level0 row2\" >2</th>\n",
       "      <td id=\"T_66cb8_row2_col0\" class=\"data row2 col0\" >0.125100</td>\n",
       "      <td id=\"T_66cb8_row2_col1\" class=\"data row2 col1\" >0.252300</td>\n",
       "      <td id=\"T_66cb8_row2_col2\" class=\"data row2 col2\" >0.039600</td>\n",
       "    </tr>\n",
       "    <tr>\n",
       "      <th id=\"T_66cb8_level0_row3\" class=\"row_heading level0 row3\" >3</th>\n",
       "      <td id=\"T_66cb8_row3_col0\" class=\"data row3 col0\" >0.046200</td>\n",
       "      <td id=\"T_66cb8_row3_col1\" class=\"data row3 col1\" >0.032300</td>\n",
       "      <td id=\"T_66cb8_row3_col2\" class=\"data row3 col2\" >0.000000</td>\n",
       "    </tr>\n",
       "  </tbody>\n",
       "</table>\n"
      ],
      "text/plain": [
       "<pandas.io.formats.style.Styler at 0x7f99cc5f07c0>"
      ]
     },
     "metadata": {},
     "output_type": "display_data"
    }
   ],
   "source": [
    "# Obtener la distribución conjunta de cada celda\n",
    "xt_prob = freq_table / freq_table.sum().sum()\n",
    "\n",
    "def highlight_cells(x, row=0, col=1):\n",
    "    df = pd.DataFrame('', index=x.index, columns=x.columns)\n",
    "    df.loc[row, col] = 'background-color: red; color: black'\n",
    "    return df\n",
    "\n",
    "styled_table = xt_prob.style.apply(highlight_cells, axis=None)\n",
    "display(styled_table)\n"
   ]
  },
  {
   "attachments": {},
   "cell_type": "markdown",
   "metadata": {},
   "source": [
    "La celda en rojo corresponde a la probabilidad\n",
    "\n",
    "$$\n",
    "  p(y=0, x=1) = \\frac{325}{10000}\n",
    "$$\n",
    "\n",
    "Para el ejercicio 3\n",
    "\n",
    "Ahora, para calcular la probabilidad condicional $p(x=1|y=0)$ debemos obtener la probabilidad marginal de $y$, o $p(y=0)$.\n"
   ]
  },
  {
   "cell_type": "code",
   "execution_count": 21,
   "metadata": {},
   "outputs": [
    {
     "data": {
      "text/html": [
       "<style type=\"text/css\">\n",
       "#T_05343_row0_col3, #T_05343_row1_col3, #T_05343_row2_col3, #T_05343_row3_col3 {\n",
       "  background-color: #d4d1d1;\n",
       "  color: black;\n",
       "}\n",
       "</style>\n",
       "<table id=\"T_05343\">\n",
       "  <thead>\n",
       "    <tr>\n",
       "      <th class=\"index_name level0\" >X</th>\n",
       "      <th id=\"T_05343_level0_col0\" class=\"col_heading level0 col0\" >0</th>\n",
       "      <th id=\"T_05343_level0_col1\" class=\"col_heading level0 col1\" >1</th>\n",
       "      <th id=\"T_05343_level0_col2\" class=\"col_heading level0 col2\" >2</th>\n",
       "      <th id=\"T_05343_level0_col3\" class=\"col_heading level0 col3\" >p(y)</th>\n",
       "    </tr>\n",
       "    <tr>\n",
       "      <th class=\"index_name level0\" >Y/X</th>\n",
       "      <th class=\"blank col0\" >&nbsp;</th>\n",
       "      <th class=\"blank col1\" >&nbsp;</th>\n",
       "      <th class=\"blank col2\" >&nbsp;</th>\n",
       "      <th class=\"blank col3\" >&nbsp;</th>\n",
       "    </tr>\n",
       "  </thead>\n",
       "  <tbody>\n",
       "    <tr>\n",
       "      <th id=\"T_05343_level0_row0\" class=\"row_heading level0 row0\" >0</th>\n",
       "      <td id=\"T_05343_row0_col0\" class=\"data row0 col0\" >0</td>\n",
       "      <td id=\"T_05343_row0_col1\" class=\"data row0 col1\" >275</td>\n",
       "      <td id=\"T_05343_row0_col2\" class=\"data row0 col2\" >416</td>\n",
       "      <td id=\"T_05343_row0_col3\" class=\"data row0 col3\" >691/10000=0.0691</td>\n",
       "    </tr>\n",
       "    <tr>\n",
       "      <th id=\"T_05343_level0_row1\" class=\"row_heading level0 row1\" >1</th>\n",
       "      <td id=\"T_05343_row1_col0\" class=\"data row1 col0\" >446</td>\n",
       "      <td id=\"T_05343_row1_col1\" class=\"data row1 col1\" >2570</td>\n",
       "      <td id=\"T_05343_row1_col2\" class=\"data row1 col2\" >1338</td>\n",
       "      <td id=\"T_05343_row1_col3\" class=\"data row1 col3\" >4354/10000=0.4354</td>\n",
       "    </tr>\n",
       "    <tr>\n",
       "      <th id=\"T_05343_level0_row2\" class=\"row_heading level0 row2\" >2</th>\n",
       "      <td id=\"T_05343_row2_col0\" class=\"data row2 col0\" >1251</td>\n",
       "      <td id=\"T_05343_row2_col1\" class=\"data row2 col1\" >2523</td>\n",
       "      <td id=\"T_05343_row2_col2\" class=\"data row2 col2\" >396</td>\n",
       "      <td id=\"T_05343_row2_col3\" class=\"data row2 col3\" >4170/10000=0.4170</td>\n",
       "    </tr>\n",
       "    <tr>\n",
       "      <th id=\"T_05343_level0_row3\" class=\"row_heading level0 row3\" >3</th>\n",
       "      <td id=\"T_05343_row3_col0\" class=\"data row3 col0\" >462</td>\n",
       "      <td id=\"T_05343_row3_col1\" class=\"data row3 col1\" >323</td>\n",
       "      <td id=\"T_05343_row3_col2\" class=\"data row3 col2\" >0</td>\n",
       "      <td id=\"T_05343_row3_col3\" class=\"data row3 col3\" >785/10000=0.0785</td>\n",
       "    </tr>\n",
       "  </tbody>\n",
       "</table>\n"
      ],
      "text/plain": [
       "<pandas.io.formats.style.Styler at 0x7f9975ec0b50>"
      ]
     },
     "metadata": {},
     "output_type": "display_data"
    }
   ],
   "source": [
    "# Calculate row sums\n",
    "row_sums = freq_table.sum(axis=1)\n",
    "\n",
    "# Calculate p(y)\n",
    "xt_py = freq_table.copy()\n",
    "xt_py['p(y)'] = [f\"{row_sum}/{freq_table.sum().sum()}={row_sum/freq_table.sum().sum():.4f}\" for row_sum in row_sums]\n",
    "\n",
    "# Style the table\n",
    "def highlight_column(x):\n",
    "    df = pd.DataFrame('', index=x.index, columns=x.columns)\n",
    "    df['p(y)'] = 'background-color: #d4d1d1; color: black'\n",
    "    return df\n",
    "\n",
    "styled_table = xt_py.style.apply(highlight_column, axis=None)\n",
    "display(styled_table)\n"
   ]
  },
  {
   "attachments": {},
   "cell_type": "markdown",
   "metadata": {},
   "source": [
    "Luego, la probabilidad condicional será la probabilidad conjunta $p(y=0, x=1)$ dividida por la probabilidad marginal $p(y=0)$\n",
    "\n",
    "$$\n",
    "  p(x=1|y=0) = \\frac{p(y=0,x=1)}{p(y=0)} = \\frac{325/10000}{725/10000} = \\frac{13}{29}\n",
    "$$\n",
    "\n",
    "En general, la distribución condicional $p(x | y=0)$ se puede obtener como sigue\n"
   ]
  },
  {
   "cell_type": "code",
   "execution_count": 22,
   "metadata": {},
   "outputs": [
    {
     "data": {
      "text/html": [
       "<table>\n",
       "<thead>\n",
       "<tr><th style=\"text-align: right;\">  </th><th style=\"text-align: right;\">  X</th><th style=\"text-align: right;\">  n</th><th style=\"text-align: right;\">  p(x|y=0)</th></tr>\n",
       "</thead>\n",
       "<tbody>\n",
       "<tr><td style=\"text-align: right;\"> 0</td><td style=\"text-align: right;\">  2</td><td style=\"text-align: right;\">416</td><td style=\"text-align: right;\">  0.602026</td></tr>\n",
       "<tr><td style=\"text-align: right;\"> 1</td><td style=\"text-align: right;\">  1</td><td style=\"text-align: right;\">275</td><td style=\"text-align: right;\">  0.397974</td></tr>\n",
       "</tbody>\n",
       "</table>"
      ],
      "text/plain": [
       "<IPython.core.display.HTML object>"
      ]
     },
     "metadata": {},
     "output_type": "display_data"
    }
   ],
   "source": [
    "# Filter rows where Y == 0\n",
    "filtered_data = sampled_data[sampled_data['Y'] == 0]\n",
    "\n",
    "# Count occurrences of each X value\n",
    "count_data = filtered_data['X'].value_counts().reset_index()\n",
    "count_data.columns = ['X', 'n']\n",
    "\n",
    "# Calculate the conditional probability p(x|y=0)\n",
    "count_data['p(x|y=0)'] = count_data['n'] / count_data['n'].sum()\n",
    "\n",
    "# Display the table (you can further style this table if you'd like)\n",
    "display(HTML(tabulate(count_data, headers='keys', tablefmt='html')))"
   ]
  },
  {
   "attachments": {},
   "cell_type": "markdown",
   "metadata": {},
   "source": [
    "Para el ejercicio 4.\n",
    "\n",
    "$F(X\\leq 1,Y\\leq 2) = p(x=0, y=0)+p(x=0, y=1)+p(x=0, y=2)+p(x=1, y=0)+p(x=1, y=1)+p(x=1, y=2)=$\n"
   ]
  },
  {
   "cell_type": "code",
   "execution_count": 23,
   "metadata": {},
   "outputs": [
    {
     "data": {
      "text/html": [
       "<table border=\"1\" class=\"dataframe\">\n",
       "  <thead>\n",
       "    <tr style=\"text-align: right;\">\n",
       "      <th>X</th>\n",
       "      <th>0</th>\n",
       "      <th>1</th>\n",
       "      <th>2</th>\n",
       "    </tr>\n",
       "    <tr>\n",
       "      <th>Y</th>\n",
       "      <th></th>\n",
       "      <th></th>\n",
       "      <th></th>\n",
       "    </tr>\n",
       "  </thead>\n",
       "  <tbody>\n",
       "    <tr>\n",
       "      <th>0</th>\n",
       "      <td>0.0000</td>\n",
       "      <td>0.0275</td>\n",
       "      <td>0.0416</td>\n",
       "    </tr>\n",
       "    <tr>\n",
       "      <th>1</th>\n",
       "      <td>0.0446</td>\n",
       "      <td>0.2570</td>\n",
       "      <td>0.1338</td>\n",
       "    </tr>\n",
       "    <tr>\n",
       "      <th>2</th>\n",
       "      <td>0.1251</td>\n",
       "      <td>0.2523</td>\n",
       "      <td>0.0396</td>\n",
       "    </tr>\n",
       "    <tr>\n",
       "      <th>3</th>\n",
       "      <td>0.0462</td>\n",
       "      <td>0.0323</td>\n",
       "      <td>0.0000</td>\n",
       "    </tr>\n",
       "  </tbody>\n",
       "</table>"
      ],
      "text/plain": [
       "<IPython.core.display.HTML object>"
      ]
     },
     "metadata": {},
     "output_type": "display_data"
    }
   ],
   "source": [
    "# Create a pivot table\n",
    "xt = pd.pivot_table(sampled_data, values=None, index='Y', columns='X', aggfunc='size', fill_value=0)\n",
    "\n",
    "# Normalize to get probabilities\n",
    "xt_prob = xt / xt.values.sum()\n",
    "\n",
    "display(HTML(xt_prob.to_html()))"
   ]
  },
  {
   "attachments": {},
   "cell_type": "markdown",
   "metadata": {},
   "source": [
    "La distribución condicional de $x|y=y$ puede verse totalmente diferente que la distribución marginal $p(x)$. En la siguiente imagen, tomada de Bishop (PRML-1.1), se ilustra la distribución de dos variables $X$ y $Y$. $X$ puede tomar 9 valores posibles, y $Y$ 2. La distribución marginal de $X$, la distribución independientemente de qué valores tome $Y$, tiene una forma más achatada (más amplia, con mayor varianza) que la distribución condicional a $Y=1$.\n",
    "\n",
    "<p align=\"center\">\n",
    "  <img src=\"img/marginal_conditional.png\" width='40%' />\n",
    "</p>\n"
   ]
  },
  {
   "attachments": {},
   "cell_type": "markdown",
   "metadata": {},
   "source": [
    "### Definición de Funciones de Masa de Probabilidad (PMF)\n",
    "\n",
    "Si $\\mathcal{X}$ es finito o contable infinito (cada miembro de $\\mathcal{X}$ puede asociarse con un elemento de $\\mathbb{N}$), entonces $X$ es una variable aleatoria _discreta_.\n",
    "Una función de masa de probabilidad (PMF, por sus siglas en inglés) es una función que describe la probabilidad de que una variable aleatoria discreta tome un valor específico. En otras palabras, para cada posible resultado en el espacio de muestras, la PMF asigna una probabilidad.\n",
    "\n",
    "Matemáticamente, la PMF $ P(X = x) $ es una función que satisface las siguientes condiciones:\n",
    "\n",
    "1. **Positividad**: $ P(X = x) \\geq 0 $ para todo $ x $.\n",
    "2. **Normalización**: $ \\sum\\_{x \\in \\Omega} P(X = x) = 1 $, donde $ \\Omega $ es el espacio de muestras.\n"
   ]
  },
  {
   "attachments": {},
   "cell_type": "markdown",
   "metadata": {},
   "source": [
    "### Definición de Funciones de Densidad de Probabilidad (PDF)\n",
    "\n",
    "Si $X\\in \\mathbb{R}$ es una función real, se denomina _variable aleatoria continua_, y es más natural especificar que $X$ se encuentre en un intervalo, e.g,, $a \\leq X \\leq b$, dado que en este caso no se puede crear un conjunto _contable_ de valores posibles que $X$ puede tomar, pero podemos crear un conjunto finito de _intervalos_ en la linea real, y asociar los eventos de $X$ que están en esos intervalos.\n",
    "\n",
    "Si el conjunto de posibles valores que una variable aleatoria $ X $ puede tomar es un intervalo (o una unión de intervalos) en la recta real, entonces $ X $ es una variable aleatoria _continua_. Una función de densidad de probabilidad (PDF, por sus siglas en inglés) es una función que describe cómo se distribuyen las probabilidades a lo largo de los posibles valores de una variable aleatoria continua. A diferencia de una PMF, donde se asigna una probabilidad directamente a un valor específico, la PDF asigna una densidad. Para obtener una probabilidad real de que $ X $ caiga en un intervalo específico, se integra la PDF sobre ese intervalo.\n",
    "\n",
    "Matemáticamente, la PDF $ f(x) $ de una variable aleatoria continua $ X $ satisface las siguientes condiciones:\n",
    "\n",
    "1. **No Negatividad**: $ f(x) \\geq 0 $ para todo $ x $.\n",
    "2. **Normalización**: $ \\int\\_{-\\infty}^{\\infty} f(x) \\, dx = 1 $. Esto significa que el área total bajo la curva de la PDF (desde el infinito negativo hasta el infinito positivo) es 1.\n",
    "3. **Probabilidad en un intervalo**: La probabilidad de que $ X $ esté en el intervalo $ [a, b] $ es $ \\int\\_{a}^{b} f(x) \\, dx $.\n",
    "\n",
    "**Nota:** Dado que estamos tratando con variables continuas, la probabilidad de que $ X $ tome un valor específico es, en teoría, cero. Es decir, $ P(X = x) = 0 $ para cualquier $ x $. En su lugar, trabajamos con probabilidades en intervalos, como se indicó anteriormente.\n"
   ]
  },
  {
   "attachments": {},
   "cell_type": "markdown",
   "metadata": {},
   "source": [
    "### PMFs y PDFs frecuentemente usadas\n",
    "\n",
    "Las PMFs más usadas son:\n",
    "\n",
    "1. **Bernoulli**: $p(x) = \\begin{cases} 1-p & \\text{si } x=0 \\\\ p & \\text{si } x=1 \\end{cases}$\n",
    "2. **Binomial**: $p(x) = \\binom{n}{x}p^x(1-p)^{n-x}$\n",
    "3. **Poisson**: $p(x) = \\frac{\\lambda^x}{x!}e^{-\\lambda}$\n",
    "4. **Geométrica**: $p(x) = (1-p)^{x-1}p$\n",
    "\n",
    "\n",
    "La distribución de Bernoulli es un caso especial de la distribución binomial, cuando $n=1$.\n"
   ]
  },
  {
   "cell_type": "code",
   "execution_count": 24,
   "metadata": {},
   "outputs": [
    {
     "data": {
      "text/html": [
       "<div style=\"text-align: center;\"><img src=\"img/pmf.png\" width=\"60%\"/></div>"
      ],
      "text/plain": [
       "<IPython.core.display.HTML object>"
      ]
     },
     "metadata": {},
     "output_type": "display_data"
    }
   ],
   "source": [
    "image_path = \"img/pmf.png\"\n",
    "display(HTML('<div style=\"text-align: center;\"><img src=\"{}\" width=\"60%\"/></div>'.format(image_path)))"
   ]
  },
  {
   "attachments": {},
   "cell_type": "markdown",
   "metadata": {},
   "source": [
    "Las PDFs más usadas son:\n",
    "\n",
    "1. **Uniforme**: $f(x) = \\begin{cases} \\frac{1}{b-a} & \\text{si } a \\leq x \\leq b \\\\ 0 & \\text{en otro caso} \\end{cases}$\n",
    "2. **Normal**: $f(x) = \\frac{1}{\\sqrt{2\\pi\\sigma^2}}e^{-\\frac{(x-\\mu)^2}{2\\sigma^2}}$\n",
    "3. **Exponencial**: $f(x) = \\begin{cases} \\lambda e^{-\\lambda x} & \\text{si } x \\geq 0 \\\\ 0 & \\text{si } x < 0 \\end{cases}$"
   ]
  },
  {
   "cell_type": "code",
   "execution_count": 25,
   "metadata": {},
   "outputs": [
    {
     "data": {
      "text/html": [
       "<div style=\"text-align: center;\"><img src=\"img/pdfs.png\" width=\"60%\"/></div>"
      ],
      "text/plain": [
       "<IPython.core.display.HTML object>"
      ]
     },
     "metadata": {},
     "output_type": "display_data"
    }
   ],
   "source": [
    "image_path = \"img/pdfs.png\"\n",
    "display(HTML('<div style=\"text-align: center;\"><img src=\"{}\" width=\"60%\"/></div>'.format(image_path)))"
   ]
  },
  {
   "attachments": {},
   "cell_type": "markdown",
   "metadata": {},
   "source": [
    "### Distribución acumulada (cdf)\n",
    "\n",
    "La CDF es estrictamente creciente, y tiene límites 0 y 1.\n",
    "\n",
    "Sea $A = (X \\leq a)$, $B = (X \\leq b)$ y $C = (a < X \\leq b)$ en donde $a < b$. Tenemos que $B$ es la unión de $A$ y $C$, es decir, $B$ toma todos los valores que toman $A$ y $C$. Dado que $A$ y $C$ son mutuamente excluyentes, la probabilidad de $B$ es\n",
    "\n",
    "$$\\text{Pr}(B) = \\text{Pr}(A) + \\text{Pr}(C) \\tag{7} $$\n",
    "\n",
    "Y la probabilidad de estar en el intervalo $C$ como\n",
    "\n",
    "$$\n",
    "  \\text{Pr}(C) = \\text{Pr}(B) - \\text{Pr}(A) \\tag{8}\n",
    "$$\n",
    "\n",
    "Definimos la distribución de probabilidad acumulada como\n",
    "\n",
    "$$\n",
    "   P(x) \\overset{\\Delta}{=} \\text{Pr}(X \\leq x)\n",
    "$$\n",
    "\n",
    "Con esto, podemos calcular la probabilidad de estar en un intervalo como\n",
    "\n",
    "$$\n",
    "  \\text{Pr}(a < X \\leq b) = P(b) - P(a) \\tag{9}\n",
    "$$\n",
    "\n",
    "La cdf gráficamente tiene esta forma, cuyo eje Y se lee \"probabilidad de que $X$ tome valores igual o menor a $x$\".\n",
    "Notar que esto es una suma acumulada (o integral) que termina en 1.\n",
    "\n",
    "### CDF para Variables Discretas\n",
    "\n",
    "**Definición:** Para una variable aleatoria discreta $X$, la Función de Distribución Acumulativa $F(x)$ es la probabilidad de que $X$ tome un valor menor o igual a $x$. La CDF es una función escalonada, ya que aumenta solo en los puntos donde la función de masa de probabilidad (PMF) es positiva.\n",
    "\n",
    "**Matemáticamente:**\n",
    "$$ F(x) = P(X \\leq x) = \\sum\\_{k \\leq x} P(X = k) $$\n",
    "\n",
    "Dónde:\n",
    "\n",
    "- La suma se extiende sobre todos los valores de $k$ que son menores o iguales a $x$.\n",
    "- $F(x)$ es una función escalonada, ya que aumenta solo en los puntos donde la función de masa de probabilidad (PMF) es positiva.\n",
    "\n",
    "**Interpretación:** Si tienes una variable aleatoria discreta que representa, por ejemplo, el número de veces que un evento ocurre, la CDF en un punto específico $x$ te dice la probabilidad acumulada de que ese evento ocurra \\(x\\) o menos veces.\n",
    "\n",
    "### CDF para Variables Continuas\n",
    "\n",
    "**Definición:** Para una variable aleatoria continua $X$, la Función de Distribución Acumulativa $F(x)$ es la probabilidad de que $X$ tome un valor menor o igual a $x$.\n",
    "\n",
    "**Matemáticamente:**\n",
    "$$ F(x) = P(X \\leq x) = \\int\\_{-\\infty}^{x} f(t) \\, dt $$\n",
    "\n",
    "Dónde:\n",
    "\n",
    "- $f(t)$ es la función de densidad de probabilidad (PDF) de $X$.\n",
    "- $F(x)$ es una función continua y no disminuyente.\n",
    "\n",
    "**Interpretación:** Si tienes una variable aleatoria continua, como la altura de las personas en una población, la CDF en un punto específico $x$ te dice la probabilidad acumulada de que una persona seleccionada al azar tenga una altura de $x$ o menos.\n",
    "\n",
    "Para ambas variables, discretas y continuas, la CDF siempre satisface:\n",
    "\n",
    "1. $0 \\leq F(x) \\leq 1$\n",
    "2. $F(-\\infty) = 0$ y $F(\\infty) = 1$\n",
    "3. $F(x)$ es no decreciente, es decir, si $a < b$, entonces $F(a) \\leq F(b)$.\n"
   ]
  },
  {
   "cell_type": "code",
   "execution_count": 26,
   "metadata": {},
   "outputs": [
    {
     "data": {
      "image/png": "[encoded data removed]",
      "text/plain": [
       "<Figure size 900x300 with 2 Axes>"
      ]
     },
     "metadata": {},
     "output_type": "display_data"
    }
   ],
   "source": [
    "# Setting up plot dimensions\n",
    "fig, axes = plt.subplots(1, 2, figsize=(9, 3))\n",
    "\n",
    "# PDF Gaussiana (Normal)\n",
    "x = np.linspace(-3, 3, 101)\n",
    "y = norm.pdf(x, 0, 1)\n",
    "\n",
    "# CDF Gaussiana\n",
    "y_cdf = norm.cdf(x, 0, 1)\n",
    "axes[0].plot(x, y_cdf, color='blue', linewidth=2)\n",
    "axes[0].set_title('cdf gaussiana')\n",
    "axes[0].set_xlabel('X')\n",
    "axes[0].set_ylabel(r\"$Pr(X \\leq x)$\");\n",
    "\n",
    "# CDF para la distribución de Poisson\n",
    "\n",
    "# PDF Poisson\n",
    "x = np.arange(0, 20)\n",
    "y = poisson.pmf(x, 5)\n",
    "\n",
    "# CDF Poisson\n",
    "y_cdf = poisson.cdf(x, 5)\n",
    "axes[1].step(x, y_cdf, color='blue', linewidth=2)\n",
    "axes[1].scatter(x, y_cdf, color='blue')\n",
    "axes[1].set_title('cdf poisson')\n",
    "axes[1].set_xlabel('X')\n",
    "axes[1].set_ylabel(r\"$Pr(X \\leq x)$\");\n",
    "\n"
   ]
  },
  {
   "attachments": {},
   "cell_type": "markdown",
   "metadata": {},
   "source": [
    "**Relación entre función de densidad y función de distribución acumulativa**\n",
    "\n",
    "Podemos definir la función de densidad de probabilidad, o _pdf_, como la derivada de la cdf\n",
    "\n",
    "$$\n",
    "  p(x) \\overset{\\Delta}{=} \\frac{d}{dx}P(x)\n",
    "$$\n",
    "\n",
    "Alternativamente, en vez de $p(x)$ y $P(x)$ se suele usar, para VA continuas, $f(x)$ y $F(x)$ respectivamente.\n",
    "\n",
    "Y viceversa: la cdf como la integral de la pdf. Dada la pdf, podemos calcular la probabilidad de una variable continua en un intervalo finito como sigue\n",
    "\n",
    "$$\n",
    "  \\text{Pr}(a <X\\leq b) = \\int_a^b p(x)dx = P(b) - P(a) \\tag{10}\n",
    "$$\n",
    "\n",
    "La función de densidad de probabilidad debe satisfacer\n",
    "\n",
    "\\begin{align*}\n",
    "1)\\ &f(x) \\geq 0,\\ \\text{para toda } x,\\ -\\infty < x < \\infty\\\\\n",
    "2)\\ &\\int\\_{-\\infty}^\\infty f(x)\\text{d}x = 1\n",
    "\\end{align*}\n",
    "\n",
    "---\n",
    "\n",
    "**Ejemplo con distribución normal**\n",
    "\n",
    "La pdf de una normal está dada por\n",
    "\n",
    "$$\n",
    "  \\mathcal{N}(x\\mid \\mu, \\sigma^2)=  p(x) = \\frac{1}{\\sigma \\sqrt{2\\pi}} e\\left\\{\\frac{-(x-\\mu)^2}{2\\sigma^2}\\right\\} \\tag{10}\n",
    "$$\n",
    "\n",
    "que es gobernada (es decir, su forma y sus valores quedan completamente especificados) por $\\mu$, la media o el valor central, y $\\sigma^2$, llamada la varianza (cuya raíz cuadrada es la desviación estándar $\\sigma$, y está en las unidades de $x$ y $\\mu$).El recíproco de la varianza es llamado _precisión_, $\\tau=1/\\sigma^2$.\n",
    "\n",
    "En la ecuación (10), el término $\\frac{1}{\\sigma \\sqrt{2\\pi}}$ es una constante de _normalización_, que asegura que $p(x)$ sume 1, por lo que\n",
    "\n",
    "$$\n",
    "  \\int_{-\\infty}^\\infty p(x)\\text{d}x=1\n",
    "$$\n",
    "\n",
    "Las siguientes expresiones se cumplen en (10). El valor esperado de $x$ es\n",
    "\n",
    "$$\n",
    "  \\mathbf{E}[x]=\\int_{-\\infty}^\\infty p(x)x\\text{d}x=\\mu\n",
    "$$\n",
    "\n",
    "Y el valor esperado de $x^2$\n",
    "\n",
    "$$\n",
    "  \\mathbf{E}[x^2] =  \\int_{-\\infty}^\\infty p(x)x\\text{d}x^2=\\mu^2 + \\sigma^2\n",
    "$$\n",
    "\n",
    "La varianza está dada por $\\text{var}[x]=\\mathbf{E}[x^2] - \\mathbf{E}[x]^2$, por lo que $\\text{var}[x]=\\sigma^2$.\n"
   ]
  },
  {
   "cell_type": "code",
   "execution_count": 27,
   "metadata": {},
   "outputs": [
    {
     "name": "stdout",
     "output_type": "stream",
     "text": [
      "3.9881330919624323\n",
      "9.149508765663048\n",
      "9.149508765663052\n",
      "3.02\n"
     ]
    }
   ],
   "source": [
    "x = np.random.normal(4, 3, 10000)\n",
    "print(x.mean())\n",
    "print(np.mean(x**2) - np.mean(x)**2)\n",
    "print(np.var(x))\n",
    "print(np.std(x).round(2))"
   ]
  },
  {
   "attachments": {},
   "cell_type": "markdown",
   "metadata": {},
   "source": [
    "En la siguiente figura a la izquierda se representa una variable aleatoria normal con media 0 y desviación estándar de 1, conocida como distribución normal estándar, y representada como $\\mathcal{N}(\\mu=0, \\sigma = 1)$ o simplemente $\\mathcal{N}(0, 1)$. Para la densidad de probabilidad normal, en Python usamos `scipy.stats.norm.pdf(x, loc=0, scale=1)`, que nos retorna la densidad en `x`.\n",
    "`norm.`, que nos retorna la densidad en `x`.\n",
    "\n",
    "A la derecha se representa el área equivalente en la cdf, usando `scipy.stats.norm.cdf(x, loc=0, scale=1)`.\n"
   ]
  },
  {
   "cell_type": "code",
   "execution_count": 28,
   "metadata": {},
   "outputs": [
    {
     "data": {
      "image/png": "[encoded data removed]",
      "text/plain": [
       "<Figure size 1300x400 with 2 Axes>"
      ]
     },
     "metadata": {},
     "output_type": "display_data"
    }
   ],
   "source": [
    "# Setting up plot dimensions\n",
    "fig, axes = plt.subplots(1, 2, figsize=(13, 4))\n",
    "\n",
    "# PDF Gaussiana (Normal)\n",
    "x = np.linspace(-3, 3, 101)\n",
    "y = norm.pdf(x, 0, 1)\n",
    "\n",
    "axes[0].plot(x, y, color='blue', linewidth=2)\n",
    "axes[0].set_title('pdf gaussiana (normal)')\n",
    "axes[0].set_ylabel('p(x)')\n",
    "\n",
    "from_x, to_x = -1.5, 1.5\n",
    "sx = np.concatenate([[from_x], np.arange(from_x, to_x, 0.01), [to_x]])\n",
    "sy = np.concatenate([[0], norm.pdf(np.arange(from_x, to_x, 0.01)), [0]])\n",
    "\n",
    "axes[0].fill(sx, sy, color='#B3B3FF')\n",
    "axes[0].text(-1, norm.pdf(0, 0) / 2, r\"$\\int_{-1,5}^{1.5} p(x) dx$\", fontsize=12)\n",
    "axes[0].text(-1, norm.pdf(0, 0) / 3, \"= P(1.5) - P(-1.5)\", fontsize=12)\n",
    "\n",
    "# CDF Gaussiana\n",
    "y_cdf = norm.cdf(x, 0, 1)\n",
    "axes[1].plot(x, y_cdf, color='blue', linewidth=2)\n",
    "axes[1].set_title('cdf gaussiana')\n",
    "axes[1].set_xlabel('X')\n",
    "axes[1].set_ylabel(r\"$Pr(X \\leq x)$\")\n",
    "\n",
    "sy_cdf = np.concatenate([[0], norm.cdf(np.arange(from_x, to_x, 0.01)), [0]])\n",
    "axes[1].fill_between(sx, sy_cdf, color='#B3B3FF')\n",
    "\n",
    "plt.show()"
   ]
  },
  {
   "attachments": {},
   "cell_type": "markdown",
   "metadata": {},
   "source": [
    "En `Python`, la función de densidad acumulada CDF para la distribución normal se obtiene con `pnorm(x, mean, sd)` `norm.cdf(x, mean, sd)` en donde `x` es un vector de _cuantiles_, que es el, o los, valores en $x$ para el cual(es) deseamos obtener su probabilidad (básicamente, un cuantil es la función inversa de $P(x)$).\n",
    "\n",
    "Para obtener el área sombreada en la anterior figura, usamos `norm.cdf(b)-norm.cdf(a)`\n"
   ]
  },
  {
   "cell_type": "code",
   "execution_count": 29,
   "metadata": {},
   "outputs": [
    {
     "data": {
      "text/plain": [
       "0.8663855974622838"
      ]
     },
     "execution_count": 29,
     "metadata": {},
     "output_type": "execute_result"
    }
   ],
   "source": [
    "norm.cdf(1.5, 0, 1) - norm.cdf(-1.5, 0, 1)"
   ]
  },
  {
   "attachments": {},
   "cell_type": "markdown",
   "metadata": {},
   "source": [
    "El área que cubre `pnorm(1.5)` va desde $-\\infty$ a 1.5, y el área de `pnorm(-1.5)` va de $-\\infty$ a -1.5. Matemáticamente, lo anterior se expresaría como\n",
    "\n",
    "$$\n",
    "  P(-1.5 < X < 1.5) = \\int_{-1.5}^{1.5}\\frac{1}{\\sigma \\sqrt{2\\pi}} e\\left\\{\\frac{-(x-\\mu)^2}{2\\sigma^2}\\right\\}\\text{d}x\n",
    "$$\n"
   ]
  },
  {
   "attachments": {},
   "cell_type": "markdown",
   "metadata": {},
   "source": [
    "En contraste con las **VA** discretas, la probabilidad de que una variable continua $X\\in \\mathbb{R}$ tome un valor particular, $p(X = x)$, es 0. Es como integrar la función de densidad de la siguiente manera:\n",
    "\n",
    "$$\n",
    "  Pr(a \\leq X \\leq a) = \\int_a^b f(x)dx = P(a) - P(a)\n",
    "$$\n",
    "\n",
    "Por esta razón, con $\\text{\\sf pdf}$ solo calculamos probabilidades en intervalos.\n",
    "\n",
    "---\n",
    "\n",
    "Para VA continuas, las reglas de suma y producto son\n",
    "\n",
    "\\begin{align*}\n",
    "\\text{ \\bf{regla de la suma}} \\quad\\quad &f(x) = \\int_y f(x,y)\\text{d}y \\\\\n",
    "\\text{ \\bf{regla del producto}}\\quad\\quad &f(x, y) = f(y|x)f(x)\n",
    "\\end{align*}\n",
    "\n",
    "En donde $f(x)$ es la función de probabilidad marginal, y se integra _con respecto a_ $y$. Lo mismo si queremos encontrar la marginal de $y$ tenemos que integrar $f(x,y)$ _con respecto a_ $x$.\n",
    "\n",
    "## Función acumulada de probabilidad conjunta\n",
    "\n",
    "Sean $X_1, X_2$ variables aleatorias continuas con función de distribución conjunta $F(x_1, x_2)$. La función de distribución bivariante $F(x_1, x_2)$ es\n",
    "\n",
    "$$\n",
    "  F(x_1, x_2) = P(X_1 \\leq x_1, X_2 \\leq x_2),\\quad -\\infty < x_1 < \\infty, -\\infty < x_2<\\infty\n",
    "$$\n",
    "\n",
    "Si existe una función no negativa $f(x_1, x_2)$, se obtiene\n",
    "\n",
    "\\begin{align*}\n",
    "F(x_1, x_2) = \\int*{-\\infty}^{x_2} \\int_{-\\infty}^{x_1} f(t_1, t_2)\\text{d}t_1\\text{d}t_2\n",
    "\\end{align*}\n",
    "\n",
    "Para toda $-\\infty < x_1<\\infty, -\\infty < x_2<\\infty$. En donde $t_1, t_2$ son solo variables de integración.\n",
    "\n",
    "Satisfacen\n",
    "\n",
    "\\begin{align*}\n",
    "1. &f(x_1, x_2)\\geq 0\\quad \\text{para toda }x_1, x_2\\\\\n",
    "2. &\\int_{-\\infty}^\\infty f(x_1, x_2) \\text{d}x_1\\text{d}x_2= 1\n",
    "\\end{align*}"
   ]
  },
  {
   "attachments": {},
   "cell_type": "markdown",
   "metadata": {},
   "source": [
    "**Ejemplos**\n",
    "\n",
    "1. Dada $f(y) = cy^2,\\ 0 \\leq y \\leq 2$ y $f(y)=0$ en cualquier otra parte, encuentre el valor de $c$ para el cuál $f(y)$ es una función de densidad válida.\n",
    "\n",
    "> _Solución_\n",
    "\n",
    "> Para obtener $c$, requerimos un valor tal que se cumpla\n",
    "\n",
    "> $$\n",
    ">  F(y) = \\int_{-\\infty}^\\infty f(y)\\text{d}y = 1\n",
    "> $$\n",
    ">\n",
    "> Lo que nos da\n",
    ">\n",
    "> $$\n",
    ">  F(y) = \\int_0^2 cy^2\\text{d}y=\\frac{cy^3}{3} \\Bigg|_0^2=\\frac{8}{3}c\n",
    "> $$\n",
    ">\n",
    "> Sustituyendo $\\frac{8}{3}c=1$ nos da que $c=3/8$.\n",
    "\n",
    "2. Encontrar $P(1\\leq Y \\leq 2)$ para la función del ejemplo 1, también encontrar $P(1< Y < 2)$\n",
    "\n",
    "> _Solución_\n",
    "\n",
    "> Dado que ya encontramos el valor de que satisface $F(y) = \\int_{-\\infty}^\\infty f(y)\\text{d}y = 1$, la sustituimos.\n",
    ">\n",
    "> $$\n",
    ">  P(1\\leq Y \\leq 2) = \\int_1^2 f(y)\\text{d}y= \\frac{3}{8}\\int_1^2 y^2\\text{d}y=7/8\n",
    "> $$\n",
    "\n",
    "3. Como una medida de inteligencia, a unos ratones se les toma el tiempo que tardan para pasar por un laberinto para llegar a una recompensa (alimento). El tiempo en segundos necesario para cualquier ratón es una variable aleatoria $Y$ con función de densidad dada por\n",
    "\n",
    "$$\n",
    "  f(y) = \\begin{cases}\n",
    "    \\frac{b}{y^2},\\ &y\\geq b\\\\\n",
    "    0,\\ &\\text{en cualquier otro punto}\n",
    "  \\end{cases}\n",
    "$$\n",
    "\n",
    "En donde $b$ es el tiempo mínimo posible para recorrer el laberinto. Demostrar que $f(y)$ tiene las propiedades de una función de densidad.\n",
    "\n",
    "> _Solución_\n",
    "\n",
    "> Dado que $b$ es un tiempo, no puede ser negativo. Además, $f(y)$ tiene el término cuadrático $y^2$, que tampoco puede ser negativo, por lo que $f(y) \\geq 0$.\n",
    ">\n",
    "> El mínimo valor que puede tener $y$ es $b$. Por lo tanto\n",
    ">\n",
    "> \\begin{align*}\n",
    "> F(y) &= \\int\\_{b}^\\infty \\frac{b}{y^2}\\text{d}y= 1\\\\  \n",
    ">  &= \\frac{by^{-2+1}}{-2+1}\\Bigg|\\_b^\\infty=-\\frac{b}{y}\\Bigg|\\_b^\\infty=0-\\left(-\\frac{b}{b}\\right)=1\n",
    "> \\end{align*}\n",
    "\n",
    "4. En el ejemplo 1 determinamos que $f(y)=(3/8)y^2$ para $0\\leq y \\leq 2, f(y)=0$ en cualquier otra parte. Si la variable $Y$ tiene esta función de densidad, encontrar $\\mu=\\mathbf{E}[Y], \\sigma^2=\\text{var}[Y]$, recordando que $\\text{var}[x]=\\mathbf{E}[x^2]-(\\mathbf{E}[x])^2$.\n",
    "\n",
    "> _Solución_\n",
    "\n",
    "> \\begin{align*}\n",
    "> \\mathbf{E}[Y] &= \\int_{-\\infty}^\\infty yf(y)\\text{d}y= \\int_{-\\infty}^\\infty y\\frac{3y^2}{8}\\text{d}y = \\frac{3}{8}\\cdot\\frac{1}{4}y^4 \\Bigg|_0^2=1.5\\\\\n",
    "> \\text{para } &\\mathbf{E}[Y^2]\\quad \\text{se obtiene}\\\\\n",
    "> \\mathbf{E}[Y^2] &= \\int_{-\\infty}^\\infty y^2f(y)\\text{d}y= \\int\\_{-\\infty}^\\infty y^2\\frac{3y^2}{8}\\text{d}y = \\frac{3}{8}\\cdot\\frac{1}{5}y^5 \\Bigg|\\_0^2=2.4\\\\\n",
    "> \\text{por }&\\text{lo que}\\\\\n",
    "> \\text{var}[x]&=\\mathbf{E}[x^2]-(\\mathbf{E}[x])^2 = 2.4 - 1.5^2 = 0.15\n",
    "> \\end{align*}\n",
    "\n",
    "5. Una partícula radiactiva se localiza en un cuadrado con lados de longitud 1. Denotar como $Y_1, Y_2$ las coordenadas de la ubicación de la partícula. Un modelo razonable para el histograma de frecuencia relativa para $Y_1, Y_2$ es la función bivariante de densidad\n",
    "\n",
    "$$\n",
    "  f(y_1, y_2) = \\begin{cases}\n",
    "  1,\\quad & 0 \\leq y_1 \\leq 1, 0 \\leq y_2 \\leq 1\\\\\n",
    "  0, \\quad & \\text{en cualquier otro punto}\n",
    "  \\end{cases}\n",
    "$$\n",
    "\n",
    "Econtrar $F(y_1=0.2, y_2=0.4)$, que es lo mismo que encontrar la probabilidad $P(y_1<0.2, y_2<0.4)$.\n",
    "\n",
    "> _Solución_\n",
    "\n",
    "> \\begin{align}\n",
    "> F(y*1=0.2, y_2=0.4)%\n",
    "> &= \\int_{-\\infty}^{0.4} \\int_{-\\infty}^{0.2} f(y_1, y_2)\\text{d}y_1\\text{d}y_2 \\\\\n",
    "> &= \\int_{-\\infty}^{0.4} \\int_{-\\infty}^{0.2} (1)\\text{d}y_1\\text{d}y_2 \\\\\n",
    "> &= \\int_{-\\infty}^{0.4} \\left(\\int_{-\\infty}^{0.2} \\text{d}y_1\\right)\\text{d}y_2\\\\\n",
    "> &= \\int_{-\\infty}^{0.4} \\Bigg( y_1\\Big|\\_0^{0.2} \\Bigg)\\text{d}y_2\\\\\n",
    "> &= \\int_{-\\infty}^{0.4} 0.2 \\text{d}y_2 = 0.2y_2\\Big|\\_0^{0.4} = 0.08\n",
    "> \\end{align}\n"
   ]
  },
  {
   "attachments": {},
   "cell_type": "markdown",
   "metadata": {},
   "source": [
    "6. Sea\n",
    "\n",
    "---\n",
    "\n",
    "$$\n",
    "  f(y_1, y_2) = \\begin{cases}\n",
    "    2y_1\\quad 0 \\leq y_1 \\leq, 0 \\leq y_2 \\leq\\\\\n",
    "    0,\\quad \\text{en otro punto}\n",
    "  \\end{cases}\n",
    "$$\n",
    "\n",
    "a) Obtener las funciones de densidad marginal $f(y_1)$ y $f(y_2)$.\n",
    "b) Obtener la función condicional $f(y_1 | y_2)$\n",
    "c) Demostrar si las variables $Y_1, Y_2$ son independientes.\n",
    "\n",
    "> _Solución_\n",
    "\n",
    "> a) La marginal de $f(y_1)$ se obtiene aplicando la regla\n",
    ">\n",
    "> $$\n",
    ">  f(x) = \\int_{-\\infty}^\\infty f(x, y)\\text{d}y\n",
    "> $$\n",
    ">\n",
    "> Notar que para obtener la marginal de la variable $x$ se integra la función conjunta con respecto a $y$. Esto significa que trataremos a $x$ como _constante_.\n",
    "> En este caso, como tenemos $y_1, y_2$ en vez de $x, y$, la marginal sería\n",
    ">\n",
    "> $$\n",
    ">  f(y_1)= \\int_{-\\infty}^\\infty f(y_1, y_2)\\text{d}y_2=\\int_{0}^12y_1\\text{d}y_2\n",
    "> $$\n",
    ">\n",
    "> Y trataremos a $y_1$ como constante, y usamos la regla $\\int \\text{d}x=x$\n",
    ">\n",
    "> $$\n",
    ">  f(y_1)=\\int_{0}^12y_1\\text{d}y_2=2y_1\\int_{0}^1\\text{d}y_2=2y_1\\left(y_2\\Big|_0^1\\right)=2y_1\n",
    "> $$\n",
    ">\n",
    "> Para $f(y_2)$ seguimos un razonamiento similar.\n",
    ">\n",
    "> $$\n",
    ">  f(y_2)= \\int_{-\\infty}^\\infty f(y_1, y_2)\\text{d}y_1=\\int_{0}^12y_1\\text{d}y_1\n",
    "> $$\n",
    ">\n",
    "> Pero ahora integramos con respecto a $y_1$. Aplicamos la regla $\\int x^n \\text{d}x=\\frac{x^{n+1}}{n+1}$\n",
    ">\n",
    "> $$\n",
    ">  f(y_2)=\\int_{0}^12y_1\\text{d}y_1=2\\frac{y_1^2}{2}\\Big|_0^1=y_1^2\\Big|_0^1=1\n",
    "> $$\n",
    ">\n",
    "> La marginal de $y_2$ es una constante.\n",
    "> b) La función condicional se puede obtener con la siguiente regla\n",
    ">\n",
    "> $$\n",
    ">  f(x|y) = \\frac{f(x, y)}{f(x)}\n",
    "> $$\n",
    ">\n",
    "> Por lo que para obtener $f(y_1|y_2)$ necesitamos la densidad conjunta (que ya tenemos), y la marginal de $f(y_2)$, que ya tenemos también.\n",
    ">\n",
    "> $$\n",
    ">  f(y_1|y_2) = \\frac{f(y_1, y_2)}{f(y_2)} = \\frac{2y_1}{1}=2y_1\n",
    "> $$\n",
    ">\n",
    "> La condicional sigue siendo la conjunta porque la marginal es una constante.\n",
    "> c) La demostración de que las variables son independientes es trivial siguiendo la regla: $x,y$ son independientes _si y solo si_ $f(x,y)=f(x)f(y)$\n"
   ]
  },
  {
   "attachments": {},
   "cell_type": "markdown",
   "metadata": {},
   "source": [
    "7. Sea la función de densidad conjunta\n",
    "\n",
    "---\n",
    "\n",
    "$$\n",
    "  f(y_1, y_2) = \\begin{cases}\n",
    "    e^{-(y_1 + y_2)}\\quad y_1>0, y_2>0\\\\\n",
    "    0,\\quad \\text{en otro punto}\n",
    "  \\end{cases}\n",
    "$$\n",
    "\n",
    "a) Encontrar $f(y_1)$ y $f(y_2)$.\n",
    "\n",
    "b) ¿Cuál es la probabilidad $P(1 < Y_1 < 2.5)$ y $P(1 < Y_2 < 2.5)$?\n",
    "\n",
    "c) Para cualquier $Y_2>0$, ¿cuál es la función $f(y_1|y_2)$?\n",
    "\n",
    "> _Solución_\n",
    "\n",
    "> a) Primero notar que tanto $y_1$ como $y_2$ están en el intervalo $(0, \\infty)$, por lo que esos son sus límites de integración. Formalmente, lo correcto sería encontrar el límite de la integral\n",
    ">\n",
    "> $$\n",
    ">  f(y_1)=\\lim_{t\\rightarrow \\infty}\\int_{-\\infty}^{\\infty}f(y_1,y_2)\\text{d}y_2\n",
    "> $$\n",
    ">\n",
    "> Sin embargo, _informalmente_ sabemos que $e^{-\\infty}=0$. Aplicamos la regla de los exponentes $a^na^m=a^{n+m}$ a $e^{-(y_1+y_2)}=e^{-y_1}e^{-y_2}$\n",
    ">\n",
    "> $$\n",
    ">  f(y_1)=\\int_{-\\infty}^{\\infty}f(y_1,y_2)\\text{d}y_2=\\int_0^{\\infty}e^{-y_1}e^{-y_2}\\text{d}y_2=e^{-y_1}\\int_0^{\\infty}e^{-y_2}\\text{d}y_2\n",
    "> $$\n",
    ">\n",
    "> Para integrar lo anterior, consideramos la siguiente regla $\\int e^{-u}du=-e^{-u}$\n",
    ">\n",
    "> $$\n",
    ">  f(y_1) = e^{-y_1}\\int_0^{\\infty}e^{-y_2}\\text{d}y_2=e^{-y_1}\\left(-e^{-y_2}\\Big|_0^\\infty\\right)=e^{-y_1}\\left(-(e^\\infty-e^0)\\right)=\\cdots=e^{-y_1}\n",
    "> $$\n",
    ">\n",
    "> El mismo razonamiento para $f(y_2)$ nos da un resultado similar\n",
    "\n",
    "$$\n",
    "  f(y_2)=\\int_{-0}^{\\infty}e^{-(y_1+y_2)}\\text{d}y_1=\\cdots=e^{-y_2}\n",
    "$$\n",
    "\n",
    "> b) Para obtener esta probabilidad (acumulada) necesitamos la regla\n",
    "\n",
    "> $$\n",
    ">  P(a < X < b)=\\int_a^b f(x)\\text{d}x\n",
    "> $$\n",
    ">\n",
    "> En donde $f(x)$ en nuestro caso corresponde a las marginales $f(y_1)=e^{-y_1}, f(y_2)=e^{-y_2}$\n",
    ">\n",
    "> $$\n",
    ">  P(1<Y_1<2.5)=\\int_1^{2.5}e^{-y_1}\\text{d}y_1=-e^{-y_1}\\Big|_1^{2-5}=-\\left(e^{-2.5}-e^{-1}\\right)=\\cdots=0.285\n",
    "> $$\n",
    ">\n",
    "> Un razonamiento similar aplica para la segunda parte del ejercicio.\n",
    "\n",
    "> c) Usamos la regla del producto ya revisada: $f(x|y)=f(x,y)/f(y)$. La conjunta es $f(y_1,y_2)=e^{-(y_1+y_2)}=e^{-y_1}e^{-y_2}$ y la marginal $f(y_2)=e^{-y_2}$\n",
    ">\n",
    "> $$\n",
    ">  f(y_1|y_2)=\\frac{e^{-y_1}e^{-y_2}}{e^{-y_2}}=e^{-y_1},\\quad \\text{para todo } y_2>0\n",
    "> $$\n",
    ">\n",
    "> Un razonamiento similar aplica a $f(y_2|y_2)$.\n"
   ]
  },
  {
   "attachments": {},
   "cell_type": "markdown",
   "metadata": {},
   "source": [
    "8. Ejemplo de una normal\n",
    "\n",
    "La temperatura promedio de una máquina es de 37°C, con una desviación estándar medida de 1.5. Suponiendo que la distribución de la temperatura puede ser aproximada por una normal, ¿qué tan probable es encontrar una temperatura de 35 o menos?\n",
    "\n",
    "> _Solución_\n",
    "\n",
    "> Queremos hallar la probabilidad $P(X<35)$ sabiendo que $X\\sim \\mathcal{N}(\\mu=37, \\sigma=1.5)$. Es decir\n",
    ">\n",
    "> $$\n",
    ">  P(X<35)=\\int_{0}^{35}\\frac{1}{1.5 \\sqrt{2\\pi}} e\\left\\{\\frac{-(x-37)^2}{2(1.5)^2}\\right\\}\\text{d}x\n",
    "> $$\n"
   ]
  },
  {
   "cell_type": "code",
   "execution_count": 30,
   "metadata": {},
   "outputs": [
    {
     "data": {
      "image/png": "[encoded data removed]",
      "text/plain": [
       "<Figure size 1300x400 with 2 Axes>"
      ]
     },
     "metadata": {},
     "output_type": "display_data"
    }
   ],
   "source": [
    "# Setting up plot dimensions\n",
    "fig, axes = plt.subplots(1, 2, figsize=(13, 4))\n",
    "\n",
    "# PDF\n",
    "x = np.linspace(30, 45, 101)\n",
    "y = norm.pdf(x, 37, 1.5)\n",
    "\n",
    "axes[0].plot(x, y, color='blue', linewidth=2)\n",
    "axes[0].set_title('pdf')\n",
    "axes[0].set_ylabel('p(x)')\n",
    "\n",
    "from_x, to_x = 30, 35\n",
    "sx = np.concatenate([[from_x], np.arange(from_x, to_x, 0.01), [to_x]])\n",
    "sy = np.concatenate([[0], norm.pdf(np.arange(from_x, to_x, 0.01), 37, 1.5), [0]])\n",
    "\n",
    "axes[0].fill(sx, sy, color='#B3B3FF')\n",
    "axes[0].text(35 + 1, norm.pdf(35, 37, 1.5), 'x=35', fontsize=12)\n",
    "\n",
    "# CDF\n",
    "y_cdf = norm.cdf(x, 37, 1.5)\n",
    "axes[1].plot(x, y_cdf, color='blue', linewidth=2)\n",
    "axes[1].set_title('cdf')\n",
    "axes[1].set_xlabel('X')\n",
    "axes[1].set_ylabel(r\"$Pr(X \\leq x)$\")\n",
    "\n",
    "sy_cdf = np.concatenate([[0], norm.cdf(np.arange(from_x, to_x, 0.01), 37, 1.5), [0]])\n",
    "axes[1].fill_between(sx, sy_cdf, color='#B3B3FF')\n",
    "\n",
    "axes[1].text(35 + 1, norm.cdf(35, 37, 1.5), 'x=35', fontsize=12)\n",
    "\n",
    "plt.show()\n"
   ]
  },
  {
   "attachments": {},
   "cell_type": "markdown",
   "metadata": {},
   "source": [
    "El área se obtiene en Python con el siguiente código, que usa la cdf normal, `pnorm`. El primer argumento es el _cuantil_ `q`, el valor en el eje _x_ del cual queremos saber el área bajo la curva.\n"
   ]
  },
  {
   "cell_type": "code",
   "execution_count": 31,
   "metadata": {},
   "outputs": [
    {
     "data": {
      "text/plain": [
       "0.09121121972586788"
      ]
     },
     "execution_count": 31,
     "metadata": {},
     "output_type": "execute_result"
    }
   ],
   "source": [
    "norm.cdf(35, 37, 1.5)\n",
    "# ¿cuál sería la probabilidad de tener 37 o menos?"
   ]
  },
  {
   "attachments": {},
   "cell_type": "markdown",
   "metadata": {},
   "source": [
    "Equivalentemente, en Python se puede integrar la pdf con integración numérica\n"
   ]
  },
  {
   "cell_type": "code",
   "execution_count": 32,
   "metadata": {},
   "outputs": [
    {
     "name": "stdout",
     "output_type": "stream",
     "text": [
      "Result of the integration: 0.09121121972586801\n",
      "Estimated error: 6.708159657636305e-10\n"
     ]
    }
   ],
   "source": [
    "from scipy.integrate import quad\n",
    "\n",
    "# Define the function to integrate\n",
    "def f(x, mean, sd):\n",
    "    return norm.pdf(x, mean, sd)\n",
    "\n",
    "# Perform numerical integration\n",
    "result, error = quad(f, 0, 35, args=(37, 1.5))\n",
    "\n",
    "print(f\"Result of the integration: {result}\")\n",
    "print(f\"Estimated error: {error}\")\n"
   ]
  }
 ],
 "metadata": {
  "kernelspec": {
   "display_name": "base",
   "language": "python",
   "name": "python3"
  },
  "language_info": {
   "codemirror_mode": {
    "name": "ipython",
    "version": 3
   },
   "file_extension": ".py",
   "mimetype": "text/x-python",
   "name": "python",
   "nbconvert_exporter": "python",
   "pygments_lexer": "ipython3",
   "version": "3.10.9"
  },
  "orig_nbformat": 4
 },
 "nbformat": 4,
 "nbformat_minor": 2
}
