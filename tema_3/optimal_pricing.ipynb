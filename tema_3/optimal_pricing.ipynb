{
 "cells": [
  {
   "cell_type": "code",
   "execution_count": 5,
   "id": "e6f04da5",
   "metadata": {},
   "outputs": [
    {
     "data": {
      "text/plain": [
       "0     7.958745\n",
       "1    12.559308\n",
       "2     9.232231\n",
       "3     7.872012\n",
       "4     5.510485\n",
       "Name: days, dtype: float64"
      ]
     },
     "execution_count": 5,
     "metadata": {},
     "output_type": "execute_result"
    }
   ],
   "source": [
    "from scipy.stats import norm, expon\n",
    "from scipy.optimize import minimize\n",
    "import matplotlib.pyplot as plt\n",
    "import numpy as np\n",
    "import pandas as pd\n",
    "\n",
    "url = \"https://raw.githubusercontent.com/jealcalat/AEM-ITESO/main/datasets/booking_days.csv\"\n",
    "\n",
    "data = pd.read_csv(url)['days']\n",
    "\n",
    "all_days = data.values"
   ]
  },
  {
   "cell_type": "code",
   "execution_count": 7,
   "id": "8610f2be",
   "metadata": {},
   "outputs": [
    {
     "data": {
      "image/png": "[encoded data removed]",
      "text/plain": [
       "<Figure size 640x480 with 1 Axes>"
      ]
     },
     "metadata": {},
     "output_type": "display_data"
    }
   ],
   "source": [
    "plt.hist(all_days, bins=90, density=True, color='blue');"
   ]
  },
  {
   "cell_type": "code",
   "execution_count": 9,
   "id": "96d3ca76",
   "metadata": {},
   "outputs": [
    {
     "data": {
      "text/plain": [
       "array([1.00750911e-01, 1.20729990e+02, 2.91308475e+01, 4.98810888e-01])"
      ]
     },
     "execution_count": 9,
     "metadata": {},
     "output_type": "execute_result"
    }
   ],
   "source": [
    " # definir la función de verosimilitud (log-verosim negativa)\n",
    "    \n",
    "def neg_log_mix(theta, all_days):\n",
    "    rate, mean, std, w = theta\n",
    "    l_exec = expon.pdf(all_days, scale=1/rate)\n",
    "    l_vaca = norm.pdf(all_days, mean, std)\n",
    "    mix = w * l_exec + (1-w) * l_vaca\n",
    "    log_mix = np.log(mix + 1e-90)\n",
    "    return -np.sum(log_mix)\n",
    "\n",
    "res = minimize(\n",
    "        neg_log_mix,\n",
    "        [0.1, 90, 10, 0.45],\n",
    "        bounds=[(0.0001, None),(5, 400), (1, 40), (0, 1)],\n",
    "        args=(all_days)\n",
    ")\n",
    "\n",
    "res.x"
   ]
  },
  {
   "cell_type": "code",
   "execution_count": null,
   "id": "33eef26e",
   "metadata": {},
   "outputs": [],
   "source": []
  }
 ],
 "metadata": {
  "kernelspec": {
   "display_name": "Python 3 (ipykernel)",
   "language": "python",
   "name": "python3"
  },
  "language_info": {
   "codemirror_mode": {
    "name": "ipython",
    "version": 3
   },
   "file_extension": ".py",
   "mimetype": "text/x-python",
   "name": "python",
   "nbconvert_exporter": "python",
   "pygments_lexer": "ipython3",
   "version": "3.9.13"
  }
 },
 "nbformat": 4,
 "nbformat_minor": 5
}
