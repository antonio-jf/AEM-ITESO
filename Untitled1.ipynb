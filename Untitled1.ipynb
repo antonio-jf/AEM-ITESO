{
 "cells": [
  {
   "cell_type": "code",
   "execution_count": 1,
   "id": "d329dab9",
   "metadata": {},
   "outputs": [],
   "source": [
    "from sympy import *"
   ]
  },
  {
   "cell_type": "code",
   "execution_count": 2,
   "id": "d91d9a18",
   "metadata": {},
   "outputs": [],
   "source": [
    "x, y, a, c = symbols('x y a c')"
   ]
  },
  {
   "cell_type": "code",
   "execution_count": 3,
   "id": "7f23cace",
   "metadata": {},
   "outputs": [
    {
     "data": {
      "text/latex": [
       "$\\displaystyle x^{2}$"
      ],
      "text/plain": [
       "x**2"
      ]
     },
     "execution_count": 3,
     "metadata": {},
     "output_type": "execute_result"
    }
   ],
   "source": [
    "fx = x**2\n",
    "fx"
   ]
  },
  {
   "cell_type": "code",
   "execution_count": 4,
   "id": "db491955",
   "metadata": {},
   "outputs": [
    {
     "data": {
      "text/latex": [
       "$\\displaystyle \\frac{8}{3}$"
      ],
      "text/plain": [
       "8/3"
      ]
     },
     "execution_count": 4,
     "metadata": {},
     "output_type": "execute_result"
    }
   ],
   "source": [
    "f_int = integrate(fx, (x, 0, 2))\n",
    "f_int"
   ]
  },
  {
   "cell_type": "code",
   "execution_count": 5,
   "id": "02c776d0",
   "metadata": {},
   "outputs": [
    {
     "data": {
      "text/latex": [
       "$\\displaystyle 2 x$"
      ],
      "text/plain": [
       "2*x"
      ]
     },
     "execution_count": 5,
     "metadata": {},
     "output_type": "execute_result"
    }
   ],
   "source": [
    "dx = diff(fx, x)\n",
    "dx"
   ]
  },
  {
   "cell_type": "code",
   "execution_count": 6,
   "id": "6edf2858",
   "metadata": {},
   "outputs": [
    {
     "data": {
      "text/latex": [
       "$\\displaystyle x e^{x}$"
      ],
      "text/plain": [
       "x*exp(x)"
      ]
     },
     "execution_count": 6,
     "metadata": {},
     "output_type": "execute_result"
    }
   ],
   "source": [
    "fx = x * exp(x)\n",
    "fx"
   ]
  },
  {
   "cell_type": "code",
   "execution_count": 7,
   "id": "7d032bef",
   "metadata": {},
   "outputs": [
    {
     "data": {
      "text/latex": [
       "$\\displaystyle 1$"
      ],
      "text/plain": [
       "1"
      ]
     },
     "execution_count": 7,
     "metadata": {},
     "output_type": "execute_result"
    }
   ],
   "source": [
    "fx_int = integrate(fx, (x, 0, 1))\n",
    "fx_int"
   ]
  },
  {
   "cell_type": "markdown",
   "id": "17bd272f",
   "metadata": {},
   "source": [
    "$$\n",
    "\\mathcal{N}(x\\mid \\mu, \\sigma^2)=  p(x) = \\frac{1}{\\sigma \\sqrt{2\\pi}} e\\left\\{\\frac{-(x-\\mu)^2}{2\\sigma^2}\\right\\} \\tag{10}\n",
    "$$"
   ]
  },
  {
   "cell_type": "code",
   "execution_count": 8,
   "id": "337b066e",
   "metadata": {},
   "outputs": [
    {
     "data": {
      "text/latex": [
       "$\\displaystyle \\frac{\\sqrt{2} e^{- \\frac{x^{2}}{2}}}{2 \\sqrt{\\pi}}$"
      ],
      "text/plain": [
       "sqrt(2)*exp(-x**2/2)/(2*sqrt(pi))"
      ]
     },
     "execution_count": 8,
     "metadata": {},
     "output_type": "execute_result"
    }
   ],
   "source": [
    "f_normal = (1/sqrt(2*pi)) * exp(-((x)**2)/2)\n",
    "f_normal"
   ]
  },
  {
   "cell_type": "code",
   "execution_count": 9,
   "id": "2924e885",
   "metadata": {},
   "outputs": [
    {
     "data": {
      "text/latex": [
       "$\\displaystyle \\operatorname{erf}{\\left(\\frac{\\sqrt{2}}{2} \\right)}$"
      ],
      "text/plain": [
       "erf(sqrt(2)/2)"
      ]
     },
     "execution_count": 9,
     "metadata": {},
     "output_type": "execute_result"
    }
   ],
   "source": [
    "fint = integrate(f_normal, (x, -1, 1))\n",
    "fint"
   ]
  },
  {
   "cell_type": "code",
   "execution_count": 10,
   "id": "2b8cd435",
   "metadata": {},
   "outputs": [
    {
     "data": {
      "text/latex": [
       "$\\displaystyle 0.5 x^{2}$"
      ],
      "text/plain": [
       "0.5*x**2"
      ]
     },
     "execution_count": 10,
     "metadata": {},
     "output_type": "execute_result"
    }
   ],
   "source": [
    "fx = (1/2)*x**2\n",
    "fx"
   ]
  },
  {
   "cell_type": "code",
   "execution_count": 11,
   "id": "d23441a7",
   "metadata": {},
   "outputs": [
    {
     "data": {
      "text/latex": [
       "$\\displaystyle 1.33333333333333$"
      ],
      "text/plain": [
       "1.33333333333333"
      ]
     },
     "execution_count": 11,
     "metadata": {},
     "output_type": "execute_result"
    }
   ],
   "source": [
    "integrate(fx, (x, 0, 2))"
   ]
  },
  {
   "cell_type": "code",
   "execution_count": 12,
   "id": "d4622857",
   "metadata": {},
   "outputs": [
    {
     "data": {
      "text/latex": [
       "$\\displaystyle 0.375 y^{2}$"
      ],
      "text/plain": [
       "0.375*y**2"
      ]
     },
     "execution_count": 12,
     "metadata": {},
     "output_type": "execute_result"
    }
   ],
   "source": [
    "fy = (3/8)*y**2\n",
    "fy"
   ]
  },
  {
   "cell_type": "code",
   "execution_count": null,
   "id": "628d68b2",
   "metadata": {},
   "outputs": [],
   "source": []
  },
  {
   "cell_type": "code",
   "execution_count": 13,
   "id": "3f114d89",
   "metadata": {},
   "outputs": [
    {
     "data": {
      "text/latex": [
       "$\\displaystyle 1.0$"
      ],
      "text/plain": [
       "1.00000000000000"
      ]
     },
     "execution_count": 13,
     "metadata": {},
     "output_type": "execute_result"
    }
   ],
   "source": [
    "integrate(fy, (y, 0, 2))"
   ]
  },
  {
   "cell_type": "code",
   "execution_count": 14,
   "id": "354f67bc",
   "metadata": {},
   "outputs": [],
   "source": [
    "import matplotlib.pyplot as plt\n",
    "import numpy as np"
   ]
  },
  {
   "cell_type": "code",
   "execution_count": 15,
   "id": "4ac44faf",
   "metadata": {},
   "outputs": [],
   "source": [
    "x = np.linspace(0, 2, 100)\n",
    "def fx(c, x):\n",
    "    return c * x**2"
   ]
  },
  {
   "cell_type": "code",
   "execution_count": 16,
   "id": "7c636775",
   "metadata": {},
   "outputs": [
    {
     "data": {
      "text/plain": [
       "<matplotlib.legend.Legend at 0x7f39ecbcad30>"
      ]
     },
     "execution_count": 16,
     "metadata": {},
     "output_type": "execute_result"
    },
    {
     "data": {
      "image/png": "[encoded data removed]",
      "text/plain": [
       "<Figure size 432x288 with 1 Axes>"
      ]
     },
     "metadata": {
      "needs_background": "light"
     },
     "output_type": "display_data"
    }
   ],
   "source": [
    "y1 = fx(c=3/8, x = x)\n",
    "y2 = fx(c=1/2, x=x)\n",
    "y3 = fx(c=5/8, x = x)\n",
    "plt.plot(x, y1, label = \"c=3/8\")\n",
    "plt.plot(x, y2, label = \"c=1/2\")\n",
    "plt.plot(x, y3, label = \"c=5/8\")\n",
    "plt.legend()"
   ]
  },
  {
   "cell_type": "markdown",
   "id": "a7191efd",
   "metadata": {},
   "source": [
    "Encontrar $P(1\\leq Y \\leq 2)$ dada la función de densidad $f(y)=\\frac{3}{8}y^2$.\n",
    "\n",
    "$$\n",
    "P(1\\leq Y \\leq 2) = \\int_1^2 f(y)dy\n",
    "$$"
   ]
  },
  {
   "cell_type": "code",
   "execution_count": 17,
   "id": "43f5d6c2",
   "metadata": {},
   "outputs": [
    {
     "data": {
      "text/latex": [
       "$\\displaystyle 0.875$"
      ],
      "text/plain": [
       "0.875000000000000"
      ]
     },
     "execution_count": 17,
     "metadata": {},
     "output_type": "execute_result"
    }
   ],
   "source": [
    "from sympy import *\n",
    "y = symbols('y')\n",
    "fy = 3/8 * y**2\n",
    "integrate(fy, (y, 1, 2)) # n-tupla: con respecto a y, entre 1 y 2"
   ]
  },
  {
   "cell_type": "code",
   "execution_count": 18,
   "id": "931cea09",
   "metadata": {},
   "outputs": [
    {
     "data": {
      "text/plain": [
       "0.875"
      ]
     },
     "execution_count": 18,
     "metadata": {},
     "output_type": "execute_result"
    }
   ],
   "source": [
    "7/8"
   ]
  },
  {
   "cell_type": "code",
   "execution_count": 19,
   "id": "7d072a5f",
   "metadata": {},
   "outputs": [
    {
     "name": "stderr",
     "output_type": "stream",
     "text": [
      "/home/alma/anaconda3/lib/python3.9/site-packages/scipy/__init__.py:146: UserWarning: A NumPy version >=1.16.5 and <1.23.0 is required for this version of SciPy (detected version 1.24.1\n",
      "  warnings.warn(f\"A NumPy version >={np_minversion} and <{np_maxversion}\"\n"
     ]
    },
    {
     "data": {
      "text/plain": [
       "(0.875, 9.71445146547012e-15)"
      ]
     },
     "execution_count": 19,
     "metadata": {},
     "output_type": "execute_result"
    }
   ],
   "source": [
    "from scipy.integrate import quad\n",
    "\n",
    "def fy(y):\n",
    "    return 3/8 * y**2\n",
    "\n",
    "quad(fy, a=1, b=2)"
   ]
  },
  {
   "cell_type": "markdown",
   "id": "6aafeee5",
   "metadata": {},
   "source": [
    "La normal está dada por\n",
    "\n",
    "$$\n",
    "f(x) = \\frac{1}{\\sigma \\sqrt{2\\pi}}\\exp\\{-\\frac{(x-\\mu)^2}{2\\sigma^2}\\}\n",
    "$$\n",
    "\n",
    "La temperatura promedio de una máquina es de 37 ºC, con una desviación estándar de 1.5 ºC. Suponiendo que la distribución de la temperatura pueder aproximada por una distribución normal, ¿qué tan probable es encontrar una temperatura de 35 ºC o menos?"
   ]
  },
  {
   "cell_type": "code",
   "execution_count": 20,
   "id": "fa36687e",
   "metadata": {},
   "outputs": [
    {
     "data": {
      "text/plain": [
       "0.022750131948179098"
      ]
     },
     "execution_count": 20,
     "metadata": {},
     "output_type": "execute_result"
    }
   ],
   "source": [
    "import numpy as np\n",
    "\n",
    "mu = 37\n",
    "std = 1.5\n",
    "\n",
    "def normal(x, mu, sigma):\n",
    "    return (1/(sigma * np.sqrt(2 * np.pi))) * np.exp(-(x - mu)**2/(2 * sigma**2))\n",
    "\n",
    "# quad(lambda x: normal(x, mu, std), -np.inf, 35)\n",
    "\n",
    "result, _ = quad(normal, -np.inf, 40, args=(mu, std))\n",
    "1 - result"
   ]
  },
  {
   "cell_type": "code",
   "execution_count": 21,
   "id": "941f1530",
   "metadata": {},
   "outputs": [
    {
     "data": {
      "text/plain": [
       "0.02275013194817921"
      ]
     },
     "execution_count": 21,
     "metadata": {},
     "output_type": "execute_result"
    }
   ],
   "source": [
    "from scipy.stats import norm\n",
    "\n",
    "result, _ = quad(norm.pdf, -np.inf, 40, args=(mu, std))\n",
    "1 - result"
   ]
  },
  {
   "cell_type": "code",
   "execution_count": 22,
   "id": "150cb896",
   "metadata": {},
   "outputs": [
    {
     "data": {
      "text/plain": [
       "0.02275013194817921"
      ]
     },
     "execution_count": 22,
     "metadata": {},
     "output_type": "execute_result"
    }
   ],
   "source": [
    "1 - norm.cdf(40, mu, std)"
   ]
  },
  {
   "cell_type": "markdown",
   "id": "02c573d7",
   "metadata": {},
   "source": [
    "Cuál será la probabilidad de que $35 \\leq X \\leq 39$"
   ]
  },
  {
   "cell_type": "code",
   "execution_count": 23,
   "id": "8ce7dfc5",
   "metadata": {},
   "outputs": [
    {
     "data": {
      "text/plain": [
       "0.8175775605482642"
      ]
     },
     "execution_count": 23,
     "metadata": {},
     "output_type": "execute_result"
    }
   ],
   "source": [
    "norm.cdf(39, mu, std) - norm.cdf(35, mu, std)"
   ]
  },
  {
   "cell_type": "code",
   "execution_count": 24,
   "id": "90ff597f",
   "metadata": {},
   "outputs": [
    {
     "data": {
      "text/plain": [
       "(0.8175775605482645, 9.076934321375512e-15)"
      ]
     },
     "execution_count": 24,
     "metadata": {},
     "output_type": "execute_result"
    }
   ],
   "source": [
    "quad(normal, 35, 39, args=(mu, std))"
   ]
  },
  {
   "cell_type": "code",
   "execution_count": 29,
   "id": "3fd06f44",
   "metadata": {},
   "outputs": [
    {
     "data": {
      "text/plain": [
       "array([[0.97889467, 2.04846732],\n",
       "       [2.04846732, 9.05134176]])"
      ]
     },
     "execution_count": 29,
     "metadata": {},
     "output_type": "execute_result"
    }
   ],
   "source": [
    "x = np.random.normal(0, 1, 100)\n",
    "y = x * 2 + 1.5 + np.random.normal(0, 2, 100)\n",
    "np.cov(x,y).T"
   ]
  },
  {
   "cell_type": "code",
   "execution_count": 26,
   "id": "3f49efc3",
   "metadata": {},
   "outputs": [
    {
     "data": {
      "text/plain": [
       "array([[1., 1.],\n",
       "       [1., 1.]])"
      ]
     },
     "execution_count": 26,
     "metadata": {},
     "output_type": "execute_result"
    }
   ],
   "source": [
    "np.corrcoef(x,y).T"
   ]
  },
  {
   "cell_type": "code",
   "execution_count": 27,
   "id": "d959d01d",
   "metadata": {},
   "outputs": [
    {
     "data": {
      "text/plain": [
       "<matplotlib.collections.PathCollection at 0x7f39e7d7ee80>"
      ]
     },
     "execution_count": 27,
     "metadata": {},
     "output_type": "execute_result"
    },
    {
     "data": {
      "image/png": "[encoded data removed]",
      "text/plain": [
       "<Figure size 432x288 with 1 Axes>"
      ]
     },
     "metadata": {
      "needs_background": "light"
     },
     "output_type": "display_data"
    }
   ],
   "source": [
    "import matplotlib.pyplot as plt\n",
    "plt.scatter(x, y)"
   ]
  },
  {
   "cell_type": "code",
   "execution_count": 39,
   "id": "49ca53ff",
   "metadata": {},
   "outputs": [
    {
     "data": {
      "text/plain": [
       "array([[-6.77695185e-01,  2.01469538e-01, -7.01460961e-01,\n",
       "         1.34460034e+00,  2.12452181e-02,  5.51098236e-02,\n",
       "         5.26503781e-01,  6.82808049e-02, -1.24948046e+00,\n",
       "        -9.76914432e-01, -8.80128299e-01,  8.25218411e-03,\n",
       "        -3.44602932e-01, -5.23237611e-01, -3.63361027e-01,\n",
       "        -5.48918345e-01, -3.34633482e-01, -8.17980994e-01,\n",
       "        -1.07217769e+00, -4.85058156e-01, -1.20246454e-01,\n",
       "         3.38097409e-01, -9.13049777e-01,  4.54563546e-01,\n",
       "        -7.50028229e-01,  8.66105847e-01,  6.19106903e-01,\n",
       "        -5.58948476e-01,  2.26473344e-01, -3.97674080e-01,\n",
       "        -3.54922974e-01,  1.47676192e+00,  2.32417710e-01,\n",
       "         5.70156567e-01, -8.48826240e-01, -4.49722909e-01,\n",
       "        -3.78060100e-01, -1.03804184e+00,  8.88074892e-01,\n",
       "        -3.44826197e+00, -5.01729888e-01, -3.57861563e-01,\n",
       "         2.28312169e-01,  2.34335449e+00, -4.03398542e-02,\n",
       "        -2.43412216e+00, -1.08803673e-01, -2.41044393e-02,\n",
       "        -1.19123128e+00,  6.40386276e-01, -2.27727630e+00,\n",
       "        -5.02258936e-01, -8.55675435e-01,  4.43871621e-02,\n",
       "         4.51396060e-01,  7.21657836e-01,  1.64873255e+00,\n",
       "         3.57329243e-01,  5.00469621e-01,  9.29868900e-01,\n",
       "         4.09043696e-01, -7.79038165e-01, -1.38810017e-01,\n",
       "        -1.06520975e+00,  8.77047156e-01,  8.39162415e-01,\n",
       "        -1.94223878e+00, -1.58275744e+00,  4.80554841e-01,\n",
       "        -1.00602953e+00, -2.19982444e+00,  5.87023565e-01,\n",
       "         6.60335775e-02, -5.05733510e-01, -2.79484554e-01,\n",
       "         1.47398718e+00,  9.82677867e-01, -2.64047951e-01,\n",
       "        -1.49245594e+00,  8.83628463e-01, -3.02373419e-01,\n",
       "         7.10030016e-01,  1.34031957e+00, -1.03460728e-01,\n",
       "         2.45864660e+00, -1.76457642e-01, -3.95659305e-01,\n",
       "        -2.53344299e-01, -1.21778007e+00, -5.51956081e-01,\n",
       "         4.34544061e-01,  1.88939157e+00, -1.19310513e+00,\n",
       "         2.43909796e-01,  1.68094574e+00, -1.83757364e-01,\n",
       "        -1.13323148e-01, -2.25784902e-01, -1.21654510e+00,\n",
       "        -1.08546536e+00],\n",
       "       [-5.63886089e-01,  4.65111685e+00, -3.27976029e-02,\n",
       "        -3.58675032e-01, -7.02473377e-01,  4.34867254e+00,\n",
       "         2.25150976e+00,  3.31760702e-01, -1.42983377e+00,\n",
       "         1.50908591e-01,  3.32904537e+00, -3.98450202e-01,\n",
       "         2.54616177e+00,  1.19335345e-01, -6.02186683e-03,\n",
       "         2.39735798e+00,  1.54161280e+00,  1.82458285e+00,\n",
       "        -2.75700725e+00,  1.74167603e+00,  7.45859896e+00,\n",
       "         2.55837112e+00, -3.16850531e+00,  2.25639496e+00,\n",
       "        -5.71629337e-01,  8.82867721e-01, -6.09056955e-01,\n",
       "        -4.64967222e-01,  2.45881668e+00,  4.50965899e+00,\n",
       "        -3.01626412e+00,  5.14290322e+00,  2.28867220e+00,\n",
       "        -1.12656169e+00,  2.17660106e+00, -2.70460038e+00,\n",
       "         5.46153120e+00, -1.34601680e+00,  3.38403795e+00,\n",
       "        -3.61638823e+00,  1.24913458e+00,  2.91672177e+00,\n",
       "         1.89500090e+00,  7.36945971e+00,  3.10843940e+00,\n",
       "        -6.04660277e+00, -1.63920144e+00,  4.26131739e+00,\n",
       "        -3.76676119e+00,  2.65245865e+00, -1.29735220e+00,\n",
       "        -5.85030414e-01, -1.15482369e+00,  1.05116381e+00,\n",
       "         3.09850779e+00,  5.06468788e+00,  8.63157736e+00,\n",
       "         2.20713121e+00,  1.30567482e+00,  4.97888054e+00,\n",
       "         3.18818616e+00, -1.33101365e+00,  7.83976093e-01,\n",
       "        -2.25673610e+00,  3.78555039e+00,  2.38054791e+00,\n",
       "        -3.10857698e+00, -3.52984961e+00,  2.34045489e+00,\n",
       "        -3.17163112e+00, -9.03064420e-01,  1.25317054e+00,\n",
       "         2.72513865e+00,  5.43786817e+00, -5.66957414e-01,\n",
       "         3.95539452e+00,  2.03016954e+00,  2.63318168e+00,\n",
       "        -1.65880144e+00,  1.87628992e+00,  7.39490167e-01,\n",
       "         2.97395280e+00,  4.57526786e+00, -2.69096013e+00,\n",
       "         1.26740111e+01, -1.55663749e+00,  5.38433991e-01,\n",
       "         2.52028449e+00,  8.29588745e-02, -2.01971691e-01,\n",
       "         5.62020301e+00,  4.15994539e+00,  6.97452220e-01,\n",
       "        -5.02183961e-01,  5.36372233e+00, -9.73937951e-01,\n",
       "         4.18176147e+00,  3.02204895e+00,  2.40184920e+00,\n",
       "        -1.65715641e+00]])"
      ]
     },
     "execution_count": 39,
     "metadata": {},
     "output_type": "execute_result"
    }
   ],
   "source": [
    "X = np.array([x,y])\n",
    "MU = np.mean(X, axis=0)\n",
    "SIGMA_inv = np.linalg.inv(np.cov(x,y))\n",
    "X"
   ]
  },
  {
   "cell_type": "code",
   "execution_count": 38,
   "id": "950cbde6",
   "metadata": {},
   "outputs": [
    {
     "data": {
      "text/plain": [
       "array([[ 9.80803637e-03,  3.83469372e-01,  5.76252230e-02, ...,\n",
       "         2.79897421e-01,  3.11832218e-01, -4.92681768e-02],\n",
       "       [ 3.83469372e-01,  1.49926809e+01,  2.25300022e+00, ...,\n",
       "         1.09432800e+01,  1.21918497e+01, -1.92626088e+00],\n",
       "       [ 5.76252230e-02,  2.25300022e+00,  3.38565865e-01, ...,\n",
       "         1.64448323e+00,  1.83210996e+00, -2.89465655e-01],\n",
       "       ...,\n",
       "       [ 2.79897421e-01,  1.09432800e+01,  1.64448323e+00, ...,\n",
       "         7.98758930e+00,  8.89893047e+00, -1.40599352e+00],\n",
       "       [ 3.11832218e-01,  1.21918497e+01,  1.83210996e+00, ...,\n",
       "         8.89893047e+00,  9.91425079e+00, -1.56640986e+00],\n",
       "       [-4.92681768e-02, -1.92626088e+00, -2.89465655e-01, ...,\n",
       "        -1.40599352e+00, -1.56640986e+00,  2.47486158e-01]])"
      ]
     },
     "execution_count": 38,
     "metadata": {},
     "output_type": "execute_result"
    }
   ],
   "source": [
    "diff_vector = X - MU\n",
    "md = np.dot(np.dot(diff_vector.T, SIGMA_inv), diff_vector)\n",
    "md"
   ]
  },
  {
   "cell_type": "code",
   "execution_count": null,
   "id": "612cc080",
   "metadata": {},
   "outputs": [],
   "source": [
    "from scipy.spatial.distance import mahalanobis\n",
    "sigma = np.cov(x, y)\n",
    "p1 = [1, 0]\n",
    "mahalanobis(p1, MU, SIGMA_inv)"
   ]
  },
  {
   "cell_type": "code",
   "execution_count": null,
   "id": "581aa26f",
   "metadata": {},
   "outputs": [],
   "source": [
    "teoria de decision estadistica"
   ]
  }
 ],
 "metadata": {
  "kernelspec": {
   "display_name": "Python 3 (ipykernel)",
   "language": "python",
   "name": "python3"
  },
  "language_info": {
   "codemirror_mode": {
    "name": "ipython",
    "version": 3
   },
   "file_extension": ".py",
   "mimetype": "text/x-python",
   "name": "python",
   "nbconvert_exporter": "python",
   "pygments_lexer": "ipython3",
   "version": "3.9.12"
  }
 },
 "nbformat": 4,
 "nbformat_minor": 5
}
