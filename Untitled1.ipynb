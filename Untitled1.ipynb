{
 "cells": [
  {
   "cell_type": "code",
   "execution_count": 2,
   "id": "d329dab9",
   "metadata": {},
   "outputs": [],
   "source": [
    "from sympy import *"
   ]
  },
  {
   "cell_type": "code",
   "execution_count": 5,
   "id": "d91d9a18",
   "metadata": {},
   "outputs": [],
   "source": [
    "x, y, a, c = symbols('x y a c')"
   ]
  },
  {
   "cell_type": "code",
   "execution_count": 8,
   "id": "7f23cace",
   "metadata": {},
   "outputs": [
    {
     "data": {
      "text/latex": [
       "$\\displaystyle x^{2}$"
      ],
      "text/plain": [
       "x**2"
      ]
     },
     "execution_count": 8,
     "metadata": {},
     "output_type": "execute_result"
    }
   ],
   "source": [
    "fx = x**2\n",
    "fx"
   ]
  },
  {
   "cell_type": "code",
   "execution_count": 9,
   "id": "db491955",
   "metadata": {},
   "outputs": [
    {
     "data": {
      "text/latex": [
       "$\\displaystyle \\frac{8}{3}$"
      ],
      "text/plain": [
       "8/3"
      ]
     },
     "execution_count": 9,
     "metadata": {},
     "output_type": "execute_result"
    }
   ],
   "source": [
    "f_int = integrate(fx, (x, 0, 2))\n",
    "f_int"
   ]
  },
  {
   "cell_type": "code",
   "execution_count": 10,
   "id": "02c776d0",
   "metadata": {},
   "outputs": [
    {
     "data": {
      "text/latex": [
       "$\\displaystyle 2 x$"
      ],
      "text/plain": [
       "2*x"
      ]
     },
     "execution_count": 10,
     "metadata": {},
     "output_type": "execute_result"
    }
   ],
   "source": [
    "dx = diff(fx, x)\n",
    "dx"
   ]
  },
  {
   "cell_type": "code",
   "execution_count": 11,
   "id": "6edf2858",
   "metadata": {},
   "outputs": [
    {
     "data": {
      "text/latex": [
       "$\\displaystyle x e^{x}$"
      ],
      "text/plain": [
       "x*exp(x)"
      ]
     },
     "execution_count": 11,
     "metadata": {},
     "output_type": "execute_result"
    }
   ],
   "source": [
    "fx = x * exp(x)\n",
    "fx"
   ]
  },
  {
   "cell_type": "code",
   "execution_count": 12,
   "id": "7d032bef",
   "metadata": {},
   "outputs": [
    {
     "data": {
      "text/latex": [
       "$\\displaystyle 1$"
      ],
      "text/plain": [
       "1"
      ]
     },
     "execution_count": 12,
     "metadata": {},
     "output_type": "execute_result"
    }
   ],
   "source": [
    "fx_int = integrate(fx, (x, 0, 1))\n",
    "fx_int"
   ]
  },
  {
   "cell_type": "markdown",
   "id": "17bd272f",
   "metadata": {},
   "source": [
    "$$\n",
    "\\mathcal{N}(x\\mid \\mu, \\sigma^2)=  p(x) = \\frac{1}{\\sigma \\sqrt{2\\pi}} e\\left\\{\\frac{-(x-\\mu)^2}{2\\sigma^2}\\right\\} \\tag{10}\n",
    "$$"
   ]
  },
  {
   "cell_type": "code",
   "execution_count": 13,
   "id": "337b066e",
   "metadata": {},
   "outputs": [
    {
     "data": {
      "text/latex": [
       "$\\displaystyle \\frac{\\sqrt{2} e^{- \\frac{x^{2}}{2}}}{2 \\sqrt{\\pi}}$"
      ],
      "text/plain": [
       "sqrt(2)*exp(-x**2/2)/(2*sqrt(pi))"
      ]
     },
     "execution_count": 13,
     "metadata": {},
     "output_type": "execute_result"
    }
   ],
   "source": [
    "f_normal = (1/sqrt(2*pi)) * exp(-((x)**2)/2)\n",
    "f_normal"
   ]
  },
  {
   "cell_type": "code",
   "execution_count": 21,
   "id": "2924e885",
   "metadata": {},
   "outputs": [
    {
     "data": {
      "text/latex": [
       "$\\displaystyle \\operatorname{erf}{\\left(\\frac{\\sqrt{2}}{2} \\right)}$"
      ],
      "text/plain": [
       "erf(sqrt(2)/2)"
      ]
     },
     "execution_count": 21,
     "metadata": {},
     "output_type": "execute_result"
    }
   ],
   "source": [
    "fint = integrate(f_normal, (x, -1, 1))\n",
    "fint"
   ]
  },
  {
   "cell_type": "code",
   "execution_count": 22,
   "id": "2b8cd435",
   "metadata": {},
   "outputs": [
    {
     "data": {
      "text/latex": [
       "$\\displaystyle 0.5 x^{2}$"
      ],
      "text/plain": [
       "0.5*x**2"
      ]
     },
     "execution_count": 22,
     "metadata": {},
     "output_type": "execute_result"
    }
   ],
   "source": [
    "fx = (1/2)*x**2\n",
    "fx"
   ]
  },
  {
   "cell_type": "code",
   "execution_count": 24,
   "id": "d23441a7",
   "metadata": {},
   "outputs": [
    {
     "data": {
      "text/latex": [
       "$\\displaystyle 1.33333333333333$"
      ],
      "text/plain": [
       "1.33333333333333"
      ]
     },
     "execution_count": 24,
     "metadata": {},
     "output_type": "execute_result"
    }
   ],
   "source": [
    "integrate(fx, (x, 0, 2))"
   ]
  },
  {
   "cell_type": "code",
   "execution_count": 23,
   "id": "d4622857",
   "metadata": {},
   "outputs": [
    {
     "data": {
      "text/latex": [
       "$\\displaystyle 0.375 y^{2}$"
      ],
      "text/plain": [
       "0.375*y**2"
      ]
     },
     "execution_count": 23,
     "metadata": {},
     "output_type": "execute_result"
    }
   ],
   "source": [
    "fy = (3/8)*y**2\n",
    "fy"
   ]
  },
  {
   "cell_type": "code",
   "execution_count": null,
   "id": "628d68b2",
   "metadata": {},
   "outputs": [],
   "source": []
  },
  {
   "cell_type": "code",
   "execution_count": 36,
   "id": "3f114d89",
   "metadata": {},
   "outputs": [
    {
     "data": {
      "text/latex": [
       "$\\displaystyle 1.125$"
      ],
      "text/plain": [
       "1.12500000000000"
      ]
     },
     "execution_count": 36,
     "metadata": {},
     "output_type": "execute_result"
    }
   ],
   "source": [
    "integrate(fy, (y, 0, 2))"
   ]
  },
  {
   "cell_type": "code",
   "execution_count": 27,
   "id": "354f67bc",
   "metadata": {},
   "outputs": [],
   "source": [
    "import matplotlib.pyplot as plt\n",
    "import numpy as np"
   ]
  },
  {
   "cell_type": "code",
   "execution_count": 31,
   "id": "4ac44faf",
   "metadata": {},
   "outputs": [],
   "source": [
    "x = np.linspace(0, 2, 100)\n",
    "def fx(c, x):\n",
    "    return c * x**2"
   ]
  },
  {
   "cell_type": "code",
   "execution_count": 35,
   "id": "7c636775",
   "metadata": {},
   "outputs": [
    {
     "data": {
      "text/plain": [
       "<matplotlib.legend.Legend at 0x7fb0ff302740>"
      ]
     },
     "execution_count": 35,
     "metadata": {},
     "output_type": "execute_result"
    },
    {
     "data": {
      "image/png": "[encoded data removed]",
      "text/plain": [
       "<Figure size 640x480 with 1 Axes>"
      ]
     },
     "metadata": {},
     "output_type": "display_data"
    }
   ],
   "source": [
    "y1 = fx(c=3/8, x = x)\n",
    "y2 = fx(c=1/2, x=x)\n",
    "y3 = fx(c=5/8, x = x)\n",
    "plt.plot(x, y1, label = \"c=3/8\")\n",
    "plt.plot(x, y2, label = \"c=1/2\")\n",
    "plt.plot(x, y3, label = \"c=5/8\")\n",
    "plt.legend()"
   ]
  },
  {
   "cell_type": "code",
   "execution_count": null,
   "id": "11858a27",
   "metadata": {},
   "outputs": [],
   "source": []
  }
 ],
 "metadata": {
  "kernelspec": {
   "display_name": "Python 3 (ipykernel)",
   "language": "python",
   "name": "python3"
  },
  "language_info": {
   "codemirror_mode": {
    "name": "ipython",
    "version": 3
   },
   "file_extension": ".py",
   "mimetype": "text/x-python",
   "name": "python",
   "nbconvert_exporter": "python",
   "pygments_lexer": "ipython3",
   "version": "3.10.9"
  }
 },
 "nbformat": 4,
 "nbformat_minor": 5
}
