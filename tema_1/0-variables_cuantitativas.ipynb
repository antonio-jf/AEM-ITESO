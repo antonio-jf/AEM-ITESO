{
 "cells": [
  {
   "attachments": {},
   "cell_type": "markdown",
   "metadata": {},
   "source": [
    "# Tema 0. Estadística descriptiva\n",
    "\n",
    "En la jerga de DS por *variable* vamos a entender la medición de una *característica* o *atributo*. Ejemplos de variables son: edad, peso, longitud, latitud, precio, ingreso, etc.\n",
    "\n",
    "## Clasificaciones de variables\n",
    "\n",
    "Las variables pueden ser clasificadas por su representación numérica, o por cómo son *medidas* (es decir, cómo son asignados números a los atributos de acuerdo a una regla, su escala de medición). Las variables también pueden ser clasificadas de acuerdo a cómo están asociadas unas con otras. \n",
    "\n",
    "---\n",
    "\n",
    "Esta es una clasificación de acuerdo a su representación numérica. Las variables discretas son contables infintas (pueden sear asignados números naturales $\\mathbb{N}=\\{1, 2, 3, \\dots\\}$). Las variables continuas son incontables infinitas (pueden ser asignadas a los números reales $\\mathbb{R}$).\n",
    "\n",
    "<figure>\n",
    "<p align=\"center\">\n",
    "  <img src=\"img/variable_types.png\" width='50%' />\n",
    "      <figcaption>\n",
    "      <p align=\"center\"> Tipos de variables (tomada de OpenInstro Statistics)</p>\n",
    "      </figcaption>\n",
    "</p>\n",
    "</figure>\n",
    "\n",
    "Las variables categóricas podrían considerarse un tipo de variable discreta, pero no es del todo cierto. Las variables categóricas no tienen porqué seguir un orden en particular ni ser asignadas a un subconjunto de números. Por ejemplo, la variable sexo puede ser tan bien representada por (0, 1) como por (1, 2). La variable ordinal Nivel educativo puede ser tan bien representada con (0, 1, 2, 3) como por (1,2, 3, 4) etc.\n",
    "\n",
    "---\n",
    "\n",
    "De acuerdo a su nivel de medición, pueden ser clasificadas como nominales, ordinales, de intervalo y de razón. \n",
    "\n",
    "Las **variables con escala nominal** no tienen una correspondencia numérica específica. Se les asignan números solo para identificarlas. Las operaciones aritméticas de suma, resta, multiplicación, división, etc, no tienen sentido, porque el número que se les asigna no implica más o menos cantidad de su atributo. La única operación permitida es la de conteo, su estadística descriptiva se hace con frecuencias y porcentajes.\n",
    "\n",
    "Las **variables en escala ordinal** tampoco tienen una correspondencia, siempre y cuando sean asignados valores que preserven el orden de rango. No pueden describir grados de diferencia ni magnitud relativa entre dos observaciones con diferente orden. Por ejemplo, Alberto califica de bueno un libro que Luis calificó con de malo en una escala de $\\{\\text{pésimo, malo, regular, bueno, excelente}\\}$. No podemos decir que el libro fue doblemente bueno para Alberto que para Luis. También se pueden describir con frecuencias y porcentajes, pero además con mediana y rango.\n",
    "\n",
    "Las **las variables en escala de intervalo** sí tienen una correspondencia precisa que debe preservar orden y magnitud. Se puede sumar y restar con valores en esta escala, pero no dividir ni multiplicar. El 0 es arbitrario (como en los grados Celcius) por lo que un 0 no implica ausencia del atributo, y no se puede decir que 20 °C es el doble de caliente que 10 °C. Todo intervalo en una escala de intervalo es igual que otro intervalo en la escala: $15-10=30 - 25$. Sus estadísticos descriptivos son media, desviación estándar, varianza (y por extensión mediana y rango).\n",
    "\n",
    "Las **variables en escala de razón** tienen todas las propiedades de las intervalares (conservan orden y magnitud), además de un 0 verdadero, en el que el 0 sí significa una ausencia de magnitud. Se puede sumar, restar, dividir y multiplicar en estas escalas. Pueden expresar magnitudes relativas (e.g., 4 metros es el doble de 2 metros). Sus estadísticos descriptivos, además de media, desviación estándar, varianza, mediana y rango, son la media geométrica, coeficiente de variación.\n",
    "\n",
    "## Estadísticos descriptivos\n",
    "\n",
    "La estadística se divide clásicamente en dos grandes ramas: la descriptiva y la inferencial (a su vez en estimación y prueba de hipótesis). La estadística descriptiva se ocupa de resumir y visualizar los datos, mientras que la inferencial se ocupa de hacer inferencias sobre la población a partir de una muestra. Existen dos tipos de estadísticos descriptivos: los de locación y los de dispersión.\n",
    "\n",
    "### De locación\n",
    "\n",
    "Encontrar valores típicos o centrales que describan bien los datos.\n",
    "\n",
    "- Media: $\\bar Y = \\sum_{i=1}^N Y_i/N$\n",
    "- Mediana: $\\tilde{Y} = Y_{[N+1]/2}$ si $N$ es impar; $\\tilde{Y} = (Y_{[N]/2} + Y_{[N/2 + 1]})/2$ si $N$ es par.\n",
    "- Moda: el valor más frecuente en los datos. No siempre existe, y puede haber más de una moda.\n",
    "\n"
   ]
  },
  {
   "attachments": {},
   "cell_type": "markdown",
   "metadata": {},
   "source": [
    "### De dispersión\n",
    "\n",
    "- Rango intercuartílico, IQR: $Q_3 - Q_1$. \n",
    "- Varianza: $s^2=\\frac{1}{n-1}\\sum_{i=1}^n (y_i - \\bar y)^2$\n",
    "- Desviación estándar: $s = \\sqrt{s}$,\n",
    "- Desviación media absoluta: $\\text{MAD} = \\frac{1}{n-1}\\sum_{i=1}^n \\mid y_i - \\bar y\\mid$\n",
    "- Rango: $\\max(y) - \\min(y)$"
   ]
  },
  {
   "attachments": {},
   "cell_type": "markdown",
   "metadata": {},
   "source": [
    "En las siguientes celdas vamos a calcular estos estadísticos en Python. Para instalar Python, recomiendo la distribución Anaconda, que incluye Jupyter Notebook, Python y muchas librerías de análisis de datos. \n",
    "\n",
    "1. Para instalar Anaconda, sigan las instrucciones [aquí](https://github.com/jealcalat/python4da/blob/main/intro.md).\n",
    "2. Para empezar a usar Jupyter Notebook, sigan las instrucciones [aquí](https://www.youtube.com/watch?v=Xws9V34-CFo&ab_channel=PabloPaniagua), y para una introducción muy básica a lo que necesitaremos de Python, consulta [aquí](https://github.com/jealcalat/python4da/blob/main/nbs/pt1_intro_python.ipynb).\n",
    "3. El uso de las librerías NumPy, Pandas y Matplotlib se explica [aquí](https://github.com/jealcalat/python4da/blob/main/nbs/pt2_numpy-pandas-matplotlib.ipynb).\n"
   ]
  },
  {
   "cell_type": "code",
   "execution_count": 28,
   "metadata": {},
   "outputs": [],
   "source": [
    "import pandas as pd\n",
    "import seaborn as sns\n",
    "from collections import Counter\n",
    "\n",
    "# media\n",
    "def mean_fun(x):\n",
    "    return sum(x) / len(x)\n",
    "\n",
    "# mediana\n",
    "def median_fun(x):\n",
    "    x.sort()\n",
    "    N = len(x)\n",
    "    if N % 2 == 0:\n",
    "        return (x[int(N / 2)] + x[int((N - 1) / 2)]) / 2\n",
    "    else:\n",
    "        return x[int((N - 1) / 2)]\n",
    "\n",
    "# moda\n",
    "def mode_fun(x):\n",
    "    n = len(x)\n",
    "    data = Counter(x)\n",
    "    get_mode = dict(data)\n",
    "    mode = [k for k, v in get_mode.items() if v == max(list(data.values()))]\n",
    "    return mode[0]\n",
    "\n",
    "# varianza\n",
    "def var_fun(x):\n",
    "    n = len(x)\n",
    "    mean_x = sum(x) / n\n",
    "    return sum([(i - mean_x) ** 2 for i in x]) / (n - 1)\n",
    "\n",
    "# desviación estándar\n",
    "\n",
    "def std_fun(x):\n",
    "    var_x = var_fun(x)\n",
    "    return var_x ** 0.5\n",
    "\n",
    "# desviación absoluta media\n",
    "def mad_fun(x):\n",
    "    n = len(x)\n",
    "    mean_x = sum(x) / n\n",
    "    ab_dev = [abs(i - mean_x) for i in x]\n",
    "    return (1/n) * sum(ab_dev)\n",
    "\n",
    "# rango\n",
    "\n",
    "def range_fun(x):\n",
    "    x.sort() # ordena la lista de menor a mayor\n",
    "    return x[-1] - x[0]\n",
    "\n"
   ]
  },
  {
   "attachments": {},
   "cell_type": "markdown",
   "metadata": {},
   "source": [
    "Ejercicio:\n",
    "\n",
    "$x=(9, 10, 11, 11, 12, 14, 16, 17, 19, 21, 25, 31, 32, 41, 61)$\n",
    "\n",
    "Obtener:\n",
    "media, mediana, Q1, Q3, IQR, MAD y desviación estándar."
   ]
  },
  {
   "cell_type": "code",
   "execution_count": 29,
   "metadata": {},
   "outputs": [
    {
     "name": "stdout",
     "output_type": "stream",
     "text": [
      "Media:  22.0\n",
      "Mediana:  17\n",
      "Moda:  11\n",
      "Varianza:  204.42857142857142\n",
      "Desviación estándar:  14.297851986524808\n",
      "Desviación absoluta media:  10.666666666666666\n",
      "Rango:  52\n"
     ]
    }
   ],
   "source": [
    "x = [9, 10, 11, 11, 12, 14, 16, 17, 19, 21, 25, 31, 32, 41, 61]\n",
    "\n",
    "print(\"Media: \", mean_fun(x))\n",
    "print(\"Mediana: \", median_fun(x))\n",
    "print(\"Moda: \", mode_fun(x))\n",
    "print(\"Varianza: \", var_fun(x))\n",
    "print(\"Desviación estándar: \", std_fun(x))\n",
    "print(\"Desviación absoluta media: \", mad_fun(x))\n",
    "print(\"Rango: \", range_fun(x))"
   ]
  },
  {
   "cell_type": "code",
   "execution_count": 31,
   "metadata": {},
   "outputs": [
    {
     "name": "stderr",
     "output_type": "stream",
     "text": [
      "/home/mrrobot/anaconda3/lib/python3.9/site-packages/seaborn/_decorators.py:36: FutureWarning: Pass the following variable as a keyword arg: x. From version 0.12, the only valid positional argument will be `data`, and passing other arguments without an explicit keyword will result in an error or misinterpretation.\n",
      "  warnings.warn(\n"
     ]
    },
    {
     "data": {
      "text/plain": [
       "<AxesSubplot:>"
      ]
     },
     "execution_count": 31,
     "metadata": {},
     "output_type": "execute_result"
    },
    {
     "data": {
      "image/png": "[encoded data removed]",
      "text/plain": [
       "<Figure size 640x480 with 1 Axes>"
      ]
     },
     "metadata": {},
     "output_type": "display_data"
    }
   ],
   "source": [
    "sns.boxplot(x)"
   ]
  },
  {
   "cell_type": "code",
   "execution_count": null,
   "metadata": {},
   "outputs": [
    {
     "data": {
      "text/plain": [
       "<AxesSubplot:ylabel='Count'>"
      ]
     },
     "execution_count": 14,
     "metadata": {},
     "output_type": "execute_result"
    },
    {
     "data": {
      "image/png": "[encoded data removed]",
      "text/plain": [
       "<Figure size 640x480 with 1 Axes>"
      ]
     },
     "metadata": {},
     "output_type": "display_data"
    }
   ],
   "source": [
    "sns.histplot(x, bins=10, kde=True)"
   ]
  },
  {
   "attachments": {},
   "cell_type": "markdown",
   "metadata": {},
   "source": [
    "Ejercicio:\n",
    "\n",
    "Descargar el conjunto de datos de Iris y calcular los estadísticos descriptivos de las variables numéricas."
   ]
  },
  {
   "cell_type": "code",
   "execution_count": null,
   "metadata": {},
   "outputs": [
    {
     "name": "stdout",
     "output_type": "stream",
     "text": [
      "Media: 5.843333333333335\n",
      "Mediana: 5.8\n",
      "Moda: [5.0]\n",
      "Desviación media absoluta: 0.6875555555555557\n"
     ]
    }
   ],
   "source": [
    "\n",
    "# Cargamos el conjunto de datos\n",
    "iris = sns.load_dataset('iris')\n",
    "\n",
    "# Seleccionamos una columna para hacer los cálculos\n",
    "column = iris['sepal_length'].tolist()\n",
    "\n",
    "print(\"Media:\", mean_fun(column))\n",
    "print(\"Mediana:\", median_fun(column))\n",
    "print(\"Moda:\", mode_fun(column))\n",
    "print(\"Desviación media absoluta:\", mad_fun(column))"
   ]
  },
  {
   "attachments": {},
   "cell_type": "markdown",
   "metadata": {},
   "source": [
    "Lo mismo se puede hacer con la función `describe()` de Pandas, que lo hace todo de una vez."
   ]
  },
  {
   "cell_type": "code",
   "execution_count": null,
   "metadata": {},
   "outputs": [
    {
     "data": {
      "text/html": [
       "<div>\n",
       "<style scoped>\n",
       "    .dataframe tbody tr th:only-of-type {\n",
       "        vertical-align: middle;\n",
       "    }\n",
       "\n",
       "    .dataframe tbody tr th {\n",
       "        vertical-align: top;\n",
       "    }\n",
       "\n",
       "    .dataframe thead th {\n",
       "        text-align: right;\n",
       "    }\n",
       "</style>\n",
       "<table border=\"1\" class=\"dataframe\">\n",
       "  <thead>\n",
       "    <tr style=\"text-align: right;\">\n",
       "      <th></th>\n",
       "      <th>sepal_length</th>\n",
       "      <th>sepal_width</th>\n",
       "      <th>petal_length</th>\n",
       "      <th>petal_width</th>\n",
       "    </tr>\n",
       "  </thead>\n",
       "  <tbody>\n",
       "    <tr>\n",
       "      <th>count</th>\n",
       "      <td>150.000000</td>\n",
       "      <td>150.000000</td>\n",
       "      <td>150.000000</td>\n",
       "      <td>150.000000</td>\n",
       "    </tr>\n",
       "    <tr>\n",
       "      <th>mean</th>\n",
       "      <td>5.843333</td>\n",
       "      <td>3.057333</td>\n",
       "      <td>3.758000</td>\n",
       "      <td>1.199333</td>\n",
       "    </tr>\n",
       "    <tr>\n",
       "      <th>std</th>\n",
       "      <td>0.828066</td>\n",
       "      <td>0.435866</td>\n",
       "      <td>1.765298</td>\n",
       "      <td>0.762238</td>\n",
       "    </tr>\n",
       "    <tr>\n",
       "      <th>min</th>\n",
       "      <td>4.300000</td>\n",
       "      <td>2.000000</td>\n",
       "      <td>1.000000</td>\n",
       "      <td>0.100000</td>\n",
       "    </tr>\n",
       "    <tr>\n",
       "      <th>25%</th>\n",
       "      <td>5.100000</td>\n",
       "      <td>2.800000</td>\n",
       "      <td>1.600000</td>\n",
       "      <td>0.300000</td>\n",
       "    </tr>\n",
       "    <tr>\n",
       "      <th>50%</th>\n",
       "      <td>5.800000</td>\n",
       "      <td>3.000000</td>\n",
       "      <td>4.350000</td>\n",
       "      <td>1.300000</td>\n",
       "    </tr>\n",
       "    <tr>\n",
       "      <th>75%</th>\n",
       "      <td>6.400000</td>\n",
       "      <td>3.300000</td>\n",
       "      <td>5.100000</td>\n",
       "      <td>1.800000</td>\n",
       "    </tr>\n",
       "    <tr>\n",
       "      <th>max</th>\n",
       "      <td>7.900000</td>\n",
       "      <td>4.400000</td>\n",
       "      <td>6.900000</td>\n",
       "      <td>2.500000</td>\n",
       "    </tr>\n",
       "  </tbody>\n",
       "</table>\n",
       "</div>"
      ],
      "text/plain": [
       "       sepal_length  sepal_width  petal_length  petal_width\n",
       "count    150.000000   150.000000    150.000000   150.000000\n",
       "mean       5.843333     3.057333      3.758000     1.199333\n",
       "std        0.828066     0.435866      1.765298     0.762238\n",
       "min        4.300000     2.000000      1.000000     0.100000\n",
       "25%        5.100000     2.800000      1.600000     0.300000\n",
       "50%        5.800000     3.000000      4.350000     1.300000\n",
       "75%        6.400000     3.300000      5.100000     1.800000\n",
       "max        7.900000     4.400000      6.900000     2.500000"
      ]
     },
     "execution_count": 19,
     "metadata": {},
     "output_type": "execute_result"
    }
   ],
   "source": [
    "import pandas as pd\n",
    "\n",
    "iris.describe()"
   ]
  },
  {
   "cell_type": "code",
   "execution_count": null,
   "metadata": {},
   "outputs": [
    {
     "data": {
      "text/plain": [
       "<AxesSubplot:ylabel='Count'>"
      ]
     },
     "execution_count": 10,
     "metadata": {},
     "output_type": "execute_result"
    },
    {
     "data": {
      "image/png": "[encoded data removed]",
      "text/plain": [
       "<Figure size 640x480 with 1 Axes>"
      ]
     },
     "metadata": {},
     "output_type": "display_data"
    }
   ],
   "source": [
    "sns.histplot(column, kde=True)"
   ]
  },
  {
   "attachments": {},
   "cell_type": "markdown",
   "metadata": {},
   "source": [
    "Tarea 1:\n",
    "\n",
    "1. Descargar el conjunto de datos `winequality-red.csv`. Se puede descargar desde [aquí](https://archive.ics.uci.edu/dataset/186/wine+quality).\n",
    "2. Indicar cuáles son las variables numéricas y cuáles son las categóricas.\n",
    "3. Calcular los estadísticos descriptivos para la variable alcohol. Separarlos por estadísticos de tendencia central y de dispersión. Nota: ver cómo seleccioné una variable en el ejercicio de Iris."
   ]
  }
 ],
 "metadata": {
  "kernelspec": {
   "display_name": "base",
   "language": "python",
   "name": "python3"
  },
  "language_info": {
   "codemirror_mode": {
    "name": "ipython",
    "version": 3
   },
   "file_extension": ".py",
   "mimetype": "text/x-python",
   "name": "python",
   "nbconvert_exporter": "python",
   "pygments_lexer": "ipython3",
   "version": "3.9.13"
  },
  "orig_nbformat": 4
 },
 "nbformat": 4,
 "nbformat_minor": 2
}
